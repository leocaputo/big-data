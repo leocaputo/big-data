{
 "cells": [
  {
   "cell_type": "code",
   "execution_count": 8,
   "metadata": {},
   "outputs": [],
   "source": [
    "#Fundamentos em Big Data\n",
    "#Tarefa 01\n",
    "#Aluno: Leandro Ariel Caputo\n",
    "#28/01/21"
   ]
  },
  {
   "cell_type": "code",
   "execution_count": 9,
   "metadata": {},
   "outputs": [],
   "source": [
    "#SETUP"
   ]
  },
  {
   "cell_type": "code",
   "execution_count": 10,
   "metadata": {},
   "outputs": [],
   "source": [
    "from threading import Thread\n",
    "import random\n",
    "import math\n",
    "import numpy as np\n",
    "import threading\n",
    "import time"
   ]
  },
  {
   "cell_type": "code",
   "execution_count": 11,
   "metadata": {},
   "outputs": [],
   "source": [
    "def Input_for_matrix_dimensions():\n",
    "    global dimension_N\n",
    "    global num_of_threads\n",
    "    \n",
    "    dimension_N = int(input(\"Enter the number N to generate NxN matrix : \"))\n",
    "    num_of_threads = int(input(\"Enter the number of threads : \"))"
   ]
  },
  {
   "cell_type": "code",
   "execution_count": 12,
   "metadata": {},
   "outputs": [],
   "source": [
    "def Initialize_Matrix():\n",
    "    global Matrix_A\n",
    "    global Matrix_B\n",
    "    global Matrix_C\n",
    "    #for i in range(0,dimension_N):\n",
    "    #    Matrix_A.append([random.randint(1,5) for i in range(0,dimension_N)])\n",
    "    #print(Matrix_A)\n",
    "\n",
    "    #Using numpy to generate matrix\n",
    "    Matrix_A = np.random.random((dimension_N,dimension_N))\n",
    "    Matrix_A = Matrix_A * 10\n",
    "    Matrix_A = Matrix_A.astype(int)\n",
    "    \n",
    "    Matrix_B = np.random.random((dimension_N,dimension_N))\n",
    "    Matrix_B = Matrix_B * 10\n",
    "    Matrix_B = Matrix_B.astype(int)\n",
    "    \n",
    "    Matrix_C = np.zeros((dimension_N,dimension_N))\n",
    "    Matrix_C = Matrix_C.astype(int)"
   ]
  },
  {
   "cell_type": "code",
   "execution_count": 13,
   "metadata": {},
   "outputs": [],
   "source": [
    "#PARTE 01 - Dimensão limite usando Numpy"
   ]
  },
  {
   "cell_type": "code",
   "execution_count": 14,
   "metadata": {},
   "outputs": [
    {
     "name": "stdout",
     "output_type": "stream",
     "text": [
      "Iteração 1: Dimensão=1220|t1=12.8|t2=12.8|t3=12.8|t4=12.8|t5=12.8|t6=12.8|t7=12.9|t8=12.8|t9=12.8|t10=12.8|Tempo Médio=12.82\n",
      "Iteração 2: Dimensão=1250|t1=13.9|t2=13.9|t3=13.9|t4=13.9|t5=13.9|t6=13.9|t7=13.9|t8=13.8|t9=14.1|t10=14.1|Tempo Médio=13.92\n",
      "Iteração 3: Dimensão=1280|t1=15.1|t2=14.9|t3=14.9|t4=14.8|t5=14.8|t6=14.8|t7=14.7|t8=14.6|t9=14.7|t10=14.7|Tempo Médio=14.8\n",
      "Iteração 4: Dimensão=1310|t1=16.0|t2=16.0|t3=16.0|t4=16.0|t5=16.0|t6=16.0|t7=16.0|t8=16.0|t9=16.4|t10=16.3|Tempo Médio=16.07\n",
      "Iteração 5: Dimensão=1295|t1=16.0|t2=16.0|t3=16.0|t4=16.0|t5=16.0|t6=15.9|t7=16.1|t8=16.0|t9=15.8|t10=16.1|Tempo Médio=15.98\n",
      "Iteração 6: Dimensão=1287|t1=15.6|t2=15.6|t3=15.6|t4=15.6|t5=15.7|t6=15.7|t7=15.7|t8=15.7|t9=15.6|t10=15.6|Tempo Médio=15.65\n",
      "Iteração 7: Dimensão=1283|t1=15.4|t2=15.7|t3=15.6|t4=15.6|t5=15.6|t6=15.5|t7=15.1|t8=15.1|t9=15.1|t10=15.1|Tempo Médio=15.4\n",
      "Iteração 8: Dimensão=1281|t1=15.0|t2=15.0|t3=15.0|t4=15.0|t5=15.2|t6=15.0|t7=15.3|t8=15.3|t9=15.2|t10=15.0|Tempo Médio=15.11\n",
      "\n",
      "RESULTADO FINAL PARA NUMPY:\n",
      "A dimensão limite para o tempo de execução não ultrapassar 15 segundos é 1281.\n",
      "O tempo médio foi 15.1133 segundos para multiplicação de matrizes com dimensão 1281.\n",
      "Vetor para 10 execuções: [15.0267, 15.0134, 15.0351, 15.0226, 15.1527, 15.0196, 15.3322, 15.3403, 15.1801, 15.0106].\n"
     ]
    }
   ],
   "source": [
    "dimension_N = 1190\n",
    "passo = 30\n",
    "n_exec = 10\n",
    "tempo_limite = 15\n",
    "i = 0\n",
    "while True:\n",
    "    if __name__==\"__main__\":\n",
    "        i += 1\n",
    "        c = 0\n",
    "        tempos = []\n",
    "        dimension_N += passo\n",
    "        print(f'Iteração {i}: Dimensão={dimension_N}',end='|')\n",
    "        Initialize_Matrix()\n",
    "        while True:\n",
    "            c += 1\n",
    "            start_time = time.time()\n",
    "            Matrix_C = np.dot(Matrix_A,Matrix_B)\n",
    "            end_time = time.time()\n",
    "            t = (end_time - start_time)\n",
    "            tempos.append(t)\n",
    "            if c == n_exec:\n",
    "                media_t = sum(tempos) / len(tempos)\n",
    "                print(f't{c}={round(t,1)}',end='|')\n",
    "                print(f'Tempo Médio={round(media_t,2)}')\n",
    "                break\n",
    "            else:\n",
    "                print(f't{c}={round(t,1)}',end='|')\n",
    "        if media_t > tempo_limite:\n",
    "            if passo == 1:\n",
    "                print(f'\\nRESULTADO FINAL PARA NUMPY:')\n",
    "                print(f'A dimensão limite para o tempo de execução não ultrapassar {tempo_limite} segundos é {dimension_N}.')\n",
    "                print(f'O tempo médio foi {round(media_t,4)} segundos para multiplicação de matrizes com dimensão {dimension_N}.')\n",
    "                print(f'Vetor para {n_exec} execuções: {[round(elem, 4) for elem in tempos]}.')\n",
    "                break\n",
    "            else:\n",
    "                dimension_N -= passo\n",
    "                passo = math.floor(passo/2)"
   ]
  },
  {
   "cell_type": "code",
   "execution_count": 15,
   "metadata": {},
   "outputs": [],
   "source": [
    "#PARTE 2 - Dimensão limite usando Thread"
   ]
  },
  {
   "cell_type": "code",
   "execution_count": 16,
   "metadata": {},
   "outputs": [],
   "source": [
    "def Matrix_multiply_parallel(start,end):\n",
    "    for i in range(start,end):\n",
    "        for j in range(dimension_N):\n",
    "            for k in range(dimension_N):\n",
    "                Matrix_C[i][j] += int(Matrix_A[i][k] * Matrix_B[k][j])"
   ]
  },
  {
   "cell_type": "code",
   "execution_count": 17,
   "metadata": {},
   "outputs": [],
   "source": [
    "def Thread_function():\n",
    "    global num_of_threads\n",
    "    thread_handle = []\n",
    "\n",
    "    for j in range(0,num_of_threads):\n",
    "        t = Thread(target = Matrix_multiply_parallel, args=(int((dimension_N/num_of_threads) * j),int((dimension_N/num_of_threads) * (j+1))))\n",
    "        thread_handle.append(t)\n",
    "        t.start()   \n",
    "        \n",
    "    for j in range(0,num_of_threads):\n",
    "        thread_handle[j].join()"
   ]
  },
  {
   "cell_type": "code",
   "execution_count": 18,
   "metadata": {},
   "outputs": [
    {
     "name": "stdout",
     "output_type": "stream",
     "text": [
      "Iteração 1: Dimensão=150|t1=6.1|t2=6.2|t3=6.0|t4=6.0|t5=6.0|t6=6.2|t7=6.1|t8=6.1|t9=6.5|t10=6.6|Tempo Médio=6.19\n",
      "Iteração 2: Dimensão=180|t1=10.9|t2=10.8|t3=11.2|t4=12.0|t5=11.3|t6=10.9|t7=11.0|t8=10.9|t9=11.0|t10=10.6|Tempo Médio=11.06\n",
      "Iteração 3: Dimensão=210|t1=17.6|t2=18.2|t3=17.8|t4=17.2|t5=17.3|t6=17.0|t7=16.8|t8=16.6|t9=16.9|t10=17.0|Tempo Médio=17.24\n",
      "Iteração 4: Dimensão=195|t1=13.4|t2=13.2|t3=13.5|t4=13.3|t5=13.6|t6=13.4|t7=13.7|t8=13.2|t9=13.4|t10=13.5|Tempo Médio=13.43\n",
      "Iteração 5: Dimensão=210|t1=16.8|t2=17.4|t3=17.4|t4=17.4|t5=17.3|t6=17.2|t7=16.9|t8=18.4|t9=18.3|t10=18.1|Tempo Médio=17.51\n",
      "Iteração 6: Dimensão=202|t1=15.9|t2=16.0|t3=15.7|t4=15.2|t5=15.9|t6=15.6|t7=15.4|t8=15.4|t9=15.3|t10=15.4|Tempo Médio=15.58\n",
      "Iteração 7: Dimensão=198|t1=14.7|t2=14.9|t3=14.6|t4=14.7|t5=14.8|t6=14.8|t7=14.7|t8=14.5|t9=14.3|t10=14.4|Tempo Médio=14.63\n",
      "Iteração 8: Dimensão=201|t1=14.9|t2=14.9|t3=14.9|t4=15.3|t5=15.3|t6=15.5|t7=14.8|t8=14.5|t9=14.6|t10=14.6|Tempo Médio=14.93\n",
      "Iteração 9: Dimensão=204|t1=15.3|t2=15.4|t3=15.6|t4=16.1|t5=16.3|t6=16.1|t7=16.1|t8=15.7|t9=16.5|t10=16.3|Tempo Médio=15.94\n",
      "Iteração 10: Dimensão=202|t1=15.8|t2=15.6|t3=16.1|t4=16.1|t5=15.4|t6=14.8|t7=14.9|t8=16.1|t9=15.7|t10=15.7|Tempo Médio=15.63\n",
      "\n",
      "RESULTADOS PARA 1 THREADS:\n",
      "A dimensão limite para o tempo de execução não ultrapassar 15 segundos é 202.\n",
      "O tempo médio foi 15.6277 segundos para multiplicação de matrizes com dimensão 202.\n",
      "Vetor para 10 execuções: [15.8126, 15.6422, 16.1299, 16.0589, 15.4384, 14.8243, 14.9045, 16.1432, 15.6533, 15.6694].\n"
     ]
    }
   ],
   "source": [
    "dimension_N = 120\n",
    "passo = 30\n",
    "n_exec = 10\n",
    "tempo_limite = 15\n",
    "num_of_threads = 1\n",
    "i=0\n",
    "while True:\n",
    "    if __name__==\"__main__\":\n",
    "        i += 1\n",
    "        c = 0\n",
    "        tempos = []\n",
    "        dimension_N += passo\n",
    "        print(f'Iteração {i}: Dimensão={dimension_N}',end='|')\n",
    "        Initialize_Matrix()\n",
    "        while True:\n",
    "            c += 1\n",
    "            start_time = time.time()\n",
    "            Thread_function()\n",
    "            end_time = time.time()\n",
    "            t = (end_time - start_time)\n",
    "            tempos.append(t)\n",
    "            if c == n_exec:\n",
    "                media_t = sum(tempos) / len(tempos)\n",
    "                print(f't{c}={round(t,1)}',end='|')\n",
    "                print(f'Tempo Médio={round(media_t,2)}')\n",
    "                break\n",
    "            else:\n",
    "                print(f't{c}={round(t,1)}',end='|')\n",
    "        if media_t > tempo_limite:\n",
    "            if passo == 1:\n",
    "                print(f'\\nRESULTADOS PARA {num_of_threads} THREADS:')\n",
    "                print(f'A dimensão limite para o tempo de execução não ultrapassar {tempo_limite} segundos é {dimension_N}.')\n",
    "                print(f'O tempo médio foi {round(media_t,4)} segundos para multiplicação de matrizes com dimensão {dimension_N}.')\n",
    "                print(f'Vetor para {n_exec} execuções: {[round(elem, 4) for elem in tempos]}.')\n",
    "                break\n",
    "            else:\n",
    "                dimension_N -= passo\n",
    "                passo = math.floor(passo/2)"
   ]
  },
  {
   "cell_type": "code",
   "execution_count": 19,
   "metadata": {},
   "outputs": [
    {
     "name": "stdout",
     "output_type": "stream",
     "text": [
      "Iteração 1: Dimensão=150|t1=6.3|t2=6.2|t3=6.2|t4=6.2|t5=6.2|t6=6.2|t7=6.2|t8=6.2|t9=6.2|t10=6.2|Tempo Médio=6.22\n",
      "Iteração 2: Dimensão=180|t1=10.7|t2=10.7|t3=10.8|t4=10.7|t5=10.8|t6=10.8|t7=10.7|t8=10.7|t9=10.7|t10=10.7|Tempo Médio=10.74\n",
      "Iteração 3: Dimensão=210|t1=17.1|t2=17.1|t3=17.0|t4=17.0|t5=17.1|t6=17.6|t7=17.2|t8=17.1|t9=17.2|t10=17.2|Tempo Médio=17.17\n",
      "Iteração 4: Dimensão=195|t1=13.9|t2=13.8|t3=14.4|t4=13.8|t5=13.9|t6=13.8|t7=13.7|t8=13.8|t9=13.9|t10=13.9|Tempo Médio=13.9\n",
      "Iteração 5: Dimensão=210|t1=17.3|t2=17.4|t3=17.3|t4=17.4|t5=17.2|t6=17.0|t7=17.2|t8=17.2|t9=17.2|t10=17.2|Tempo Médio=17.23\n",
      "Iteração 6: Dimensão=202|t1=15.1|t2=15.2|t3=15.3|t4=15.4|t5=15.4|t6=15.5|t7=15.4|t8=15.3|t9=15.4|t10=15.4|Tempo Médio=15.34\n",
      "Iteração 7: Dimensão=198|t1=14.5|t2=14.6|t3=14.6|t4=14.3|t5=14.4|t6=14.6|t7=14.5|t8=14.4|t9=14.4|t10=14.5|Tempo Médio=14.48\n",
      "Iteração 8: Dimensão=201|t1=15.2|t2=15.0|t3=15.1|t4=15.1|t5=15.2|t6=15.1|t7=15.2|t8=15.1|t9=15.0|t10=14.9|Tempo Médio=15.09\n",
      "Iteração 9: Dimensão=199|t1=14.6|t2=14.8|t3=14.5|t4=14.6|t5=14.5|t6=14.7|t7=14.7|t8=14.6|t9=14.7|t10=14.6|Tempo Médio=14.64\n",
      "Iteração 10: Dimensão=200|t1=14.7|t2=14.8|t3=14.8|t4=14.8|t5=14.8|t6=14.7|t7=14.8|t8=14.8|t9=15.0|t10=14.9|Tempo Médio=14.82\n",
      "Iteração 11: Dimensão=201|t1=15.1|t2=14.9|t3=15.1|t4=14.9|t5=15.1|t6=15.0|t7=14.9|t8=15.0|t9=15.2|t10=15.2|Tempo Médio=15.04\n",
      "\n",
      "RESULTADOS PARA 4 THREADS:\n",
      "A dimensão limite para o tempo de execução não ultrapassar 15 segundos é 201.\n",
      "O tempo médio foi 15.037 segundos para multiplicação de matrizes com dimensão 201.\n",
      "Vetor para 10 execuções: [15.0515, 14.9071, 15.0783, 14.925, 15.1048, 14.9599, 14.9331, 15.049, 15.1922, 15.169].\n"
     ]
    }
   ],
   "source": [
    "dimension_N = 120\n",
    "passo = 30\n",
    "n_exec = 10\n",
    "tempo_limite = 15\n",
    "num_of_threads = 4\n",
    "i=0\n",
    "while True:\n",
    "    if __name__==\"__main__\":\n",
    "        i += 1\n",
    "        c = 0\n",
    "        tempos = []\n",
    "        dimension_N += passo\n",
    "        print(f'Iteração {i}: Dimensão={dimension_N}',end='|')\n",
    "        Initialize_Matrix()\n",
    "        while True:\n",
    "            c += 1\n",
    "            start_time = time.time()\n",
    "            Thread_function()\n",
    "            end_time = time.time()\n",
    "            t = (end_time - start_time)\n",
    "            tempos.append(t)\n",
    "            if c == n_exec:\n",
    "                media_t = sum(tempos) / len(tempos)\n",
    "                print(f't{c}={round(t,1)}',end='|')\n",
    "                print(f'Tempo Médio={round(media_t,2)}')\n",
    "                break\n",
    "            else:\n",
    "                print(f't{c}={round(t,1)}',end='|')\n",
    "        if media_t > tempo_limite:\n",
    "            if passo == 1:\n",
    "                print(f'\\nRESULTADOS PARA {num_of_threads} THREADS:')\n",
    "                print(f'A dimensão limite para o tempo de execução não ultrapassar {tempo_limite} segundos é {dimension_N}.')\n",
    "                print(f'O tempo médio foi {round(media_t,4)} segundos para multiplicação de matrizes com dimensão {dimension_N}.')\n",
    "                print(f'Vetor para {n_exec} execuções: {[round(elem, 4) for elem in tempos]}.')\n",
    "                break\n",
    "            else:\n",
    "                dimension_N -= passo\n",
    "                passo = math.floor(passo/2)"
   ]
  },
  {
   "cell_type": "code",
   "execution_count": null,
   "metadata": {},
   "outputs": [],
   "source": []
  }
 ],
 "metadata": {
  "kernelspec": {
   "display_name": "Python 3",
   "language": "python",
   "name": "python3"
  },
  "language_info": {
   "codemirror_mode": {
    "name": "ipython",
    "version": 3
   },
   "file_extension": ".py",
   "mimetype": "text/x-python",
   "name": "python",
   "nbconvert_exporter": "python",
   "pygments_lexer": "ipython3",
   "version": "3.8.0"
  }
 },
 "nbformat": 4,
 "nbformat_minor": 4
}
