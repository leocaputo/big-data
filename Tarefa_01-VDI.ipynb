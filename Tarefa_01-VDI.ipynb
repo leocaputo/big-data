{
 "cells": [
  {
   "cell_type": "code",
   "execution_count": 11,
   "metadata": {},
   "outputs": [],
   "source": [
    "#Fundamentos em Big Data\n",
    "#Tarefa 01\n",
    "#Aluno: Leandro Ariel Caputo\n",
    "#28/01/21"
   ]
  },
  {
   "cell_type": "code",
   "execution_count": 12,
   "metadata": {},
   "outputs": [],
   "source": [
    "from threading import Thread\n",
    "import random\n",
    "import math\n",
    "import numpy as np\n",
    "import threading\n",
    "import time"
   ]
  },
  {
   "cell_type": "code",
   "execution_count": 13,
   "metadata": {},
   "outputs": [],
   "source": [
    "#PARTE 01 - Dimensão limite usando Numpy"
   ]
  },
  {
   "cell_type": "code",
   "execution_count": 14,
   "metadata": {},
   "outputs": [],
   "source": [
    "def Initialize_Matrix(dimension_N):\n",
    "    global Matrix_A\n",
    "    global Matrix_B\n",
    "    global Matrix_C\n",
    "\n",
    "    #Using numpy to generate matrix\n",
    "    Matrix_A = np.random.random((dimension_N,dimension_N))\n",
    "    Matrix_A = Matrix_A * 10\n",
    "    Matrix_A = Matrix_A.astype(int)\n",
    "    \n",
    "    Matrix_B = np.random.random((dimension_N,dimension_N))\n",
    "    Matrix_B = Matrix_B * 10\n",
    "    Matrix_B = Matrix_B.astype(int)\n",
    "    \n",
    "    Matrix_C = np.zeros((dimension_N,dimension_N))\n",
    "    Matrix_C = Matrix_C.astype(int)"
   ]
  },
  {
   "cell_type": "code",
   "execution_count": null,
   "metadata": {},
   "outputs": [
    {
     "name": "stdout",
     "output_type": "stream",
     "text": [
      "Iteração 1: Dimensão = 500, Tempo Médio = 0.1857\n",
      "Iteração 2: Dimensão = 1000, Tempo Médio = 3.6232\n",
      "Iteração 3: Dimensão = 1500, Tempo Médio = 10.6968\n"
     ]
    }
   ],
   "source": [
    "dimension_N = 0\n",
    "tempo_limite = 15\n",
    "n_exec = 10\n",
    "passo = 500\n",
    "i = 0\n",
    "while True:\n",
    "    if __name__==\"__main__\":\n",
    "        dimension_N += passo\n",
    "        c = 0\n",
    "        tempos = []\n",
    "        Initialize_Matrix(dimension_N)\n",
    "        while True:\n",
    "            start_time = time.time()\n",
    "            Matrix_C = np.dot(Matrix_A,Matrix_B)\n",
    "            end_time = time.time()\n",
    "            t = (end_time - start_time)\n",
    "            tempos.append(t)\n",
    "            c += 1\n",
    "            if c == n_exec:\n",
    "                media_t = sum(tempos) / len(tempos)\n",
    "                i += 1\n",
    "                print(f'Iteração {i}: Dimensão = {dimension_N}, Tempo Médio = {round(media_t,4)}')\n",
    "                break\n",
    "        if media_t > tempo_limite:\n",
    "            if passo == 1:\n",
    "                print(f'\\nRESULTADO FINAL PARA NUMPY:')\n",
    "                print(f'A dimensão limite para o tempo de execução não ultrapassar {tempo_limite} segundos é {dimension_N}.')\n",
    "                print(f'O tempo médio foi {round(media_t,4)} segundos para multiplicação de matrizes com dimensão {dimension_N}.')\n",
    "                print(f'Vetor para 10 execuções: {[round(elem, 4) for elem in tempos]}.')\n",
    "                break\n",
    "            else:\n",
    "                dimension_N -= passo\n",
    "                passo = math.floor(passo/2)"
   ]
  },
  {
   "cell_type": "code",
   "execution_count": 6,
   "metadata": {},
   "outputs": [],
   "source": [
    "#PARTE 2 - Dimensão limite usando Thread"
   ]
  },
  {
   "cell_type": "code",
   "execution_count": 7,
   "metadata": {},
   "outputs": [],
   "source": [
    "def Matrix_multiply_parallel(start,end):\n",
    "    for i in range(start,end):\n",
    "        for j in range(dimension_N):\n",
    "            for k in range(dimension_N):\n",
    "                Matrix_C[i][j] += int(Matrix_A[i][k] * Matrix_B[k][j])"
   ]
  },
  {
   "cell_type": "code",
   "execution_count": 8,
   "metadata": {},
   "outputs": [],
   "source": [
    "def Thread_function(num_of_threads,dimension_N):\n",
    "    thread_handle = []\n",
    "\n",
    "    for j in range(0,num_of_threads):\n",
    "        t = Thread(target = Matrix_multiply_parallel, args=(int((dimension_N/num_of_threads) * j),int((dimension_N/num_of_threads) * (j+1))))\n",
    "        thread_handle.append(t)\n",
    "        t.start()   \n",
    "        \n",
    "    for j in range(0,num_of_threads):\n",
    "        thread_handle[j].join()"
   ]
  },
  {
   "cell_type": "code",
   "execution_count": 10,
   "metadata": {},
   "outputs": [
    {
     "name": "stdout",
     "output_type": "stream",
     "text": [
      "Iteração 1: Dimensão = 150, Tempo Médio = 18.6014\n",
      "Iteração 2: Dimensão = 75, Tempo Médio = 2.2992\n",
      "Iteração 3: Dimensão = 150, Tempo Médio = 18.5639\n",
      "Iteração 4: Dimensão = 112, Tempo Médio = 7.676\n",
      "Iteração 5: Dimensão = 149, Tempo Médio = 17.9607\n",
      "Iteração 6: Dimensão = 130, Tempo Médio = 11.9519\n",
      "Iteração 7: Dimensão = 148, Tempo Médio = 18.1438\n",
      "Iteração 8: Dimensão = 139, Tempo Médio = 15.1174\n",
      "Iteração 9: Dimensão = 134, Tempo Médio = 13.3139\n",
      "Iteração 10: Dimensão = 138, Tempo Médio = 14.5059\n",
      "Iteração 11: Dimensão = 142, Tempo Médio = 16.0652\n",
      "Iteração 12: Dimensão = 140, Tempo Médio = 15.3567\n",
      "Iteração 13: Dimensão = 139, Tempo Médio = 15.137\n",
      "\n",
      "RESULTADOS PARA 1 THREADS:\n",
      "A dimensão limite para o tempo de execução não ultrapassar 15 segundos é 139.\n",
      "O tempo médio foi 15.137 segundos para multiplicação de matrizes com dimensão 139.\n",
      "Vetor para 10 execuções: [14.9473, 15.1723, 15.567, 15.117, 15.3464, 15.0549, 14.9504, 14.7284, 15.0126, 15.474].\n"
     ]
    }
   ],
   "source": [
    "dimension_N = 0\n",
    "num_of_threads = 1\n",
    "tempo_limite = 15\n",
    "n_exec = 10\n",
    "passo = 150\n",
    "i=0\n",
    "while True:\n",
    "    if __name__==\"__main__\":\n",
    "        dimension_N += passo\n",
    "        c = 0\n",
    "        tempos = []\n",
    "        Initialize_Matrix(dimension_N)\n",
    "        while True:\n",
    "            start_time = time.time()\n",
    "            Thread_function(num_of_threads,dimension_N)\n",
    "            end_time = time.time()\n",
    "            t = (end_time - start_time)\n",
    "            tempos.append(t)\n",
    "            c += 1\n",
    "            if c == n_exec:\n",
    "                media_t = sum(tempos) / len(tempos)\n",
    "                i += 1\n",
    "                print(f'Iteração {i}: Dimensão = {dimension_N}, Tempo Médio = {round(media_t,4)}')\n",
    "                break\n",
    "        if media_t > tempo_limite:\n",
    "            if passo == 1:\n",
    "                print(f'\\nRESULTADOS PARA {num_of_threads} THREADS:')\n",
    "                print(f'A dimensão limite para o tempo de execução não ultrapassar {tempo_limite} segundos é {dimension_N}.')\n",
    "                print(f'O tempo médio foi {round(media_t,4)} segundos para multiplicação de matrizes com dimensão {dimension_N}.')\n",
    "                print(f'Vetor para 10 execuções: {[round(elem, 4) for elem in tempos]}.')\n",
    "                break\n",
    "            else:\n",
    "                dimension_N -= passo\n",
    "                passo = math.floor(passo/2)"
   ]
  },
  {
   "cell_type": "code",
   "execution_count": 9,
   "metadata": {},
   "outputs": [
    {
     "name": "stdout",
     "output_type": "stream",
     "text": [
      "Iteração 1: Dimensão = 150, Tempo Médio = 20.1504\n",
      "Iteração 2: Dimensão = 75, Tempo Médio = 2.4015\n",
      "Iteração 3: Dimensão = 150, Tempo Médio = 19.315\n",
      "Iteração 4: Dimensão = 112, Tempo Médio = 7.9872\n",
      "Iteração 5: Dimensão = 149, Tempo Médio = 18.6665\n",
      "Iteração 6: Dimensão = 130, Tempo Médio = 12.4368\n",
      "Iteração 7: Dimensão = 148, Tempo Médio = 18.7118\n",
      "Iteração 8: Dimensão = 139, Tempo Médio = 15.6443\n",
      "Iteração 9: Dimensão = 134, Tempo Médio = 14.0109\n",
      "Iteração 10: Dimensão = 138, Tempo Médio = 15.2922\n",
      "Iteração 11: Dimensão = 136, Tempo Médio = 14.6263\n",
      "Iteração 12: Dimensão = 138, Tempo Médio = 15.2404\n",
      "Iteração 13: Dimensão = 137, Tempo Médio = 15.02\n",
      "\n",
      "RESULTADOS PARA 4 THREADS:\n",
      "A dimensão limite para o tempo de execução não ultrapassar 15 segundos é 137.\n",
      "O tempo médio foi 15.02 segundos para multiplicação de matrizes com dimensão 137.\n",
      "Vetor para 10 execuções: [14.8557, 14.9582, 14.7446, 15.2085, 15.5149, 14.7611, 14.7648, 15.5859, 15.1847, 14.6218].\n"
     ]
    }
   ],
   "source": [
    "dimension_N = 0\n",
    "num_of_threads = 4\n",
    "tempo_limite = 15\n",
    "n_exec = 10\n",
    "passo = 150\n",
    "i=0\n",
    "while True:\n",
    "    if __name__==\"__main__\":\n",
    "        dimension_N += passo\n",
    "        c = 0\n",
    "        tempos = []\n",
    "        Initialize_Matrix(dimension_N)\n",
    "        while True:\n",
    "            start_time = time.time()\n",
    "            Thread_function(num_of_threads,dimension_N)\n",
    "            end_time = time.time()\n",
    "            t = (end_time - start_time)\n",
    "            tempos.append(t)\n",
    "            c += 1\n",
    "            if c == n_exec:\n",
    "                media_t = sum(tempos) / len(tempos)\n",
    "                i += 1\n",
    "                print(f'Iteração {i}: Dimensão = {dimension_N}, Tempo Médio = {round(media_t,4)}')\n",
    "                break\n",
    "        if media_t > tempo_limite:\n",
    "            if passo == 1:\n",
    "                print(f'\\nRESULTADOS PARA {num_of_threads} THREADS:')\n",
    "                print(f'A dimensão limite para o tempo de execução não ultrapassar {tempo_limite} segundos é {dimension_N}.')\n",
    "                print(f'O tempo médio foi {round(media_t,4)} segundos para multiplicação de matrizes com dimensão {dimension_N}.')\n",
    "                print(f'Vetor para 10 execuções: {[round(elem, 4) for elem in tempos]}.')\n",
    "                break\n",
    "            else:\n",
    "                dimension_N -= passo\n",
    "                passo = math.floor(passo/2)"
   ]
  },
  {
   "cell_type": "code",
   "execution_count": null,
   "metadata": {},
   "outputs": [],
   "source": []
  }
 ],
 "metadata": {
  "kernelspec": {
   "display_name": "Python 3",
   "language": "python",
   "name": "python3"
  },
  "language_info": {
   "codemirror_mode": {
    "name": "ipython",
    "version": 3
   },
   "file_extension": ".py",
   "mimetype": "text/x-python",
   "name": "python",
   "nbconvert_exporter": "python",
   "pygments_lexer": "ipython3",
   "version": "3.8.5"
  }
 },
 "nbformat": 4,
 "nbformat_minor": 4
}
