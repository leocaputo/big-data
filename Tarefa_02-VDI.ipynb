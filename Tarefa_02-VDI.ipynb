{
 "cells": [
  {
   "cell_type": "code",
   "execution_count": 1,
   "metadata": {},
   "outputs": [],
   "source": [
    "#Fundamentos em Big Data\n",
    "#Tarefa 02\n",
    "#Aluno: Leandro Ariel Caputo\n",
    "#31/01/2021"
   ]
  },
  {
   "cell_type": "code",
   "execution_count": 2,
   "metadata": {},
   "outputs": [],
   "source": [
    "from pyspark.sql import SparkSession\n",
    "import pyspark.sql.functions as F\n",
    "from pyspark.sql.types import StringType\n",
    "from pyspark.sql.types import IntegerType"
   ]
  },
  {
   "cell_type": "code",
   "execution_count": 3,
   "metadata": {},
   "outputs": [],
   "source": [
    "spark = SparkSession.builder \\\n",
    "                    .appName(\"Tarefa_02\") \\\n",
    "                    .config(\"spark.some.config.option\", \"some-value\") \\\n",
    "                    .getOrCreate()"
   ]
  },
  {
   "cell_type": "code",
   "execution_count": 4,
   "metadata": {},
   "outputs": [],
   "source": [
    "#Criando dataframes a partir das tabelas de nascidos vivos e municipios do IBGE\n",
    "#P.S: a tabela de municipios baixada do IBGE era um arquivo Excel e que foi previamente convertida em CSV\n",
    "df = spark.read.csv('DNPBA2017.csv', header=True)\n",
    "df2 = spark.read.csv('RELATORIO_DTB_BRASIL_MUNICIPIO.csv', header=True, encoding='ISO-8859-1')"
   ]
  },
  {
   "cell_type": "code",
   "execution_count": 5,
   "metadata": {},
   "outputs": [],
   "source": [
    "#Criando coluna com código de municipio de 6 digitos\n",
    "df2 = df2.withColumn('COD_MUN', F.substring(F.col('Código Município Completo'), 1,6))"
   ]
  },
  {
   "cell_type": "code",
   "execution_count": 6,
   "metadata": {},
   "outputs": [
    {
     "name": "stdout",
     "output_type": "stream",
     "text": [
      "+-------+--------------------+\n",
      "|COD_MUN|            NOME_MUN|\n",
      "+-------+--------------------+\n",
      "| 110001|Alta Floresta D'O...|\n",
      "| 110037|Alto Alegre dos P...|\n",
      "| 110040|        Alto Paraíso|\n",
      "| 110034|    Alvorada D'Oeste|\n",
      "| 110002|           Ariquemes|\n",
      "+-------+--------------------+\n",
      "only showing top 5 rows\n",
      "\n"
     ]
    }
   ],
   "source": [
    "#Tabela final apenas com códigos de 6 dígitos e nomes dos municipios\n",
    "df2 = df2.withColumnRenamed('Nome_Município','NOME_MUN')\n",
    "df2 = df2.select('COD_MUN','NOME_MUN')\n",
    "df2.show(5)"
   ]
  },
  {
   "cell_type": "code",
   "execution_count": 7,
   "metadata": {},
   "outputs": [],
   "source": [
    "#join das tabelas com base no código do municipio de nascimento\n",
    "df = df.join(df2,df.CODMUNNASC==df2.COD_MUN)\n",
    "#renomear header da coluna do nome do municipio de nascimento e deletar coluna duplicada de código\n",
    "df = df.withColumnRenamed('NOME_MUN','NOME_MUN_NASC')\n",
    "df = df.drop('COD_MUN')"
   ]
  },
  {
   "cell_type": "code",
   "execution_count": 8,
   "metadata": {},
   "outputs": [
    {
     "name": "stdout",
     "output_type": "stream",
     "text": [
      "+----------+--------------------+\n",
      "|CODMUNNASC|       NOME_MUN_NASC|\n",
      "+----------+--------------------+\n",
      "|    170700|          Dianópolis|\n",
      "|    291110|Formosa do Rio Preto|\n",
      "|    171890|Santa Rosa do Toc...|\n",
      "|    172100|              Palmas|\n",
      "|    172100|              Palmas|\n",
      "+----------+--------------------+\n",
      "only showing top 5 rows\n",
      "\n"
     ]
    }
   ],
   "source": [
    "#verificação\n",
    "df.select('CODMUNNASC','NOME_MUN_NASC').show(5)"
   ]
  },
  {
   "cell_type": "code",
   "execution_count": 9,
   "metadata": {},
   "outputs": [],
   "source": [
    "#join das tabelas com base no código do municipio de residencia\n",
    "df = df.join(df2,df.CODMUNRES==df2.COD_MUN)\n",
    "#renomear header da coluna do nome do municipio de residencia e deletar coluna duplicada de código\n",
    "df = df.withColumnRenamed('NOME_MUN','NOME_MUN_RES')\n",
    "df = df.drop('COD_MUN')"
   ]
  },
  {
   "cell_type": "code",
   "execution_count": 10,
   "metadata": {},
   "outputs": [
    {
     "name": "stdout",
     "output_type": "stream",
     "text": [
      "+---------+--------------------+\n",
      "|CODMUNRES|        NOME_MUN_RES|\n",
      "+---------+--------------------+\n",
      "|   291110|Formosa do Rio Preto|\n",
      "|   291110|Formosa do Rio Preto|\n",
      "|   291955|Luís Eduardo Maga...|\n",
      "|   291955|Luís Eduardo Maga...|\n",
      "|   291955|Luís Eduardo Maga...|\n",
      "+---------+--------------------+\n",
      "only showing top 5 rows\n",
      "\n"
     ]
    }
   ],
   "source": [
    "#verificação\n",
    "df.select('CODMUNRES','NOME_MUN_RES').show(5)"
   ]
  },
  {
   "cell_type": "code",
   "execution_count": 11,
   "metadata": {},
   "outputs": [],
   "source": [
    "#join das tabelas com base no código do municipio de naturalidade\n",
    "df = df.join(df2,df.CODMUNNATU==df2.COD_MUN)\n",
    "#renomear header da coluna do nome do municipio de naturalidade e deletar coluna duplicada de código\n",
    "df = df.withColumnRenamed('NOME_MUN','NOME_MUN_NATU')\n",
    "df = df.drop('COD_MUN')"
   ]
  },
  {
   "cell_type": "code",
   "execution_count": 12,
   "metadata": {},
   "outputs": [
    {
     "name": "stdout",
     "output_type": "stream",
     "text": [
      "+----------+--------------------+\n",
      "|CODMUNNATU|       NOME_MUN_NATU|\n",
      "+----------+--------------------+\n",
      "|    291110|Formosa do Rio Preto|\n",
      "|    170700|          Dianópolis|\n",
      "|    170560|Conceição do Toca...|\n",
      "|    240720|               Macau|\n",
      "|    210050|       Alto Parnaíba|\n",
      "+----------+--------------------+\n",
      "only showing top 5 rows\n",
      "\n"
     ]
    }
   ],
   "source": [
    "#verificação\n",
    "df.select('CODMUNNATU','NOME_MUN_NATU').show(5)"
   ]
  },
  {
   "cell_type": "code",
   "execution_count": 13,
   "metadata": {},
   "outputs": [
    {
     "data": {
      "text/plain": [
       "Row(_c0='1', NUMERODN='72390242', CODINST='ETO1721000001', ORIGEM='1', NUMERODV='0', PREFIXODN='30', CODESTAB='2786095', CODMUNNASC='170700', LOCNASC='1', IDADEMAE='25', ESTCIVMAE='5', ESCMAE='2', CODOCUPMAE='NA', QTDFILVIVO='04', QTDFILMORT='00', CODMUNRES='291110', GESTACAO='5', GRAVIDEZ='1', PARTO='1', CONSULTAS='2', DTNASC='24012017', HORANASC='0245', SEXO='1', APGAR1='08', APGAR5='09', RACACOR='4', PESO='3150', IDANOMAL='2', DTCADASTRO='14022017', CODANOMAL='NA', NUMEROLOTE='20170021', VERSAOSIST='3.2.00', DTRECEBIM='10042017', DIFDATA='076', DTRECORIGA='NA', NATURALMAE='829', CODMUNNATU='291110', CODUFNATU='29', ESCMAE2010='1', SERIESCMAE='3', DTNASCMAE='10061991', RACACORMAE='4', QTDGESTANT='04', QTDPARTNOR='04', QTDPARTCES='00', IDADEPAI='33', DTULTMENST='05052016', SEMAGESTAC='37', TPMETESTIM='8', CONSPRENAT='03', MESPRENAT='02', TPAPRESENT='1', STTRABPART='2', STCESPARTO='3', TPNASCASSI='2', TPFUNCRESP='2', TPDOCRESP='3', DTDECLARAC='24012017', ESCMAEAGR1='01', STDNEPIDEM='0', STDNNOVA='1', CODPAISRES='NA', TPROBSON='03', PARIDADE='1', KOTELCHUCK='3', NOME_MUN_NASC='Dianópolis', NOME_MUN_RES='Formosa do Rio Preto', NOME_MUN_NATU='Formosa do Rio Preto')"
      ]
     },
     "execution_count": 13,
     "metadata": {},
     "output_type": "execute_result"
    }
   ],
   "source": [
    "#TABELA FINAL\n",
    "df.first()"
   ]
  },
  {
   "cell_type": "code",
   "execution_count": 14,
   "metadata": {},
   "outputs": [],
   "source": [
    "#TABELA FINAL EXPORTADA PARA CSV\n",
    "df.repartition(1).write.csv('DNPBA2017_COM_NOMES.csv',header='True')"
   ]
  }
 ],
 "metadata": {
  "kernelspec": {
   "display_name": "Python 3",
   "language": "python",
   "name": "python3"
  },
  "language_info": {
   "codemirror_mode": {
    "name": "ipython",
    "version": 3
   },
   "file_extension": ".py",
   "mimetype": "text/x-python",
   "name": "python",
   "nbconvert_exporter": "python",
   "pygments_lexer": "ipython3",
   "version": "3.8.5"
  }
 },
 "nbformat": 4,
 "nbformat_minor": 4
}
