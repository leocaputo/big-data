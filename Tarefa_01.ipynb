{
 "cells": [
  {
   "cell_type": "code",
   "execution_count": 1,
   "metadata": {},
   "outputs": [],
   "source": [
    "#Fundamentos em Big Data\n",
    "#Tarefa 01\n",
    "#Aluno: Leandro Ariel Caputo\n",
    "#28/01/21"
   ]
  },
  {
   "cell_type": "code",
   "execution_count": 2,
   "metadata": {},
   "outputs": [],
   "source": [
    "from threading import Thread\n",
    "import random\n",
    "import math\n",
    "import numpy as np\n",
    "import threading\n",
    "import time"
   ]
  },
  {
   "cell_type": "code",
   "execution_count": 3,
   "metadata": {},
   "outputs": [],
   "source": [
    "#PARTE 01 - Dimensão limite usando Numpy"
   ]
  },
  {
   "cell_type": "code",
   "execution_count": 4,
   "metadata": {},
   "outputs": [],
   "source": [
    "def Initialize_Matrix(dimension_N):\n",
    "    global Matrix_A\n",
    "    global Matrix_B\n",
    "    global Matrix_C\n",
    "\n",
    "    #Using numpy to generate matrix\n",
    "    Matrix_A = np.random.random((dimension_N,dimension_N))\n",
    "    Matrix_A = Matrix_A * 10\n",
    "    Matrix_A = Matrix_A.astype(int)\n",
    "    \n",
    "    Matrix_B = np.random.random((dimension_N,dimension_N))\n",
    "    Matrix_B = Matrix_B * 10\n",
    "    Matrix_B = Matrix_B.astype(int)\n",
    "    \n",
    "    Matrix_C = np.zeros((dimension_N,dimension_N))\n",
    "    Matrix_C = Matrix_C.astype(int)"
   ]
  },
  {
   "cell_type": "code",
   "execution_count": 5,
   "metadata": {},
   "outputs": [
    {
     "name": "stdout",
     "output_type": "stream",
     "text": [
      "Iteração 1: Dimensão = 500, Tempo Médio = 0.1193\n",
      "Iteração 2: Dimensão = 1000, Tempo Médio = 6.8353\n",
      "Iteração 3: Dimensão = 1500, Tempo Médio = 24.0885\n",
      "Iteração 4: Dimensão = 1250, Tempo Médio = 13.927\n",
      "Iteração 5: Dimensão = 1500, Tempo Médio = 24.1029\n",
      "Iteração 6: Dimensão = 1375, Tempo Médio = 19.1664\n",
      "Iteração 7: Dimensão = 1312, Tempo Médio = 15.8349\n",
      "Iteração 8: Dimensão = 1281, Tempo Médio = 15.3121\n",
      "Iteração 9: Dimensão = 1265, Tempo Médio = 14.7523\n",
      "Iteração 10: Dimensão = 1280, Tempo Médio = 15.198\n",
      "Iteração 11: Dimensão = 1272, Tempo Médio = 14.5961\n",
      "Iteração 12: Dimensão = 1279, Tempo Médio = 14.9685\n",
      "Iteração 13: Dimensão = 1286, Tempo Médio = 15.2636\n",
      "Iteração 14: Dimensão = 1282, Tempo Médio = 14.9981\n",
      "Iteração 15: Dimensão = 1285, Tempo Médio = 15.8059\n",
      "Iteração 16: Dimensão = 1283, Tempo Médio = 15.0834\n",
      "\n",
      "RESULTADO FINAL PARA NUMPY:\n",
      "A dimensão limite para o tempo de execução não ultrapassar 15 segundos é 1283.\n",
      "O tempo médio foi 15.0834 segundos para multiplicação de matrizes com dimensão 1283.\n",
      "Vetor para 10 execuções: [15.0853, 15.0758, 15.062, 15.0777, 15.062, 15.0765, 15.1768, 15.062, 15.0776, 15.0784].\n"
     ]
    }
   ],
   "source": [
    "dimension_N = 0\n",
    "tempo_limite = 15\n",
    "n_exec = 10\n",
    "passo = 500\n",
    "i = 0\n",
    "while True:\n",
    "    if __name__==\"__main__\":\n",
    "        dimension_N += passo\n",
    "        c = 0\n",
    "        tempos = []\n",
    "        Initialize_Matrix(dimension_N)\n",
    "        while True:\n",
    "            start_time = time.time()\n",
    "            Matrix_C = np.dot(Matrix_A,Matrix_B)\n",
    "            end_time = time.time()\n",
    "            t = (end_time - start_time)\n",
    "            tempos.append(t)\n",
    "            c += 1\n",
    "            if c == n_exec:\n",
    "                media_t = sum(tempos) / len(tempos)\n",
    "                i += 1\n",
    "                print(f'Iteração {i}: Dimensão = {dimension_N}, Tempo Médio = {round(media_t,4)}')\n",
    "                break\n",
    "        if media_t > tempo_limite:\n",
    "            if passo == 1:\n",
    "                print(f'\\nRESULTADO FINAL PARA NUMPY:')\n",
    "                print(f'A dimensão limite para o tempo de execução não ultrapassar {tempo_limite} segundos é {dimension_N}.')\n",
    "                print(f'O tempo médio foi {round(media_t,4)} segundos para multiplicação de matrizes com dimensão {dimension_N}.')\n",
    "                print(f'Vetor para 10 execuções: {[round(elem, 4) for elem in tempos]}.')\n",
    "                break\n",
    "            else:\n",
    "                dimension_N -= passo\n",
    "                passo = math.floor(passo/2)"
   ]
  },
  {
   "cell_type": "code",
   "execution_count": 5,
   "metadata": {},
   "outputs": [],
   "source": [
    "#PARTE 2 - Dimensão limite usando Thread"
   ]
  },
  {
   "cell_type": "code",
   "execution_count": 6,
   "metadata": {},
   "outputs": [],
   "source": [
    "def Matrix_multiply_parallel(start,end):\n",
    "    for i in range(start,end):\n",
    "        for j in range(dimension_N):\n",
    "            for k in range(dimension_N):\n",
    "                Matrix_C[i][j] += int(Matrix_A[i][k] * Matrix_B[k][j])"
   ]
  },
  {
   "cell_type": "code",
   "execution_count": 7,
   "metadata": {},
   "outputs": [],
   "source": [
    "def Thread_function(num_of_threads,dimension_N):\n",
    "    thread_handle = []\n",
    "\n",
    "    for j in range(0,num_of_threads):\n",
    "        t = Thread(target = Matrix_multiply_parallel, args=(int((dimension_N/num_of_threads) * j),int((dimension_N/num_of_threads) * (j+1))))\n",
    "        thread_handle.append(t)\n",
    "        t.start()   \n",
    "        \n",
    "    for j in range(0,num_of_threads):\n",
    "        thread_handle[j].join()"
   ]
  },
  {
   "cell_type": "code",
   "execution_count": 8,
   "metadata": {},
   "outputs": [
    {
     "name": "stdout",
     "output_type": "stream",
     "text": [
      "Iteração 1: Dimensão = 150, Tempo Médio = 6.1037\n",
      "Iteração 2: Dimensão = 300, Tempo Médio = 48.8373\n",
      "Iteração 3: Dimensão = 225, Tempo Médio = 20.308\n",
      "Iteração 4: Dimensão = 187, Tempo Médio = 12.1626\n",
      "Iteração 5: Dimensão = 224, Tempo Médio = 20.7396\n",
      "Iteração 6: Dimensão = 205, Tempo Médio = 15.6845\n",
      "Iteração 7: Dimensão = 196, Tempo Médio = 13.7007\n",
      "Iteração 8: Dimensão = 205, Tempo Médio = 15.5518\n",
      "Iteração 9: Dimensão = 200, Tempo Médio = 14.4663\n",
      "Iteração 10: Dimensão = 204, Tempo Médio = 15.2946\n",
      "Iteração 11: Dimensão = 202, Tempo Médio = 14.6808\n",
      "Iteração 12: Dimensão = 204, Tempo Médio = 15.159\n",
      "Iteração 13: Dimensão = 203, Tempo Médio = 14.9778\n",
      "Iteração 14: Dimensão = 204, Tempo Médio = 15.1803\n",
      "\n",
      "RESULTADOS PARA 1 THREADS:\n",
      "A dimensão limite para o tempo de execução não ultrapassar 15 segundos é 204.\n",
      "O tempo médio foi 15.1803 segundos para multiplicação de matrizes com dimensão 204.\n",
      "Vetor para 10 execuções: [15.1924, 15.1089, 15.0777, 15.0355, 15.1401, 15.2738, 15.2866, 15.2356, 15.2495, 15.2026].\n"
     ]
    }
   ],
   "source": [
    "dimension_N = 0\n",
    "num_of_threads = 1\n",
    "tempo_limite = 15\n",
    "n_exec = 10\n",
    "passo = 150\n",
    "i=0\n",
    "while True:\n",
    "    if __name__==\"__main__\":\n",
    "        dimension_N += passo\n",
    "        c = 0\n",
    "        tempos = []\n",
    "        Initialize_Matrix(dimension_N)\n",
    "        while True:\n",
    "            start_time = time.time()\n",
    "            Thread_function(num_of_threads,dimension_N)\n",
    "            end_time = time.time()\n",
    "            t = (end_time - start_time)\n",
    "            tempos.append(t)\n",
    "            c += 1\n",
    "            if c == n_exec:\n",
    "                media_t = sum(tempos) / len(tempos)\n",
    "                i += 1\n",
    "                print(f'Iteração {i}: Dimensão = {dimension_N}, Tempo Médio = {round(media_t,4)}')\n",
    "                break\n",
    "        if media_t > tempo_limite:\n",
    "            if passo == 1:\n",
    "                print(f'\\nRESULTADOS PARA {num_of_threads} THREADS:')\n",
    "                print(f'A dimensão limite para o tempo de execução não ultrapassar {tempo_limite} segundos é {dimension_N}.')\n",
    "                print(f'O tempo médio foi {round(media_t,4)} segundos para multiplicação de matrizes com dimensão {dimension_N}.')\n",
    "                print(f'Vetor para 10 execuções: {[round(elem, 4) for elem in tempos]}.')\n",
    "                break\n",
    "            else:\n",
    "                dimension_N -= passo\n",
    "                passo = math.floor(passo/2)"
   ]
  },
  {
   "cell_type": "code",
   "execution_count": 9,
   "metadata": {},
   "outputs": [
    {
     "name": "stdout",
     "output_type": "stream",
     "text": [
      "Iteração 1: Dimensão = 150, Tempo Médio = 6.2762\n",
      "Iteração 2: Dimensão = 300, Tempo Médio = 50.1067\n",
      "Iteração 3: Dimensão = 225, Tempo Médio = 21.2028\n",
      "Iteração 4: Dimensão = 187, Tempo Médio = 12.1283\n",
      "Iteração 5: Dimensão = 224, Tempo Médio = 20.975\n",
      "Iteração 6: Dimensão = 205, Tempo Médio = 15.9343\n",
      "Iteração 7: Dimensão = 196, Tempo Médio = 13.9436\n",
      "Iteração 8: Dimensão = 205, Tempo Médio = 16.0478\n",
      "Iteração 9: Dimensão = 200, Tempo Médio = 14.8205\n",
      "Iteração 10: Dimensão = 204, Tempo Médio = 15.7708\n",
      "Iteração 11: Dimensão = 202, Tempo Médio = 15.3468\n",
      "Iteração 12: Dimensão = 201, Tempo Médio = 15.2249\n",
      "\n",
      "RESULTADOS PARA 4 THREADS:\n",
      "A dimensão limite para o tempo de execução não ultrapassar 15 segundos é 201.\n",
      "O tempo médio foi 15.2249 segundos para multiplicação de matrizes com dimensão 201.\n",
      "Vetor para 10 execuções: [15.0294, 15.0782, 15.0712, 15.1976, 15.2141, 15.1816, 15.3395, 15.6317, 15.1737, 15.3321].\n"
     ]
    }
   ],
   "source": [
    "dimension_N = 0\n",
    "num_of_threads = 4\n",
    "tempo_limite = 15\n",
    "n_exec = 10\n",
    "passo = 150\n",
    "i=0\n",
    "while True:\n",
    "    if __name__==\"__main__\":\n",
    "        dimension_N += passo\n",
    "        c = 0\n",
    "        tempos = []\n",
    "        Initialize_Matrix(dimension_N)\n",
    "        while True:\n",
    "            start_time = time.time()\n",
    "            Thread_function(num_of_threads,dimension_N)\n",
    "            end_time = time.time()\n",
    "            t = (end_time - start_time)\n",
    "            tempos.append(t)\n",
    "            c += 1\n",
    "            if c == n_exec:\n",
    "                media_t = sum(tempos) / len(tempos)\n",
    "                i += 1\n",
    "                print(f'Iteração {i}: Dimensão = {dimension_N}, Tempo Médio = {round(media_t,4)}')\n",
    "                break\n",
    "        if media_t > tempo_limite:\n",
    "            if passo == 1:\n",
    "                print(f'\\nRESULTADOS PARA {num_of_threads} THREADS:')\n",
    "                print(f'A dimensão limite para o tempo de execução não ultrapassar {tempo_limite} segundos é {dimension_N}.')\n",
    "                print(f'O tempo médio foi {round(media_t,4)} segundos para multiplicação de matrizes com dimensão {dimension_N}.')\n",
    "                print(f'Vetor para 10 execuções: {[round(elem, 4) for elem in tempos]}.')\n",
    "                break\n",
    "            else:\n",
    "                dimension_N -= passo\n",
    "                passo = math.floor(passo/2)"
   ]
  },
  {
   "cell_type": "code",
   "execution_count": null,
   "metadata": {},
   "outputs": [],
   "source": []
  }
 ],
 "metadata": {
  "kernelspec": {
   "display_name": "Python 3",
   "language": "python",
   "name": "python3"
  },
  "language_info": {
   "codemirror_mode": {
    "name": "ipython",
    "version": 3
   },
   "file_extension": ".py",
   "mimetype": "text/x-python",
   "name": "python",
   "nbconvert_exporter": "python",
   "pygments_lexer": "ipython3",
   "version": "3.8.0"
  }
 },
 "nbformat": 4,
 "nbformat_minor": 4
}
