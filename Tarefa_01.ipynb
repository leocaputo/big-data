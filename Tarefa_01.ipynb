{
 "cells": [
  {
   "cell_type": "code",
   "execution_count": 17,
   "metadata": {},
   "outputs": [],
   "source": [
    "#Fundamentos em Big Data\n",
    "#Tarefa 01\n",
    "#Aluno: Leandro Ariel Caputo\n",
    "#28/01/21"
   ]
  },
  {
   "cell_type": "code",
   "execution_count": 18,
   "metadata": {},
   "outputs": [],
   "source": [
    "from threading import Thread\n",
    "import random\n",
    "import math\n",
    "import numpy as np\n",
    "import threading\n",
    "import time"
   ]
  },
  {
   "cell_type": "code",
   "execution_count": 19,
   "metadata": {},
   "outputs": [],
   "source": [
    "#PARTE 01 - Dimensão limite usando Numpy"
   ]
  },
  {
   "cell_type": "code",
   "execution_count": 20,
   "metadata": {},
   "outputs": [],
   "source": [
    "def Initialize_Matrix(dimension_N):\n",
    "    global Matrix_A\n",
    "    global Matrix_B\n",
    "    global Matrix_C\n",
    "\n",
    "    #Using numpy to generate matrix\n",
    "    Matrix_A = np.random.random((dimension_N,dimension_N))\n",
    "    Matrix_A = Matrix_A * 10\n",
    "    Matrix_A = Matrix_A.astype(int)\n",
    "    \n",
    "    Matrix_B = np.random.random((dimension_N,dimension_N))\n",
    "    Matrix_B = Matrix_B * 10\n",
    "    Matrix_B = Matrix_B.astype(int)\n",
    "    \n",
    "    Matrix_C = np.zeros((dimension_N,dimension_N))\n",
    "    Matrix_C = Matrix_C.astype(int)"
   ]
  },
  {
   "cell_type": "code",
   "execution_count": 21,
   "metadata": {},
   "outputs": [
    {
     "name": "stdout",
     "output_type": "stream",
     "text": [
      "RESULTADOS PARA NUMPY:\n",
      "A dimensão limite para o tempo de execução não ultrapassar 0.05 segundos é 390.\n",
      "O tempo médio foi 0.0531 segundos para multiplicação de matrizes com dimensão 390.\n",
      "Vetor para 10 execuções: [0.0469, 0.0625, 0.0469, 0.0469, 0.0625, 0.0469, 0.0625, 0.0469, 0.0469, 0.0625].\n"
     ]
    }
   ],
   "source": [
    "dimension_N = 0\n",
    "tempo_limite = 0.05\n",
    "n_exec = 10\n",
    "passo = 50\n",
    "while True:\n",
    "    if __name__==\"__main__\":\n",
    "        dimension_N += passo\n",
    "        c = 0\n",
    "        tempos = []\n",
    "        Initialize_Matrix(dimension_N)\n",
    "        while True:\n",
    "            start_time = time.time()\n",
    "            Matrix_C = np.dot(Matrix_A,Matrix_B)\n",
    "            end_time = time.time()\n",
    "            t = (end_time - start_time)\n",
    "            tempos.append(t)\n",
    "            c += 1\n",
    "            if c == n_exec:\n",
    "                media_t = sum(tempos) / len(tempos)\n",
    "                break\n",
    "        if media_t > tempo_limite:\n",
    "            if passo == 1:\n",
    "                print(f'RESULTADOS PARA NUMPY:')\n",
    "                print(f'A dimensão limite para o tempo de execução não ultrapassar {tempo_limite} segundos é {dimension_N}.')\n",
    "                print(f'O tempo médio foi {round(media_t,4)} segundos para multiplicação de matrizes com dimensão {dimension_N}.')\n",
    "                print(f'Vetor para 10 execuções: {[round(elem, 4) for elem in tempos]}.')\n",
    "                break\n",
    "            else:\n",
    "                dimension_N -= passo\n",
    "                passo = math.floor(passo/2)"
   ]
  },
  {
   "cell_type": "code",
   "execution_count": 22,
   "metadata": {},
   "outputs": [],
   "source": [
    "#PARTE 2 - Dimensão limite usando Thread"
   ]
  },
  {
   "cell_type": "code",
   "execution_count": 23,
   "metadata": {},
   "outputs": [],
   "source": [
    "def Matrix_multiply_parallel(start,end):\n",
    "    for i in range(start,end):\n",
    "        for j in range(dimension_N):\n",
    "            for k in range(dimension_N):\n",
    "                Matrix_C[i][j] += int(Matrix_A[i][k] * Matrix_B[k][j])"
   ]
  },
  {
   "cell_type": "code",
   "execution_count": 24,
   "metadata": {},
   "outputs": [],
   "source": [
    "def Thread_function(num_of_threads,dimension_N):\n",
    "    thread_handle = []\n",
    "\n",
    "    for j in range(0,num_of_threads):\n",
    "        t = Thread(target = Matrix_multiply_parallel, args=(int((dimension_N/num_of_threads) * j),int((dimension_N/num_of_threads) * (j+1))))\n",
    "        thread_handle.append(t)\n",
    "        t.start()   \n",
    "        \n",
    "    for j in range(0,num_of_threads):\n",
    "        thread_handle[j].join()"
   ]
  },
  {
   "cell_type": "code",
   "execution_count": 25,
   "metadata": {},
   "outputs": [
    {
     "name": "stdout",
     "output_type": "stream",
     "text": [
      "RESULTADOS PARA 1 THREADS:\n",
      "A dimensão limite para o tempo de execução não ultrapassar 0.05 segundos é 30.\n",
      "O tempo médio foi 0.0507 segundos para multiplicação de matrizes com dimensão 30.\n",
      "Vetor para 10 execuções: [0.0469, 0.0469, 0.0469, 0.0649, 0.0488, 0.0478, 0.0511, 0.051, 0.05, 0.0531].\n"
     ]
    }
   ],
   "source": [
    "dimension_N = 0\n",
    "num_of_threads = 1\n",
    "tempo_limite = 0.05\n",
    "n_exec = 10\n",
    "passo = 50\n",
    "while True:\n",
    "    if __name__==\"__main__\":\n",
    "        dimension_N += passo\n",
    "        c = 0\n",
    "        tempos = []\n",
    "        Initialize_Matrix(dimension_N)\n",
    "        while True:\n",
    "            start_time = time.time()\n",
    "            Thread_function(num_of_threads,dimension_N)\n",
    "            end_time = time.time()\n",
    "            t = (end_time - start_time)\n",
    "            tempos.append(t)\n",
    "            c += 1\n",
    "            if c == n_exec:\n",
    "                media_t = sum(tempos) / len(tempos)\n",
    "                break\n",
    "        if media_t > tempo_limite:\n",
    "            if passo == 1:\n",
    "                print(f'RESULTADOS PARA {num_of_threads} THREADS:')\n",
    "                print(f'A dimensão limite para o tempo de execução não ultrapassar {tempo_limite} segundos é {dimension_N}.')\n",
    "                print(f'O tempo médio foi {round(media_t,4)} segundos para multiplicação de matrizes com dimensão {dimension_N}.')\n",
    "                print(f'Vetor para 10 execuções: {[round(elem, 4) for elem in tempos]}.')\n",
    "                break\n",
    "            else:\n",
    "                dimension_N -= passo\n",
    "                passo = math.floor(passo/2)"
   ]
  },
  {
   "cell_type": "code",
   "execution_count": null,
   "metadata": {},
   "outputs": [],
   "source": []
  }
 ],
 "metadata": {
  "kernelspec": {
   "display_name": "Python 3",
   "language": "python",
   "name": "python3"
  },
  "language_info": {
   "codemirror_mode": {
    "name": "ipython",
    "version": 3
   },
   "file_extension": ".py",
   "mimetype": "text/x-python",
   "name": "python",
   "nbconvert_exporter": "python",
   "pygments_lexer": "ipython3",
   "version": "3.8.0"
  }
 },
 "nbformat": 4,
 "nbformat_minor": 4
}
