{
 "cells": [
  {
   "cell_type": "code",
   "execution_count": 1,
   "metadata": {},
   "outputs": [],
   "source": [
    "#Fundamentos em Big Data\n",
    "#Tarefa 01\n",
    "#Aluno: Leandro Ariel Caputo\n",
    "#28/01/21"
   ]
  },
  {
   "cell_type": "code",
   "execution_count": 2,
   "metadata": {},
   "outputs": [],
   "source": [
    "from threading import Thread\n",
    "import random\n",
    "import math\n",
    "import numpy as np\n",
    "import threading\n",
    "import time"
   ]
  },
  {
   "cell_type": "code",
   "execution_count": 3,
   "metadata": {},
   "outputs": [],
   "source": [
    "#PARTE 01 - Dimensão limite usando Numpy"
   ]
  },
  {
   "cell_type": "code",
   "execution_count": 4,
   "metadata": {},
   "outputs": [],
   "source": [
    "def Initialize_Matrix(dimension_N):\n",
    "    global Matrix_A\n",
    "    global Matrix_B\n",
    "    global Matrix_C\n",
    "\n",
    "    #Using numpy to generate matrix\n",
    "    Matrix_A = np.random.random((dimension_N,dimension_N))\n",
    "    Matrix_A = Matrix_A * 10\n",
    "    Matrix_A = Matrix_A.astype(int)\n",
    "    \n",
    "    Matrix_B = np.random.random((dimension_N,dimension_N))\n",
    "    Matrix_B = Matrix_B * 10\n",
    "    Matrix_B = Matrix_B.astype(int)\n",
    "    \n",
    "    Matrix_C = np.zeros((dimension_N,dimension_N))\n",
    "    Matrix_C = Matrix_C.astype(int)"
   ]
  },
  {
   "cell_type": "code",
   "execution_count": 5,
   "metadata": {},
   "outputs": [
    {
     "name": "stdout",
     "output_type": "stream",
     "text": [
      "Iteração 1: Dimensão = 50, Tempo Médio = 0.0002\n",
      "Iteração 2: Dimensão = 100, Tempo Médio = 0.0008\n",
      "Iteração 3: Dimensão = 150, Tempo Médio = 0.0029\n",
      "Iteração 4: Dimensão = 200, Tempo Médio = 0.0046\n",
      "Iteração 5: Dimensão = 250, Tempo Médio = 0.0116\n",
      "Iteração 6: Dimensão = 300, Tempo Médio = 0.0237\n",
      "Iteração 7: Dimensão = 350, Tempo Médio = 0.0385\n",
      "Iteração 8: Dimensão = 400, Tempo Médio = 0.0536\n",
      "Iteração 9: Dimensão = 375, Tempo Médio = 0.0453\n",
      "Iteração 10: Dimensão = 400, Tempo Médio = 0.0534\n",
      "Iteração 11: Dimensão = 387, Tempo Médio = 0.0502\n",
      "Iteração 12: Dimensão = 381, Tempo Médio = 0.058\n",
      "Iteração 13: Dimensão = 378, Tempo Médio = 0.0443\n",
      "Iteração 14: Dimensão = 381, Tempo Médio = 0.0545\n",
      "Iteração 15: Dimensão = 379, Tempo Médio = 0.0472\n",
      "Iteração 16: Dimensão = 380, Tempo Médio = 0.0453\n",
      "Iteração 17: Dimensão = 381, Tempo Médio = 0.0587\n",
      "\n",
      "RESULTADO FINAL PARA NUMPY:\n",
      "A dimensão limite para o tempo de execução não ultrapassar 0.05 segundos é 381.\n",
      "O tempo médio foi 0.0587 segundos para multiplicação de matrizes com dimensão 381.\n",
      "Vetor para 10 execuções: [0.0625, 0.0469, 0.0625, 0.0644, 0.0573, 0.0469, 0.0625, 0.0625, 0.0619, 0.06].\n"
     ]
    }
   ],
   "source": [
    "dimension_N = 0\n",
    "tempo_limite = 0.05\n",
    "n_exec = 10\n",
    "passo = 50\n",
    "i = 0\n",
    "while True:\n",
    "    if __name__==\"__main__\":\n",
    "        dimension_N += passo\n",
    "        c = 0\n",
    "        tempos = []\n",
    "        Initialize_Matrix(dimension_N)\n",
    "        while True:\n",
    "            start_time = time.time()\n",
    "            Matrix_C = np.dot(Matrix_A,Matrix_B)\n",
    "            end_time = time.time()\n",
    "            t = (end_time - start_time)\n",
    "            tempos.append(t)\n",
    "            c += 1\n",
    "            if c == n_exec:\n",
    "                media_t = sum(tempos) / len(tempos)\n",
    "                i += 1\n",
    "                print(f'Iteração {i}: Dimensão = {dimension_N}, Tempo Médio = {round(media_t,4)}')\n",
    "                break\n",
    "        if media_t > tempo_limite:\n",
    "            if passo == 1:\n",
    "                print(f'\\nRESULTADO FINAL PARA NUMPY:')\n",
    "                print(f'A dimensão limite para o tempo de execução não ultrapassar {tempo_limite} segundos é {dimension_N}.')\n",
    "                print(f'O tempo médio foi {round(media_t,4)} segundos para multiplicação de matrizes com dimensão {dimension_N}.')\n",
    "                print(f'Vetor para 10 execuções: {[round(elem, 4) for elem in tempos]}.')\n",
    "                break\n",
    "            else:\n",
    "                dimension_N -= passo\n",
    "                passo = math.floor(passo/2)"
   ]
  },
  {
   "cell_type": "code",
   "execution_count": 6,
   "metadata": {},
   "outputs": [],
   "source": [
    "#PARTE 2 - Dimensão limite usando Thread"
   ]
  },
  {
   "cell_type": "code",
   "execution_count": 7,
   "metadata": {},
   "outputs": [],
   "source": [
    "def Matrix_multiply_parallel(start,end):\n",
    "    for i in range(start,end):\n",
    "        for j in range(dimension_N):\n",
    "            for k in range(dimension_N):\n",
    "                Matrix_C[i][j] += int(Matrix_A[i][k] * Matrix_B[k][j])"
   ]
  },
  {
   "cell_type": "code",
   "execution_count": 8,
   "metadata": {},
   "outputs": [],
   "source": [
    "def Thread_function(num_of_threads,dimension_N):\n",
    "    thread_handle = []\n",
    "\n",
    "    for j in range(0,num_of_threads):\n",
    "        t = Thread(target = Matrix_multiply_parallel, args=(int((dimension_N/num_of_threads) * j),int((dimension_N/num_of_threads) * (j+1))))\n",
    "        thread_handle.append(t)\n",
    "        t.start()   \n",
    "        \n",
    "    for j in range(0,num_of_threads):\n",
    "        thread_handle[j].join()"
   ]
  },
  {
   "cell_type": "code",
   "execution_count": 9,
   "metadata": {},
   "outputs": [
    {
     "name": "stdout",
     "output_type": "stream",
     "text": [
      "Iteração 1: Dimensão = 50, Tempo Médio = 0.2322\n",
      "Iteração 2: Dimensão = 25, Tempo Médio = 0.0304\n",
      "Iteração 3: Dimensão = 50, Tempo Médio = 0.2275\n",
      "Iteração 4: Dimensão = 37, Tempo Médio = 0.0942\n",
      "Iteração 5: Dimensão = 31, Tempo Médio = 0.054\n",
      "Iteração 6: Dimensão = 28, Tempo Médio = 0.0412\n",
      "Iteração 7: Dimensão = 31, Tempo Médio = 0.0543\n",
      "Iteração 8: Dimensão = 29, Tempo Médio = 0.0457\n",
      "Iteração 9: Dimensão = 30, Tempo Médio = 0.0501\n",
      "\n",
      "RESULTADOS PARA 1 THREADS:\n",
      "A dimensão limite para o tempo de execução não ultrapassar 0.05 segundos é 30.\n",
      "O tempo médio foi 0.0501 segundos para multiplicação de matrizes com dimensão 30.\n",
      "Vetor para 10 execuções: [0.0469, 0.0469, 0.0469, 0.0469, 0.0469, 0.0634, 0.0469, 0.0469, 0.0625, 0.0469].\n"
     ]
    }
   ],
   "source": [
    "dimension_N = 0\n",
    "num_of_threads = 1\n",
    "tempo_limite = 0.05\n",
    "n_exec = 10\n",
    "passo = 50\n",
    "i=0\n",
    "while True:\n",
    "    if __name__==\"__main__\":\n",
    "        dimension_N += passo\n",
    "        c = 0\n",
    "        tempos = []\n",
    "        Initialize_Matrix(dimension_N)\n",
    "        while True:\n",
    "            start_time = time.time()\n",
    "            Thread_function(num_of_threads,dimension_N)\n",
    "            end_time = time.time()\n",
    "            t = (end_time - start_time)\n",
    "            tempos.append(t)\n",
    "            c += 1\n",
    "            if c == n_exec:\n",
    "                media_t = sum(tempos) / len(tempos)\n",
    "                i += 1\n",
    "                print(f'Iteração {i}: Dimensão = {dimension_N}, Tempo Médio = {round(media_t,4)}')\n",
    "                break\n",
    "        if media_t > tempo_limite:\n",
    "            if passo == 1:\n",
    "                print(f'\\nRESULTADOS PARA {num_of_threads} THREADS:')\n",
    "                print(f'A dimensão limite para o tempo de execução não ultrapassar {tempo_limite} segundos é {dimension_N}.')\n",
    "                print(f'O tempo médio foi {round(media_t,4)} segundos para multiplicação de matrizes com dimensão {dimension_N}.')\n",
    "                print(f'Vetor para 10 execuções: {[round(elem, 4) for elem in tempos]}.')\n",
    "                break\n",
    "            else:\n",
    "                dimension_N -= passo\n",
    "                passo = math.floor(passo/2)"
   ]
  },
  {
   "cell_type": "code",
   "execution_count": 10,
   "metadata": {},
   "outputs": [
    {
     "name": "stdout",
     "output_type": "stream",
     "text": [
      "Iteração 1: Dimensão = 50, Tempo Médio = 0.2341\n",
      "Iteração 2: Dimensão = 25, Tempo Médio = 0.0314\n",
      "Iteração 3: Dimensão = 50, Tempo Médio = 0.2273\n",
      "Iteração 4: Dimensão = 37, Tempo Médio = 0.0942\n",
      "Iteração 5: Dimensão = 31, Tempo Médio = 0.0559\n",
      "Iteração 6: Dimensão = 28, Tempo Médio = 0.0414\n",
      "Iteração 7: Dimensão = 31, Tempo Médio = 0.0559\n",
      "Iteração 8: Dimensão = 29, Tempo Médio = 0.0457\n",
      "Iteração 9: Dimensão = 30, Tempo Médio = 0.0512\n",
      "\n",
      "RESULTADOS PARA 4 THREADS:\n",
      "A dimensão limite para o tempo de execução não ultrapassar 0.05 segundos é 30.\n",
      "O tempo médio foi 0.0512 segundos para multiplicação de matrizes com dimensão 30.\n",
      "Vetor para 10 execuções: [0.0469, 0.0469, 0.0625, 0.0469, 0.0437, 0.0625, 0.0469, 0.0469, 0.0469, 0.0625].\n"
     ]
    }
   ],
   "source": [
    "dimension_N = 0\n",
    "num_of_threads = 4\n",
    "tempo_limite = 0.05\n",
    "n_exec = 10\n",
    "passo = 50\n",
    "i=0\n",
    "while True:\n",
    "    if __name__==\"__main__\":\n",
    "        dimension_N += passo\n",
    "        c = 0\n",
    "        tempos = []\n",
    "        Initialize_Matrix(dimension_N)\n",
    "        while True:\n",
    "            start_time = time.time()\n",
    "            Thread_function(num_of_threads,dimension_N)\n",
    "            end_time = time.time()\n",
    "            t = (end_time - start_time)\n",
    "            tempos.append(t)\n",
    "            c += 1\n",
    "            if c == n_exec:\n",
    "                media_t = sum(tempos) / len(tempos)\n",
    "                i += 1\n",
    "                print(f'Iteração {i}: Dimensão = {dimension_N}, Tempo Médio = {round(media_t,4)}')\n",
    "                break\n",
    "        if media_t > tempo_limite:\n",
    "            if passo == 1:\n",
    "                print(f'\\nRESULTADOS PARA {num_of_threads} THREADS:')\n",
    "                print(f'A dimensão limite para o tempo de execução não ultrapassar {tempo_limite} segundos é {dimension_N}.')\n",
    "                print(f'O tempo médio foi {round(media_t,4)} segundos para multiplicação de matrizes com dimensão {dimension_N}.')\n",
    "                print(f'Vetor para 10 execuções: {[round(elem, 4) for elem in tempos]}.')\n",
    "                break\n",
    "            else:\n",
    "                dimension_N -= passo\n",
    "                passo = math.floor(passo/2)"
   ]
  }
 ],
 "metadata": {
  "kernelspec": {
   "display_name": "Python 3",
   "language": "python",
   "name": "python3"
  },
  "language_info": {
   "codemirror_mode": {
    "name": "ipython",
    "version": 3
   },
   "file_extension": ".py",
   "mimetype": "text/x-python",
   "name": "python",
   "nbconvert_exporter": "python",
   "pygments_lexer": "ipython3",
   "version": "3.8.0"
  }
 },
 "nbformat": 4,
 "nbformat_minor": 4
}
