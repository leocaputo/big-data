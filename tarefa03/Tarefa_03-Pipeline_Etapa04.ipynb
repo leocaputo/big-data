{
 "cells": [
  {
   "cell_type": "code",
   "execution_count": 51,
   "metadata": {},
   "outputs": [],
   "source": [
    "#Processamento e Análise em Big Data\n",
    "#Tarefa 03\n",
    "#Grupo 03\n",
    "#29/03/2021"
   ]
  },
  {
   "cell_type": "code",
   "execution_count": 52,
   "metadata": {},
   "outputs": [],
   "source": [
    "#import pyspark\n",
    "#from pyspark.context import SparkContext\n",
    "#from pyspark.sql.session import SparkSession\n",
    "\n",
    "import pyspark.sql.functions as F\n",
    "from pyspark.sql.types import StringType\n",
    "from pyspark.sql.types import IntegerType"
   ]
  },
  {
   "cell_type": "code",
   "execution_count": 53,
   "metadata": {},
   "outputs": [],
   "source": [
    "#spark = SparkSession.builder \\\n",
    "#                    .appName(\"Tarefa_03\") \\\n",
    "#                    .config(\"spark.some.config.option\", \"some-value\") \\\n",
    "#                    .getOrCreate()"
   ]
  },
  {
   "cell_type": "code",
   "execution_count": 54,
   "metadata": {},
   "outputs": [],
   "source": [
    "#sc = pyspark.SparkContext(master = \"spark://node5:7077\", appName='SINASC')\n",
    "#spark = SparkSession(sc)"
   ]
  },
  {
   "cell_type": "code",
   "execution_count": 55,
   "metadata": {},
   "outputs": [],
   "source": [
    "#Criando dataframes a partir das tabelas CSVs\n",
    "df = spark.read.csv('hdfs://node5:9000/refined/csv/base_sinasc_2016_a_2019_recortada_v1.csv', header=True, encoding='ISO-8859-1')"
   ]
  },
  {
   "cell_type": "code",
   "execution_count": 56,
   "metadata": {},
   "outputs": [
    {
     "name": "stdout",
     "output_type": "stream",
     "text": [
      "root\n",
      " |-- CONTADOR: string (nullable = true)\n",
      " |-- APGAR1: string (nullable = true)\n",
      " |-- APGAR5: string (nullable = true)\n",
      " |-- RACACOR: string (nullable = true)\n",
      " |-- ANO: string (nullable = true)\n",
      " |-- SEXO: string (nullable = true)\n",
      "\n"
     ]
    }
   ],
   "source": [
    "df.printSchema()"
   ]
  },
  {
   "cell_type": "code",
   "execution_count": 57,
   "metadata": {},
   "outputs": [],
   "source": [
    "#Conversão de Dados\n",
    "df = df.withColumn(\"APGAR1\", F.col(\"APGAR1\").astype(IntegerType()))\n",
    "df = df.withColumn(\"APGAR5\", F.col(\"APGAR5\").astype(IntegerType()))"
   ]
  },
  {
   "cell_type": "code",
   "execution_count": 58,
   "metadata": {},
   "outputs": [
    {
     "name": "stdout",
     "output_type": "stream",
     "text": [
      "root\n",
      " |-- CONTADOR: string (nullable = true)\n",
      " |-- APGAR1: integer (nullable = true)\n",
      " |-- APGAR5: integer (nullable = true)\n",
      " |-- RACACOR: string (nullable = true)\n",
      " |-- ANO: string (nullable = true)\n",
      " |-- SEXO: string (nullable = true)\n",
      "\n"
     ]
    }
   ],
   "source": [
    "df.printSchema()"
   ]
  },
  {
   "cell_type": "code",
   "execution_count": 59,
   "metadata": {},
   "outputs": [],
   "source": [
    "#Qual o APGAR1 médio de cada ano?\n",
    "#Qual o APGAR5 médio de cada ano?\n",
    "df1=df.groupBy('ANO').mean('APGAR1').orderBy('ANO')\n",
    "df2=df.groupBy('ANO').mean('APGAR5').orderBy('ANO')"
   ]
  },
  {
   "cell_type": "code",
   "execution_count": 60,
   "metadata": {},
   "outputs": [
    {
     "name": "stdout",
     "output_type": "stream",
     "text": [
      "+----+-----------------+\n",
      "| ANO|      avg(APGAR1)|\n",
      "+----+-----------------+\n",
      "|2016|8.222669145219704|\n",
      "|2017|8.221344478635618|\n",
      "|2018|8.225372542524305|\n",
      "|2019| 8.23762277951933|\n",
      "+----+-----------------+\n",
      "\n"
     ]
    }
   ],
   "source": [
    "df1.show()"
   ]
  },
  {
   "cell_type": "code",
   "execution_count": 61,
   "metadata": {},
   "outputs": [
    {
     "name": "stdout",
     "output_type": "stream",
     "text": [
      "+----+-----------------+\n",
      "| ANO|      avg(APGAR5)|\n",
      "+----+-----------------+\n",
      "|2016|9.346736674554126|\n",
      "|2017|9.341590246839868|\n",
      "|2018|9.323128568991299|\n",
      "|2019|9.327313474940185|\n",
      "+----+-----------------+\n",
      "\n"
     ]
    }
   ],
   "source": [
    "df2.show()"
   ]
  },
  {
   "cell_type": "code",
   "execution_count": 62,
   "metadata": {},
   "outputs": [],
   "source": [
    "#Qual o APGAR1 médio de cada ano para cada sexo?\n",
    "df3=df.where(F.col('SEXO')!=0).groupBy('ANO','SEXO').mean('APGAR1').orderBy('ANO')"
   ]
  },
  {
   "cell_type": "code",
   "execution_count": 63,
   "metadata": {},
   "outputs": [
    {
     "name": "stdout",
     "output_type": "stream",
     "text": [
      "+----+----+-----------------+\n",
      "| ANO|SEXO|      avg(APGAR1)|\n",
      "+----+----+-----------------+\n",
      "|2016|   1| 8.18505958219421|\n",
      "|2016|   2|8.263335961108922|\n",
      "|2017|   2|8.248361908350605|\n",
      "|2017|   1|8.196702201853144|\n",
      "|2018|   2|8.253031112572438|\n",
      "|2018|   1|8.200553603329473|\n",
      "|2019|   1|8.196752841519432|\n",
      "|2019|   2|8.281855178970082|\n",
      "+----+----+-----------------+\n",
      "\n"
     ]
    }
   ],
   "source": [
    "df3.show()"
   ]
  },
  {
   "cell_type": "code",
   "execution_count": 64,
   "metadata": {},
   "outputs": [],
   "source": [
    "#Qual o APGAR1 médio global para cada sexo?\n",
    "df4=df.where(F.col('SEXO')!=0).groupBy('SEXO').mean('APGAR1')"
   ]
  },
  {
   "cell_type": "code",
   "execution_count": 65,
   "metadata": {},
   "outputs": [
    {
     "name": "stdout",
     "output_type": "stream",
     "text": [
      "+----+-----------------+\n",
      "|SEXO|      avg(APGAR1)|\n",
      "+----+-----------------+\n",
      "|   1|8.194887186133407|\n",
      "|   2|8.261483855769917|\n",
      "+----+-----------------+\n",
      "\n"
     ]
    }
   ],
   "source": [
    "df4.show()"
   ]
  },
  {
   "cell_type": "code",
   "execution_count": 66,
   "metadata": {},
   "outputs": [],
   "source": [
    "#Qual o APGAR5 médio de cada ano para cada sexo?\n",
    "df5=df.where(F.col('SEXO')!=0).groupBy('ANO','SEXO').mean('APGAR5').orderBy('ANO')"
   ]
  },
  {
   "cell_type": "code",
   "execution_count": 67,
   "metadata": {},
   "outputs": [
    {
     "name": "stdout",
     "output_type": "stream",
     "text": [
      "+----+----+-----------------+\n",
      "| ANO|SEXO|      avg(APGAR5)|\n",
      "+----+----+-----------------+\n",
      "|2016|   1|9.321140543980636|\n",
      "|2016|   2|9.374934302733006|\n",
      "|2017|   1|9.330915612234731|\n",
      "|2017|   2|9.354152274487639|\n",
      "|2018|   1|9.311405918831934|\n",
      "|2018|   2|9.337199626041485|\n",
      "|2019|   1|9.301787979215254|\n",
      "|2019|   2|9.355688712295992|\n",
      "+----+----+-----------------+\n",
      "\n"
     ]
    }
   ],
   "source": [
    "df5.show()"
   ]
  },
  {
   "cell_type": "code",
   "execution_count": 68,
   "metadata": {},
   "outputs": [],
   "source": [
    "#Qual o APGAR5 médio global para cada sexo?\n",
    "df6=df.where(F.col('SEXO')!=0).groupBy('SEXO').mean('APGAR5')"
   ]
  },
  {
   "cell_type": "code",
   "execution_count": 69,
   "metadata": {},
   "outputs": [
    {
     "name": "stdout",
     "output_type": "stream",
     "text": [
      "+----+-----------------+\n",
      "|SEXO|      avg(APGAR5)|\n",
      "+----+-----------------+\n",
      "|   1|9.316333876406622|\n",
      "|   2|9.355189015078329|\n",
      "+----+-----------------+\n",
      "\n"
     ]
    }
   ],
   "source": [
    "df6.show()"
   ]
  },
  {
   "cell_type": "code",
   "execution_count": 85,
   "metadata": {},
   "outputs": [],
   "source": [
    "#Qual o APGAR1 médio de cada ano para cada sexo e raça?\n",
    "df7=df.filter(F.col('RACACOR') != 'null').where(F.col('SEXO')!=0).groupBy('ANO','SEXO','RACACOR').mean('APGAR1').orderBy('ANO','SEXO','RACACOR')"
   ]
  },
  {
   "cell_type": "code",
   "execution_count": 86,
   "metadata": {},
   "outputs": [
    {
     "name": "stdout",
     "output_type": "stream",
     "text": [
      "+----+----+-------+-----------------+\n",
      "| ANO|SEXO|RACACOR|      avg(APGAR1)|\n",
      "+----+----+-------+-----------------+\n",
      "|2016|   1|      1|8.201527777777779|\n",
      "|2016|   1|      2|8.334256294886217|\n",
      "|2016|   1|      3|8.068493150684931|\n",
      "|2016|   1|      4|8.156211074623485|\n",
      "|2016|   1|      5|7.992831541218638|\n",
      "|2016|   2|      1|8.295281152868041|\n",
      "|2016|   2|      2|8.414084245685656|\n",
      "|2016|   2|      3|8.169741697416974|\n",
      "|2016|   2|      4|8.229174703979583|\n",
      "|2016|   2|      5|  8.2834008097166|\n",
      "|2017|   1|      1|8.232180570221752|\n",
      "|2017|   1|      2|8.262425125465436|\n",
      "|2017|   1|      3|8.200520833333334|\n",
      "|2017|   1|      4| 8.16633048029221|\n",
      "|2017|   1|      5|8.357142857142858|\n",
      "|2017|   2|      1|8.280664990220732|\n",
      "|2017|   2|      2|8.332635070262722|\n",
      "|2017|   2|      3|8.187660668380463|\n",
      "|2017|   2|      4|8.223880597014926|\n",
      "|2017|   2|      5|8.235668789808917|\n",
      "+----+----+-------+-----------------+\n",
      "only showing top 20 rows\n",
      "\n"
     ]
    }
   ],
   "source": [
    "df7.show()"
   ]
  },
  {
   "cell_type": "code",
   "execution_count": 83,
   "metadata": {},
   "outputs": [],
   "source": [
    "#Qual o APGAR1 médio global para cada sexo e raça?\n",
    "df8=df.filter(F.col('RACACOR') != 'null').where(F.col('SEXO')!=0).groupBy('SEXO','RACACOR').mean('APGAR1').orderBy('SEXO','RACACOR')"
   ]
  },
  {
   "cell_type": "code",
   "execution_count": 84,
   "metadata": {},
   "outputs": [
    {
     "name": "stdout",
     "output_type": "stream",
     "text": [
      "+----+-------+-----------------+\n",
      "|SEXO|RACACOR|      avg(APGAR1)|\n",
      "+----+-------+-----------------+\n",
      "|   1|      1|8.250508418069678|\n",
      "|   1|      2| 8.29699076373026|\n",
      "|   1|      3|8.145118733509236|\n",
      "|   1|      4|8.168519148030258|\n",
      "|   1|      5| 8.19956772334294|\n",
      "|   2|      1|8.311494528864953|\n",
      "|   2|      2|8.369687605824586|\n",
      "|   2|      3|8.271487039563437|\n",
      "|   2|      4|8.236812594349795|\n",
      "|   2|      5|8.338810641627543|\n",
      "+----+-------+-----------------+\n",
      "\n"
     ]
    }
   ],
   "source": [
    "df8.show()"
   ]
  },
  {
   "cell_type": "code",
   "execution_count": null,
   "metadata": {},
   "outputs": [],
   "source": []
  }
 ],
 "metadata": {
  "kernelspec": {
   "display_name": "Python 3",
   "language": "python",
   "name": "python3"
  },
  "language_info": {
   "codemirror_mode": {
    "name": "ipython",
    "version": 3
   },
   "file_extension": ".py",
   "mimetype": "text/x-python",
   "name": "python",
   "nbconvert_exporter": "python",
   "pygments_lexer": "ipython3",
   "version": "3.8.5"
  }
 },
 "nbformat": 4,
 "nbformat_minor": 4
}
