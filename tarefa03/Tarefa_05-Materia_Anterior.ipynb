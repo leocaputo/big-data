{
 "cells": [
  {
   "cell_type": "code",
   "execution_count": 1,
   "metadata": {},
   "outputs": [],
   "source": [
    "#Fundamentos em Big Data\n",
    "#Tarefa 05\n",
    "#Grupo 03\n",
    "#05/02/2021"
   ]
  },
  {
   "cell_type": "code",
   "execution_count": 2,
   "metadata": {},
   "outputs": [],
   "source": [
    "from pyspark.sql import SparkSession\n",
    "import pyspark.sql.functions as F\n",
    "from pyspark.sql.types import StringType\n",
    "from pyspark.sql.types import IntegerType"
   ]
  },
  {
   "cell_type": "code",
   "execution_count": 3,
   "metadata": {},
   "outputs": [],
   "source": [
    "spark = SparkSession.builder \\\n",
    "                    .appName(\"Tarefa_05\") \\\n",
    "                    .config(\"spark.some.config.option\", \"some-value\") \\\n",
    "                    .getOrCreate()"
   ]
  },
  {
   "cell_type": "code",
   "execution_count": 4,
   "metadata": {},
   "outputs": [],
   "source": [
    "#Criando dataframes a partir das tabelas CSVs\n",
    "df15 = spark.read.csv('DNBA2015.csv', header=True, encoding='ISO-8859-1')\n",
    "df16 = spark.read.csv('DNBA2016.csv', header=True, encoding='ISO-8859-1')\n",
    "df17 = spark.read.csv('DNBA2017.csv', header=True, encoding='ISO-8859-1')\n",
    "df18 = spark.read.csv('DNBA2018.csv', header=True, encoding='ISO-8859-1')\n",
    "df19 = spark.read.csv('DNBA2019.csv', header=True, encoding='ISO-8859-1')"
   ]
  },
  {
   "cell_type": "code",
   "execution_count": 5,
   "metadata": {},
   "outputs": [],
   "source": [
    "#Criando dataframe único\n",
    "df = df15.unionByName(df16)\n",
    "df = df.unionByName(df17)\n",
    "df = df.unionByName(df18)\n",
    "df = df.unionByName(df19)"
   ]
  },
  {
   "cell_type": "code",
   "execution_count": 6,
   "metadata": {},
   "outputs": [],
   "source": [
    "#Selecionando apenas as colunas de interese\n",
    "df = df.select('CODMUNNASC', 'IDADEMAE', 'SEXO', 'DTNASC').orderBy('DTNASC')\n",
    "#Criando coluna com o ano de nascimento\n",
    "df = df.withColumn('ANO', F.substring(F.col('DTNASC'), 5,4))\n",
    "#Código de Salvador=2905701\n",
    "df=df.filter(F.col('CODMUNNASC') == '290570')"
   ]
  },
  {
   "cell_type": "code",
   "execution_count": 7,
   "metadata": {},
   "outputs": [],
   "source": [
    "#Base para Cliente: nascidos vivos por ano\n",
    "df_final = df.groupBy('ANO').count().orderBy('ANO')\n",
    "df_final = df_final.withColumnRenamed('count', 'NASCIDOS')"
   ]
  },
  {
   "cell_type": "code",
   "execution_count": 8,
   "metadata": {},
   "outputs": [],
   "source": [
    "#Base para Cliente: nascidos vivos do sexo masculino por ano\n",
    "df2=df.where(F.col('SEXO')==1).groupBy('ANO').count().orderBy('ANO')\n",
    "df2 = df2.withColumnRenamed('count', 'NASC_MASC')\n",
    "df2 = df2.withColumnRenamed('ANO','ANO1')\n",
    "df_final = df_final.join(df2,df_final.ANO==df2.ANO1)\n",
    "df_final=df_final.drop('ANO1')"
   ]
  },
  {
   "cell_type": "code",
   "execution_count": 9,
   "metadata": {},
   "outputs": [],
   "source": [
    "#Base para Cliente: nascidos vivos do sexo feminino por ano\n",
    "df2=df.where(F.col('SEXO')==2).groupBy('ANO').count().orderBy('ANO')\n",
    "df2 = df2.withColumnRenamed('count', 'NASC_FEM')\n",
    "df2 = df2.withColumnRenamed('ANO','ANO1')\n",
    "df_final = df_final.join(df2,df_final.ANO==df2.ANO1)\n",
    "df_final=df_final.drop('ANO1')"
   ]
  },
  {
   "cell_type": "code",
   "execution_count": 10,
   "metadata": {},
   "outputs": [],
   "source": [
    "#Base para Cliente: idade média da mãe por ano\n",
    "#Convertendo tipo dos dados\n",
    "df = df.withColumn(\"IDADEMAETmp\", df[\"IDADEMAE\"].cast('long')).drop(\"IDADEMAE\").withColumnRenamed(\"IDADEMAETmp\", \"IDADEMAE\")\n",
    "df2=df.groupBy('ANO').mean('IDADEMAE').orderBy('ANO')\n",
    "df2 = df2.withColumnRenamed('avg(IDADEMAE)', 'IDADE_MEDIA_MAE')\n",
    "df2 = df2.withColumnRenamed('ANO','ANO1')\n",
    "df_final = df_final.join(df2,df_final.ANO==df2.ANO1)\n",
    "df_final=df_final.drop('ANO1')"
   ]
  },
  {
   "cell_type": "code",
   "execution_count": 11,
   "metadata": {},
   "outputs": [],
   "source": [
    "#Convertendo tipo dos dados da base final\n",
    "df_final = df_final.withColumn(\"ANOTmp\", df_final[\"ANO\"].cast('integer')).drop(\"ANO\").withColumnRenamed(\"ANOTmp\", \"ANO\")\n",
    "df_final = df_final.withColumn(\"NASCIDOSTmp\", df_final[\"NASCIDOS\"].cast('integer')).drop(\"NASCIDOS\").withColumnRenamed(\"NASCIDOSTmp\", \"NASCIDOS\")\n",
    "df_final = df_final.withColumn(\"NASC_MASCTmp\", df_final[\"NASC_MASC\"].cast('integer')).drop(\"NASC_MASC\").withColumnRenamed(\"NASC_MASCTmp\", \"NASC_MASC\")\n",
    "df_final = df_final.withColumn(\"NASC_FEMTmp\", df_final[\"NASC_FEM\"].cast('integer')).drop(\"NASC_FEM\").withColumnRenamed(\"NASC_FEMTmp\", \"NASC_FEM\")\n",
    "df_final = df_final.withColumn(\"IDADE_MEDIA_MAETmp\", df_final[\"IDADE_MEDIA_MAE\"].cast('long')).drop(\"IDADE_MEDIA_MAE\").withColumnRenamed(\"IDADE_MEDIA_MAETmp\", \"IDADE_MEDIA_MAE\")"
   ]
  },
  {
   "cell_type": "code",
   "execution_count": 12,
   "metadata": {},
   "outputs": [
    {
     "name": "stdout",
     "output_type": "stream",
     "text": [
      "root\n",
      " |-- ANO: integer (nullable = true)\n",
      " |-- NASCIDOS: integer (nullable = false)\n",
      " |-- NASC_MASC: integer (nullable = false)\n",
      " |-- NASC_FEM: integer (nullable = false)\n",
      " |-- IDADE_MEDIA_MAE: long (nullable = true)\n",
      "\n"
     ]
    }
   ],
   "source": [
    "df_final.printSchema()"
   ]
  },
  {
   "cell_type": "code",
   "execution_count": 13,
   "metadata": {},
   "outputs": [
    {
     "name": "stdout",
     "output_type": "stream",
     "text": [
      "+----+--------+---------+--------+---------------+\n",
      "| ANO|NASCIDOS|NASC_MASC|NASC_FEM|IDADE_MEDIA_MAE|\n",
      "+----+--------+---------+--------+---------------+\n",
      "|2016|    3026|     1568|    1458|             25|\n",
      "|2019|    2691|     1315|    1376|             26|\n",
      "|2017|    3219|     1635|    1584|             25|\n",
      "|2018|    3247|     1679|    1568|             26|\n",
      "|2015|    3247|     1682|    1565|             25|\n",
      "+----+--------+---------+--------+---------------+\n",
      "\n"
     ]
    }
   ],
   "source": [
    "df_final.show()"
   ]
  },
  {
   "cell_type": "code",
   "execution_count": 15,
   "metadata": {},
   "outputs": [],
   "source": [
    "#TABELA FINAL EXPORTADA PARA CSV\n",
    "df_final.repartition(1).write.csv('Tarefa05_Grupo03.csv',header='True')"
   ]
  }
 ],
 "metadata": {
  "kernelspec": {
   "display_name": "Python 3",
   "language": "python",
   "name": "python3"
  },
  "language_info": {
   "codemirror_mode": {
    "name": "ipython",
    "version": 3
   },
   "file_extension": ".py",
   "mimetype": "text/x-python",
   "name": "python",
   "nbconvert_exporter": "python",
   "pygments_lexer": "ipython3",
   "version": "3.8.5"
  }
 },
 "nbformat": 4,
 "nbformat_minor": 4
}
