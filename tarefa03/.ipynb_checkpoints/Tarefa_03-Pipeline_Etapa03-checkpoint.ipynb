{
 "cells": [
  {
   "cell_type": "code",
   "execution_count": 6,
   "metadata": {},
   "outputs": [],
   "source": [
    "#Processamento e Análise em Big Data\n",
    "#Tarefa 03\n",
    "#Grupo 03\n",
    "#29/03/2021"
   ]
  },
  {
   "cell_type": "code",
   "execution_count": 6,
   "metadata": {},
   "outputs": [],
   "source": [
    "#import pyspark\n",
    "#from pyspark.context import SparkContext\n",
    "#from pyspark.sql.session import SparkSession\n",
    "\n",
    "import pyspark.sql.functions as F\n",
    "from pyspark.sql.types import StringType\n",
    "from pyspark.sql.types import IntegerType"
   ]
  },
  {
   "cell_type": "code",
   "execution_count": 8,
   "metadata": {},
   "outputs": [],
   "source": [
    "#spark = SparkSession.builder \\\n",
    "#                    .appName(\"Tarefa_03\") \\\n",
    "#                    .config(\"spark.some.config.option\", \"some-value\") \\\n",
    "#                    .getOrCreate()"
   ]
  },
  {
   "cell_type": "code",
   "execution_count": 9,
   "metadata": {},
   "outputs": [],
   "source": [
    "#sc = pyspark.SparkContext(master = \"spark://node5:7077\", appName='SINASC')\n",
    "#spark = SparkSession(sc)"
   ]
  },
  {
   "cell_type": "code",
   "execution_count": 7,
   "metadata": {},
   "outputs": [],
   "source": [
    "#Criando dataframes a partir das tabelas CSVs\n",
    "df16 = spark.read.csv('hdfs://node5:9000/refined/csv/base_sinasc_2016_v1.csv', header=True, encoding='ISO-8859-1')\n",
    "df17 = spark.read.csv('hdfs://node5:9000/refined/csv/base_sinasc_2017_v1.csv', header=True, encoding='ISO-8859-1')\n",
    "df18 = spark.read.csv('hdfs://node5:9000/refined/csv/base_sinasc_2018_v1.csv', header=True, encoding='ISO-8859-1')\n",
    "df19 = spark.read.csv('hdfs://node5:9000/refined/csv/base_sinasc_2019_v1.csv', header=True, encoding='ISO-8859-1')"
   ]
  },
  {
   "cell_type": "code",
   "execution_count": 8,
   "metadata": {},
   "outputs": [],
   "source": [
    "#Base 2016\n",
    "#Criando coluna com o ano de nascimento\n",
    "df16 = df16.withColumn('ANO', F.substring(F.col('DTNASC'), 5,4))\n",
    "#Selecionando apenas as colunas de interesse\n",
    "df16 = df16.select('CONTADOR','APGAR1', 'APGAR5', 'RACACOR', 'ANO', 'SEXO')"
   ]
  },
  {
   "cell_type": "code",
   "execution_count": 9,
   "metadata": {},
   "outputs": [],
   "source": [
    "#Base 2017\n",
    "#Criando coluna com o ano de nascimento\n",
    "df17 = df17.withColumn('ANO', F.substring(F.col('DTNASC'), 5,4))\n",
    "#Selecionando apenas as colunas de interesse\n",
    "df17 = df17.select('CONTADOR','APGAR1', 'APGAR5', 'RACACOR', 'ANO', 'SEXO')"
   ]
  },
  {
   "cell_type": "code",
   "execution_count": 10,
   "metadata": {},
   "outputs": [],
   "source": [
    "#Base 2018\n",
    "#Criando coluna com o ano de nascimento\n",
    "df18 = df18.withColumn('ANO', F.substring(F.col('DTNASC'), 5,4))\n",
    "#Selecionando apenas as colunas de interesse\n",
    "df18 = df18.select('CONTADOR','APGAR1', 'APGAR5', 'RACACOR', 'ANO', 'SEXO')"
   ]
  },
  {
   "cell_type": "code",
   "execution_count": 11,
   "metadata": {},
   "outputs": [],
   "source": [
    "#Base 2019\n",
    "#Criando coluna com o ano de nascimento\n",
    "df19 = df19.withColumn('ANO', F.substring(F.col('DTNASC'), 5,4))\n",
    "#Selecionando apenas as colunas de interesse\n",
    "df19 = df19.select('CONTADOR','APGAR1', 'APGAR5', 'RACACOR', 'ANO', 'SEXO')"
   ]
  },
  {
   "cell_type": "code",
   "execution_count": 12,
   "metadata": {},
   "outputs": [],
   "source": [
    "#Gravar no HDFS\n",
    "df16.repartition(1).write.csv('hdfs://node5:9000/refined/csv/base_sinasc_2016_recortada_v1.csv',header='True')\n",
    "df17.repartition(1).write.csv('hdfs://node5:9000/refined/csv/base_sinasc_2017_recortada_v1.csv',header='True')\n",
    "df18.repartition(1).write.csv('hdfs://node5:9000/refined/csv/base_sinasc_2018_recortada_v1.csv',header='True')\n",
    "df19.repartition(1).write.csv('hdfs://node5:9000/refined/csv/base_sinasc_2019_recortada_v1.csv',header='True')"
   ]
  },
  {
   "cell_type": "code",
   "execution_count": 13,
   "metadata": {},
   "outputs": [],
   "source": [
    "#Criando dataframe único\n",
    "df = df16.unionByName(df17)\n",
    "df = df.unionByName(df18)\n",
    "df = df.unionByName(df19)"
   ]
  },
  {
   "cell_type": "code",
   "execution_count": 14,
   "metadata": {},
   "outputs": [],
   "source": [
    "#TABELA FINAL EXPORTADA PARA CSV E GRAVADA NO HDFS\n",
    "df.repartition(1).write.csv('hdfs://node5:9000/refined/csv/base_sinasc_2016_a_2019_recortada_v1.csv',header='True')"
   ]
  }
 ],
 "metadata": {
  "kernelspec": {
   "display_name": "Python 3",
   "language": "python",
   "name": "python3"
  },
  "language_info": {
   "codemirror_mode": {
    "name": "ipython",
    "version": 3
   },
   "file_extension": ".py",
   "mimetype": "text/x-python",
   "name": "python",
   "nbconvert_exporter": "python",
   "pygments_lexer": "ipython3",
   "version": "3.8.5"
  }
 },
 "nbformat": 4,
 "nbformat_minor": 4
}
