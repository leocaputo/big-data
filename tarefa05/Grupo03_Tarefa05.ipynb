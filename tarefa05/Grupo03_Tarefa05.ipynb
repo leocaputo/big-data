{
 "cells": [
  {
   "cell_type": "code",
   "execution_count": 25,
   "metadata": {},
   "outputs": [],
   "source": [
    "#Processamento e Análise em Big Data\n",
    "#Tarefa 05\n",
    "#Grupo 03\n",
    "#20/04/2021"
   ]
  },
  {
   "cell_type": "code",
   "execution_count": 2,
   "metadata": {},
   "outputs": [],
   "source": [
    "import pandas as pd\n",
    "from pyspark.sql import functions as F\n",
    "from pyspark.ml.feature import PCA\n",
    "from pyspark.ml.feature import StringIndexer, VectorAssembler\n",
    "from pyspark.ml import Pipeline"
   ]
  },
  {
   "cell_type": "markdown",
   "metadata": {},
   "source": [
    "# Descritivas"
   ]
  },
  {
   "cell_type": "code",
   "execution_count": 4,
   "metadata": {},
   "outputs": [],
   "source": [
    "data = pd.read_csv('pima_indian_diabetes.csv')"
   ]
  },
  {
   "cell_type": "code",
   "execution_count": 7,
   "metadata": {},
   "outputs": [
    {
     "data": {
      "text/html": [
       "<div>\n",
       "<style scoped>\n",
       "    .dataframe tbody tr th:only-of-type {\n",
       "        vertical-align: middle;\n",
       "    }\n",
       "\n",
       "    .dataframe tbody tr th {\n",
       "        vertical-align: top;\n",
       "    }\n",
       "\n",
       "    .dataframe thead th {\n",
       "        text-align: right;\n",
       "    }\n",
       "</style>\n",
       "<table border=\"1\" class=\"dataframe\">\n",
       "  <thead>\n",
       "    <tr style=\"text-align: right;\">\n",
       "      <th></th>\n",
       "      <th>n_pregnant</th>\n",
       "      <th>plasma_glucose_concentration</th>\n",
       "      <th>blood_pressure</th>\n",
       "      <th>triceps_skinfold_thickness</th>\n",
       "      <th>2hours_serum_insulin</th>\n",
       "      <th>body_mass_index</th>\n",
       "      <th>diabtes_pedigree_function</th>\n",
       "      <th>age</th>\n",
       "      <th>class</th>\n",
       "    </tr>\n",
       "  </thead>\n",
       "  <tbody>\n",
       "    <tr>\n",
       "      <th>0</th>\n",
       "      <td>6</td>\n",
       "      <td>148</td>\n",
       "      <td>72</td>\n",
       "      <td>35</td>\n",
       "      <td>0</td>\n",
       "      <td>33.6</td>\n",
       "      <td>0.627</td>\n",
       "      <td>50</td>\n",
       "      <td>1</td>\n",
       "    </tr>\n",
       "    <tr>\n",
       "      <th>1</th>\n",
       "      <td>1</td>\n",
       "      <td>85</td>\n",
       "      <td>66</td>\n",
       "      <td>29</td>\n",
       "      <td>0</td>\n",
       "      <td>26.6</td>\n",
       "      <td>0.351</td>\n",
       "      <td>31</td>\n",
       "      <td>0</td>\n",
       "    </tr>\n",
       "    <tr>\n",
       "      <th>2</th>\n",
       "      <td>8</td>\n",
       "      <td>183</td>\n",
       "      <td>64</td>\n",
       "      <td>0</td>\n",
       "      <td>0</td>\n",
       "      <td>23.3</td>\n",
       "      <td>0.672</td>\n",
       "      <td>32</td>\n",
       "      <td>1</td>\n",
       "    </tr>\n",
       "    <tr>\n",
       "      <th>3</th>\n",
       "      <td>1</td>\n",
       "      <td>89</td>\n",
       "      <td>66</td>\n",
       "      <td>23</td>\n",
       "      <td>94</td>\n",
       "      <td>28.1</td>\n",
       "      <td>0.167</td>\n",
       "      <td>21</td>\n",
       "      <td>0</td>\n",
       "    </tr>\n",
       "    <tr>\n",
       "      <th>4</th>\n",
       "      <td>0</td>\n",
       "      <td>137</td>\n",
       "      <td>40</td>\n",
       "      <td>35</td>\n",
       "      <td>168</td>\n",
       "      <td>43.1</td>\n",
       "      <td>2.288</td>\n",
       "      <td>33</td>\n",
       "      <td>1</td>\n",
       "    </tr>\n",
       "  </tbody>\n",
       "</table>\n",
       "</div>"
      ],
      "text/plain": [
       "   n_pregnant  plasma_glucose_concentration  blood_pressure  \\\n",
       "0           6                           148              72   \n",
       "1           1                            85              66   \n",
       "2           8                           183              64   \n",
       "3           1                            89              66   \n",
       "4           0                           137              40   \n",
       "\n",
       "   triceps_skinfold_thickness  2hours_serum_insulin  body_mass_index  \\\n",
       "0                          35                     0             33.6   \n",
       "1                          29                     0             26.6   \n",
       "2                           0                     0             23.3   \n",
       "3                          23                    94             28.1   \n",
       "4                          35                   168             43.1   \n",
       "\n",
       "   diabtes_pedigree_function  age  class  \n",
       "0                      0.627   50      1  \n",
       "1                      0.351   31      0  \n",
       "2                      0.672   32      1  \n",
       "3                      0.167   21      0  \n",
       "4                      2.288   33      1  "
      ]
     },
     "execution_count": 7,
     "metadata": {},
     "output_type": "execute_result"
    }
   ],
   "source": [
    "data.head()"
   ]
  },
  {
   "cell_type": "code",
   "execution_count": 5,
   "metadata": {},
   "outputs": [],
   "source": [
    "data_ = spark.read.csv('pima_indian_diabetes.csv', header=True)"
   ]
  },
  {
   "cell_type": "code",
   "execution_count": 6,
   "metadata": {},
   "outputs": [
    {
     "name": "stdout",
     "output_type": "stream",
     "text": [
      "+----------+----------------------------+--------------+--------------------------+--------------------+---------------+-------------------------+---+-----+\n",
      "|n_pregnant|plasma_glucose_concentration|blood_pressure|triceps_skinfold_thickness|2hours_serum_insulin|body_mass_index|diabtes_pedigree_function|age|class|\n",
      "+----------+----------------------------+--------------+--------------------------+--------------------+---------------+-------------------------+---+-----+\n",
      "|         6|                         148|            72|                        35|                   0|           33.6|                    0.627| 50|    1|\n",
      "|         1|                          85|            66|                        29|                   0|           26.6|                    0.351| 31|    0|\n",
      "|         8|                         183|            64|                         0|                   0|           23.3|                    0.672| 32|    1|\n",
      "|         1|                          89|            66|                        23|                  94|           28.1|                    0.167| 21|    0|\n",
      "|         0|                         137|            40|                        35|                 168|           43.1|                    2.288| 33|    1|\n",
      "|         5|                         116|            74|                         0|                   0|           25.6|                    0.201| 30|    0|\n",
      "|         3|                          78|            50|                        32|                  88|           31.0|                    0.248| 26|    1|\n",
      "|        10|                         115|             0|                         0|                   0|           35.3|                    0.134| 29|    0|\n",
      "|         2|                         197|            70|                        45|                 543|           30.5|                    0.158| 53|    1|\n",
      "|         8|                         125|            96|                         0|                   0|            0.0|                    0.232| 54|    1|\n",
      "|         4|                         110|            92|                         0|                   0|           37.6|                    0.191| 30|    0|\n",
      "|        10|                         168|            74|                         0|                   0|           38.0|                    0.537| 34|    1|\n",
      "|        10|                         139|            80|                         0|                   0|           27.1|                    1.441| 57|    0|\n",
      "|         1|                         189|            60|                        23|                 846|           30.1|                    0.398| 59|    1|\n",
      "|         5|                         166|            72|                        19|                 175|           25.8|                    0.587| 51|    1|\n",
      "|         7|                         100|             0|                         0|                   0|           30.0|                    0.484| 32|    1|\n",
      "|         0|                         118|            84|                        47|                 230|           45.8|                    0.551| 31|    1|\n",
      "|         7|                         107|            74|                         0|                   0|           29.6|                    0.254| 31|    1|\n",
      "|         1|                         103|            30|                        38|                  83|           43.3|                    0.183| 33|    0|\n",
      "|         1|                         115|            70|                        30|                  96|           34.6|                    0.529| 32|    1|\n",
      "+----------+----------------------------+--------------+--------------------------+--------------------+---------------+-------------------------+---+-----+\n",
      "only showing top 20 rows\n",
      "\n"
     ]
    }
   ],
   "source": [
    "data_.show()"
   ]
  },
  {
   "cell_type": "code",
   "execution_count": 39,
   "metadata": {},
   "outputs": [],
   "source": [
    "num_cols = ['n_pregnant', 'class', 'age']\n",
    "for col in num_cols:\n",
    "    data_ = data_.withColumn(col, data_[col].cast('int'))\n",
    "\n",
    "num_cols = ['plasma_glucose_concentration', 'blood_pressure','triceps_skinfold_thickness', \n",
    "            '2hours_serum_insulin','body_mass_index', 'diabtes_pedigree_function' ]\n",
    "for col in num_cols:\n",
    "    data_ = data_.withColumn(col, data_[col].cast('float'))"
   ]
  },
  {
   "cell_type": "markdown",
   "metadata": {},
   "source": [
    "#### Descritiva simples para atributos continuos"
   ]
  },
  {
   "cell_type": "code",
   "execution_count": 40,
   "metadata": {},
   "outputs": [
    {
     "data": {
      "text/html": [
       "<div>\n",
       "<style scoped>\n",
       "    .dataframe tbody tr th:only-of-type {\n",
       "        vertical-align: middle;\n",
       "    }\n",
       "\n",
       "    .dataframe tbody tr th {\n",
       "        vertical-align: top;\n",
       "    }\n",
       "\n",
       "    .dataframe thead th {\n",
       "        text-align: right;\n",
       "    }\n",
       "</style>\n",
       "<table border=\"1\" class=\"dataframe\">\n",
       "  <thead>\n",
       "    <tr style=\"text-align: right;\">\n",
       "      <th></th>\n",
       "      <th>summary</th>\n",
       "      <th>n_pregnant</th>\n",
       "      <th>plasma_glucose_concentration</th>\n",
       "      <th>blood_pressure</th>\n",
       "      <th>triceps_skinfold_thickness</th>\n",
       "      <th>2hours_serum_insulin</th>\n",
       "      <th>body_mass_index</th>\n",
       "      <th>diabtes_pedigree_function</th>\n",
       "      <th>age</th>\n",
       "      <th>class</th>\n",
       "    </tr>\n",
       "  </thead>\n",
       "  <tbody>\n",
       "    <tr>\n",
       "      <th>0</th>\n",
       "      <td>count</td>\n",
       "      <td>768</td>\n",
       "      <td>768</td>\n",
       "      <td>768</td>\n",
       "      <td>768</td>\n",
       "      <td>768</td>\n",
       "      <td>768</td>\n",
       "      <td>768</td>\n",
       "      <td>768</td>\n",
       "      <td>768</td>\n",
       "    </tr>\n",
       "    <tr>\n",
       "      <th>1</th>\n",
       "      <td>mean</td>\n",
       "      <td>3.8450520833333335</td>\n",
       "      <td>120.89453125</td>\n",
       "      <td>69.10546875</td>\n",
       "      <td>20.536458333333332</td>\n",
       "      <td>79.79947916666667</td>\n",
       "      <td>31.99257813890775</td>\n",
       "      <td>0.4718763029280429</td>\n",
       "      <td>33.240885416666664</td>\n",
       "      <td>0.3489583333333333</td>\n",
       "    </tr>\n",
       "    <tr>\n",
       "      <th>2</th>\n",
       "      <td>stddev</td>\n",
       "      <td>3.36957806269887</td>\n",
       "      <td>31.97261819513622</td>\n",
       "      <td>19.355807170644777</td>\n",
       "      <td>15.952217567727642</td>\n",
       "      <td>115.24400235133803</td>\n",
       "      <td>7.884160293010772</td>\n",
       "      <td>0.3313285967924436</td>\n",
       "      <td>11.760231540678689</td>\n",
       "      <td>0.476951377242799</td>\n",
       "    </tr>\n",
       "    <tr>\n",
       "      <th>3</th>\n",
       "      <td>min</td>\n",
       "      <td>0</td>\n",
       "      <td>0.0</td>\n",
       "      <td>0.0</td>\n",
       "      <td>0.0</td>\n",
       "      <td>0.0</td>\n",
       "      <td>0.0</td>\n",
       "      <td>0.078</td>\n",
       "      <td>21</td>\n",
       "      <td>0</td>\n",
       "    </tr>\n",
       "    <tr>\n",
       "      <th>4</th>\n",
       "      <td>max</td>\n",
       "      <td>17</td>\n",
       "      <td>199.0</td>\n",
       "      <td>122.0</td>\n",
       "      <td>99.0</td>\n",
       "      <td>846.0</td>\n",
       "      <td>67.1</td>\n",
       "      <td>2.42</td>\n",
       "      <td>81</td>\n",
       "      <td>1</td>\n",
       "    </tr>\n",
       "  </tbody>\n",
       "</table>\n",
       "</div>"
      ],
      "text/plain": [
       "  summary          n_pregnant plasma_glucose_concentration  \\\n",
       "0   count                 768                          768   \n",
       "1    mean  3.8450520833333335                 120.89453125   \n",
       "2  stddev    3.36957806269887            31.97261819513622   \n",
       "3     min                   0                          0.0   \n",
       "4     max                  17                        199.0   \n",
       "\n",
       "       blood_pressure triceps_skinfold_thickness 2hours_serum_insulin  \\\n",
       "0                 768                        768                  768   \n",
       "1         69.10546875         20.536458333333332    79.79947916666667   \n",
       "2  19.355807170644777         15.952217567727642   115.24400235133803   \n",
       "3                 0.0                        0.0                  0.0   \n",
       "4               122.0                       99.0                846.0   \n",
       "\n",
       "     body_mass_index diabtes_pedigree_function                 age  \\\n",
       "0                768                       768                 768   \n",
       "1  31.99257813890775        0.4718763029280429  33.240885416666664   \n",
       "2  7.884160293010772        0.3313285967924436  11.760231540678689   \n",
       "3                0.0                     0.078                  21   \n",
       "4               67.1                      2.42                  81   \n",
       "\n",
       "                class  \n",
       "0                 768  \n",
       "1  0.3489583333333333  \n",
       "2   0.476951377242799  \n",
       "3                   0  \n",
       "4                   1  "
      ]
     },
     "execution_count": 40,
     "metadata": {},
     "output_type": "execute_result"
    }
   ],
   "source": [
    "data_.describe().toPandas()"
   ]
  },
  {
   "cell_type": "code",
   "execution_count": 41,
   "metadata": {},
   "outputs": [
    {
     "data": {
      "text/html": [
       "<div>\n",
       "<style scoped>\n",
       "    .dataframe tbody tr th:only-of-type {\n",
       "        vertical-align: middle;\n",
       "    }\n",
       "\n",
       "    .dataframe tbody tr th {\n",
       "        vertical-align: top;\n",
       "    }\n",
       "\n",
       "    .dataframe thead th {\n",
       "        text-align: right;\n",
       "    }\n",
       "</style>\n",
       "<table border=\"1\" class=\"dataframe\">\n",
       "  <thead>\n",
       "    <tr style=\"text-align: right;\">\n",
       "      <th></th>\n",
       "      <th>summary</th>\n",
       "      <th>n_pregnant</th>\n",
       "      <th>plasma_glucose_concentration</th>\n",
       "      <th>blood_pressure</th>\n",
       "      <th>triceps_skinfold_thickness</th>\n",
       "      <th>2hours_serum_insulin</th>\n",
       "      <th>body_mass_index</th>\n",
       "      <th>diabtes_pedigree_function</th>\n",
       "      <th>age</th>\n",
       "      <th>class</th>\n",
       "    </tr>\n",
       "  </thead>\n",
       "  <tbody>\n",
       "    <tr>\n",
       "      <th>0</th>\n",
       "      <td>count</td>\n",
       "      <td>768</td>\n",
       "      <td>768</td>\n",
       "      <td>768</td>\n",
       "      <td>768</td>\n",
       "      <td>768</td>\n",
       "      <td>768</td>\n",
       "      <td>768</td>\n",
       "      <td>768</td>\n",
       "      <td>768</td>\n",
       "    </tr>\n",
       "    <tr>\n",
       "      <th>1</th>\n",
       "      <td>mean</td>\n",
       "      <td>3.8450520833333335</td>\n",
       "      <td>120.89453125</td>\n",
       "      <td>69.10546875</td>\n",
       "      <td>20.536458333333332</td>\n",
       "      <td>79.79947916666667</td>\n",
       "      <td>31.99257813890775</td>\n",
       "      <td>0.4718763029280429</td>\n",
       "      <td>33.240885416666664</td>\n",
       "      <td>0.3489583333333333</td>\n",
       "    </tr>\n",
       "    <tr>\n",
       "      <th>2</th>\n",
       "      <td>stddev</td>\n",
       "      <td>3.36957806269887</td>\n",
       "      <td>31.97261819513622</td>\n",
       "      <td>19.355807170644777</td>\n",
       "      <td>15.952217567727642</td>\n",
       "      <td>115.24400235133803</td>\n",
       "      <td>7.884160293010772</td>\n",
       "      <td>0.3313285967924436</td>\n",
       "      <td>11.760231540678689</td>\n",
       "      <td>0.476951377242799</td>\n",
       "    </tr>\n",
       "    <tr>\n",
       "      <th>3</th>\n",
       "      <td>min</td>\n",
       "      <td>0</td>\n",
       "      <td>0.0</td>\n",
       "      <td>0.0</td>\n",
       "      <td>0.0</td>\n",
       "      <td>0.0</td>\n",
       "      <td>0.0</td>\n",
       "      <td>0.078</td>\n",
       "      <td>21</td>\n",
       "      <td>0</td>\n",
       "    </tr>\n",
       "    <tr>\n",
       "      <th>4</th>\n",
       "      <td>25%</td>\n",
       "      <td>1</td>\n",
       "      <td>99.0</td>\n",
       "      <td>62.0</td>\n",
       "      <td>0.0</td>\n",
       "      <td>0.0</td>\n",
       "      <td>27.3</td>\n",
       "      <td>0.243</td>\n",
       "      <td>24</td>\n",
       "      <td>0</td>\n",
       "    </tr>\n",
       "    <tr>\n",
       "      <th>5</th>\n",
       "      <td>50%</td>\n",
       "      <td>3</td>\n",
       "      <td>117.0</td>\n",
       "      <td>72.0</td>\n",
       "      <td>23.0</td>\n",
       "      <td>29.0</td>\n",
       "      <td>32.0</td>\n",
       "      <td>0.371</td>\n",
       "      <td>29</td>\n",
       "      <td>0</td>\n",
       "    </tr>\n",
       "    <tr>\n",
       "      <th>6</th>\n",
       "      <td>75%</td>\n",
       "      <td>6</td>\n",
       "      <td>140.0</td>\n",
       "      <td>80.0</td>\n",
       "      <td>32.0</td>\n",
       "      <td>127.0</td>\n",
       "      <td>36.6</td>\n",
       "      <td>0.626</td>\n",
       "      <td>41</td>\n",
       "      <td>1</td>\n",
       "    </tr>\n",
       "    <tr>\n",
       "      <th>7</th>\n",
       "      <td>max</td>\n",
       "      <td>17</td>\n",
       "      <td>199.0</td>\n",
       "      <td>122.0</td>\n",
       "      <td>99.0</td>\n",
       "      <td>846.0</td>\n",
       "      <td>67.1</td>\n",
       "      <td>2.42</td>\n",
       "      <td>81</td>\n",
       "      <td>1</td>\n",
       "    </tr>\n",
       "  </tbody>\n",
       "</table>\n",
       "</div>"
      ],
      "text/plain": [
       "  summary          n_pregnant plasma_glucose_concentration  \\\n",
       "0   count                 768                          768   \n",
       "1    mean  3.8450520833333335                 120.89453125   \n",
       "2  stddev    3.36957806269887            31.97261819513622   \n",
       "3     min                   0                          0.0   \n",
       "4     25%                   1                         99.0   \n",
       "5     50%                   3                        117.0   \n",
       "6     75%                   6                        140.0   \n",
       "7     max                  17                        199.0   \n",
       "\n",
       "       blood_pressure triceps_skinfold_thickness 2hours_serum_insulin  \\\n",
       "0                 768                        768                  768   \n",
       "1         69.10546875         20.536458333333332    79.79947916666667   \n",
       "2  19.355807170644777         15.952217567727642   115.24400235133803   \n",
       "3                 0.0                        0.0                  0.0   \n",
       "4                62.0                        0.0                  0.0   \n",
       "5                72.0                       23.0                 29.0   \n",
       "6                80.0                       32.0                127.0   \n",
       "7               122.0                       99.0                846.0   \n",
       "\n",
       "     body_mass_index diabtes_pedigree_function                 age  \\\n",
       "0                768                       768                 768   \n",
       "1  31.99257813890775        0.4718763029280429  33.240885416666664   \n",
       "2  7.884160293010772        0.3313285967924436  11.760231540678689   \n",
       "3                0.0                     0.078                  21   \n",
       "4               27.3                     0.243                  24   \n",
       "5               32.0                     0.371                  29   \n",
       "6               36.6                     0.626                  41   \n",
       "7               67.1                      2.42                  81   \n",
       "\n",
       "                class  \n",
       "0                 768  \n",
       "1  0.3489583333333333  \n",
       "2   0.476951377242799  \n",
       "3                   0  \n",
       "4                   0  \n",
       "5                   0  \n",
       "6                   1  \n",
       "7                   1  "
      ]
     },
     "execution_count": 41,
     "metadata": {},
     "output_type": "execute_result"
    }
   ],
   "source": [
    "data_.summary().toPandas()"
   ]
  },
  {
   "cell_type": "code",
   "execution_count": 54,
   "metadata": {},
   "outputs": [
    {
     "data": {
      "text/plain": [
       "<AxesSubplot:>"
      ]
     },
     "execution_count": 54,
     "metadata": {},
     "output_type": "execute_result"
    },
    {
     "data": {
      "image/png": "[encoded data removed]",
      "text/plain": [
       "<Figure size 1080x360 with 1 Axes>"
      ]
     },
     "metadata": {
      "needs_background": "light"
     },
     "output_type": "display_data"
    }
   ],
   "source": [
    "import matplotlib.pyplot as plt \n",
    "data.boxplot(figsize = (15,5))"
   ]
  },
  {
   "cell_type": "code",
   "execution_count": 67,
   "metadata": {},
   "outputs": [
    {
     "name": "stdout",
     "output_type": "stream",
     "text": [
      "+------------------+\n",
      "|     var_samp(age)|\n",
      "+------------------+\n",
      "|138.30304589037382|\n",
      "+------------------+\n",
      "\n",
      "+--------------------------------------+\n",
      "|var_samp(plasma_glucose_concentration)|\n",
      "+--------------------------------------+\n",
      "|                    1022.2483142519558|\n",
      "+--------------------------------------+\n",
      "\n",
      "+------------------------+\n",
      "|var_samp(blood_pressure)|\n",
      "+------------------------+\n",
      "|       374.6472712271838|\n",
      "+------------------------+\n",
      "\n",
      "+------------------------------------+\n",
      "|var_samp(triceps_skinfold_thickness)|\n",
      "+------------------------------------+\n",
      "|                  254.47324532811842|\n",
      "+------------------------------------+\n",
      "\n",
      "+------------------------------+\n",
      "|var_samp(2hours_serum_insulin)|\n",
      "+------------------------------+\n",
      "|            13281.180077955205|\n",
      "+------------------------------+\n",
      "\n",
      "+-------------------------+\n",
      "|var_samp(body_mass_index)|\n",
      "+-------------------------+\n",
      "|         62.1599835258877|\n",
      "+-------------------------+\n",
      "\n",
      "+-----------------------------------+\n",
      "|var_samp(diabtes_pedigree_function)|\n",
      "+-----------------------------------+\n",
      "|                0.10977863905244967|\n",
      "+-----------------------------------+\n",
      "\n"
     ]
    }
   ],
   "source": [
    "# Variancia\n",
    "num_cols = ['age','plasma_glucose_concentration', 'blood_pressure','triceps_skinfold_thickness', \n",
    "            '2hours_serum_insulin','body_mass_index', 'diabtes_pedigree_function']\n",
    "for col in num_cols:\n",
    "    data_.agg(F.variance(col)).show()\n"
   ]
  },
  {
   "cell_type": "markdown",
   "metadata": {},
   "source": [
    "#### Descritiva simples para atributos categóricos"
   ]
  },
  {
   "cell_type": "code",
   "execution_count": 23,
   "metadata": {
    "scrolled": true
   },
   "outputs": [
    {
     "data": {
      "text/html": [
       "<div>\n",
       "<style scoped>\n",
       "    .dataframe tbody tr th:only-of-type {\n",
       "        vertical-align: middle;\n",
       "    }\n",
       "\n",
       "    .dataframe tbody tr th {\n",
       "        vertical-align: top;\n",
       "    }\n",
       "\n",
       "    .dataframe thead th {\n",
       "        text-align: right;\n",
       "    }\n",
       "</style>\n",
       "<table border=\"1\" class=\"dataframe\">\n",
       "  <thead>\n",
       "    <tr style=\"text-align: right;\">\n",
       "      <th></th>\n",
       "      <th>class</th>\n",
       "      <th>count</th>\n",
       "    </tr>\n",
       "  </thead>\n",
       "  <tbody>\n",
       "    <tr>\n",
       "      <th>0</th>\n",
       "      <td>0</td>\n",
       "      <td>500</td>\n",
       "    </tr>\n",
       "    <tr>\n",
       "      <th>1</th>\n",
       "      <td>1</td>\n",
       "      <td>268</td>\n",
       "    </tr>\n",
       "  </tbody>\n",
       "</table>\n",
       "</div>"
      ],
      "text/plain": [
       "  class  count\n",
       "0     0    500\n",
       "1     1    268"
      ]
     },
     "execution_count": 23,
     "metadata": {},
     "output_type": "execute_result"
    }
   ],
   "source": [
    "data_.groupby('class').count().toPandas()"
   ]
  },
  {
   "cell_type": "code",
   "execution_count": 56,
   "metadata": {},
   "outputs": [
    {
     "data": {
      "text/html": [
       "<div>\n",
       "<style scoped>\n",
       "    .dataframe tbody tr th:only-of-type {\n",
       "        vertical-align: middle;\n",
       "    }\n",
       "\n",
       "    .dataframe tbody tr th {\n",
       "        vertical-align: top;\n",
       "    }\n",
       "\n",
       "    .dataframe thead th {\n",
       "        text-align: right;\n",
       "    }\n",
       "</style>\n",
       "<table border=\"1\" class=\"dataframe\">\n",
       "  <thead>\n",
       "    <tr style=\"text-align: right;\">\n",
       "      <th></th>\n",
       "      <th>n_pregnant</th>\n",
       "      <th>count</th>\n",
       "    </tr>\n",
       "  </thead>\n",
       "  <tbody>\n",
       "    <tr>\n",
       "      <th>0</th>\n",
       "      <td>0</td>\n",
       "      <td>111</td>\n",
       "    </tr>\n",
       "    <tr>\n",
       "      <th>1</th>\n",
       "      <td>1</td>\n",
       "      <td>135</td>\n",
       "    </tr>\n",
       "    <tr>\n",
       "      <th>2</th>\n",
       "      <td>2</td>\n",
       "      <td>103</td>\n",
       "    </tr>\n",
       "    <tr>\n",
       "      <th>3</th>\n",
       "      <td>3</td>\n",
       "      <td>75</td>\n",
       "    </tr>\n",
       "    <tr>\n",
       "      <th>4</th>\n",
       "      <td>4</td>\n",
       "      <td>68</td>\n",
       "    </tr>\n",
       "    <tr>\n",
       "      <th>5</th>\n",
       "      <td>5</td>\n",
       "      <td>57</td>\n",
       "    </tr>\n",
       "    <tr>\n",
       "      <th>6</th>\n",
       "      <td>6</td>\n",
       "      <td>50</td>\n",
       "    </tr>\n",
       "    <tr>\n",
       "      <th>7</th>\n",
       "      <td>7</td>\n",
       "      <td>45</td>\n",
       "    </tr>\n",
       "    <tr>\n",
       "      <th>8</th>\n",
       "      <td>8</td>\n",
       "      <td>38</td>\n",
       "    </tr>\n",
       "    <tr>\n",
       "      <th>9</th>\n",
       "      <td>9</td>\n",
       "      <td>28</td>\n",
       "    </tr>\n",
       "    <tr>\n",
       "      <th>10</th>\n",
       "      <td>10</td>\n",
       "      <td>24</td>\n",
       "    </tr>\n",
       "    <tr>\n",
       "      <th>11</th>\n",
       "      <td>11</td>\n",
       "      <td>11</td>\n",
       "    </tr>\n",
       "    <tr>\n",
       "      <th>12</th>\n",
       "      <td>12</td>\n",
       "      <td>9</td>\n",
       "    </tr>\n",
       "    <tr>\n",
       "      <th>13</th>\n",
       "      <td>13</td>\n",
       "      <td>10</td>\n",
       "    </tr>\n",
       "    <tr>\n",
       "      <th>14</th>\n",
       "      <td>14</td>\n",
       "      <td>2</td>\n",
       "    </tr>\n",
       "    <tr>\n",
       "      <th>15</th>\n",
       "      <td>15</td>\n",
       "      <td>1</td>\n",
       "    </tr>\n",
       "    <tr>\n",
       "      <th>16</th>\n",
       "      <td>17</td>\n",
       "      <td>1</td>\n",
       "    </tr>\n",
       "  </tbody>\n",
       "</table>\n",
       "</div>"
      ],
      "text/plain": [
       "    n_pregnant  count\n",
       "0            0    111\n",
       "1            1    135\n",
       "2            2    103\n",
       "3            3     75\n",
       "4            4     68\n",
       "5            5     57\n",
       "6            6     50\n",
       "7            7     45\n",
       "8            8     38\n",
       "9            9     28\n",
       "10          10     24\n",
       "11          11     11\n",
       "12          12      9\n",
       "13          13     10\n",
       "14          14      2\n",
       "15          15      1\n",
       "16          17      1"
      ]
     },
     "execution_count": 56,
     "metadata": {},
     "output_type": "execute_result"
    }
   ],
   "source": [
    "data_.groupby('n_pregnant').count().orderBy('n_pregnant').toPandas()"
   ]
  },
  {
   "cell_type": "markdown",
   "metadata": {},
   "source": [
    "#### Analise de nulos"
   ]
  },
  {
   "cell_type": "code",
   "execution_count": 63,
   "metadata": {},
   "outputs": [
    {
     "name": "stdout",
     "output_type": "stream",
     "text": [
      "0\n",
      "0\n",
      "0\n",
      "0\n",
      "0\n",
      "0\n",
      "0\n",
      "0\n",
      "0\n"
     ]
    }
   ],
   "source": [
    "num_cols = ['n_pregnant', 'class', 'age','plasma_glucose_concentration', 'blood_pressure','triceps_skinfold_thickness', \n",
    "            '2hours_serum_insulin','body_mass_index', 'diabtes_pedigree_function']\n",
    "for col in num_cols:\n",
    "    print(data_.filter(data_[col].isNull()).count())\n"
   ]
  },
  {
   "cell_type": "markdown",
   "metadata": {},
   "source": [
    "#### Duplicados"
   ]
  },
  {
   "cell_type": "code",
   "execution_count": 72,
   "metadata": {},
   "outputs": [
    {
     "name": "stdout",
     "output_type": "stream",
     "text": [
      "768\n",
      "768\n",
      "385\n"
     ]
    }
   ],
   "source": [
    "# Todos os registros do dataset\n",
    "print(data_.count())\n",
    "# Todos os registros únicos do dataset\n",
    "print(data_.distinct().count())\n",
    "# Todos os registros únicos do dataset, \n",
    "# levando em consideração os atributos: 'A1', 'A2' e 'A5' \n",
    "print(data_.select(['n_pregnant', 'age', 'class']).distinct().count())"
   ]
  },
  {
   "cell_type": "markdown",
   "metadata": {},
   "source": [
    "#### Filtros"
   ]
  },
  {
   "cell_type": "code",
   "execution_count": 77,
   "metadata": {},
   "outputs": [
    {
     "data": {
      "text/html": [
       "<div>\n",
       "<style scoped>\n",
       "    .dataframe tbody tr th:only-of-type {\n",
       "        vertical-align: middle;\n",
       "    }\n",
       "\n",
       "    .dataframe tbody tr th {\n",
       "        vertical-align: top;\n",
       "    }\n",
       "\n",
       "    .dataframe thead th {\n",
       "        text-align: right;\n",
       "    }\n",
       "</style>\n",
       "<table border=\"1\" class=\"dataframe\">\n",
       "  <thead>\n",
       "    <tr style=\"text-align: right;\">\n",
       "      <th></th>\n",
       "      <th>n_pregnant</th>\n",
       "      <th>plasma_glucose_concentration</th>\n",
       "      <th>blood_pressure</th>\n",
       "      <th>triceps_skinfold_thickness</th>\n",
       "      <th>2hours_serum_insulin</th>\n",
       "      <th>body_mass_index</th>\n",
       "      <th>diabtes_pedigree_function</th>\n",
       "      <th>age</th>\n",
       "      <th>class</th>\n",
       "    </tr>\n",
       "  </thead>\n",
       "  <tbody>\n",
       "    <tr>\n",
       "      <th>0</th>\n",
       "      <td>6</td>\n",
       "      <td>148.0</td>\n",
       "      <td>72.0</td>\n",
       "      <td>35.0</td>\n",
       "      <td>0.0</td>\n",
       "      <td>33.599998</td>\n",
       "      <td>0.627</td>\n",
       "      <td>50</td>\n",
       "      <td>1</td>\n",
       "    </tr>\n",
       "    <tr>\n",
       "      <th>1</th>\n",
       "      <td>2</td>\n",
       "      <td>197.0</td>\n",
       "      <td>70.0</td>\n",
       "      <td>45.0</td>\n",
       "      <td>543.0</td>\n",
       "      <td>30.500000</td>\n",
       "      <td>0.158</td>\n",
       "      <td>53</td>\n",
       "      <td>1</td>\n",
       "    </tr>\n",
       "    <tr>\n",
       "      <th>2</th>\n",
       "      <td>8</td>\n",
       "      <td>125.0</td>\n",
       "      <td>96.0</td>\n",
       "      <td>0.0</td>\n",
       "      <td>0.0</td>\n",
       "      <td>0.000000</td>\n",
       "      <td>0.232</td>\n",
       "      <td>54</td>\n",
       "      <td>1</td>\n",
       "    </tr>\n",
       "    <tr>\n",
       "      <th>3</th>\n",
       "      <td>10</td>\n",
       "      <td>139.0</td>\n",
       "      <td>80.0</td>\n",
       "      <td>0.0</td>\n",
       "      <td>0.0</td>\n",
       "      <td>27.100000</td>\n",
       "      <td>1.441</td>\n",
       "      <td>57</td>\n",
       "      <td>0</td>\n",
       "    </tr>\n",
       "    <tr>\n",
       "      <th>4</th>\n",
       "      <td>1</td>\n",
       "      <td>189.0</td>\n",
       "      <td>60.0</td>\n",
       "      <td>23.0</td>\n",
       "      <td>846.0</td>\n",
       "      <td>30.100000</td>\n",
       "      <td>0.398</td>\n",
       "      <td>59</td>\n",
       "      <td>1</td>\n",
       "    </tr>\n",
       "  </tbody>\n",
       "</table>\n",
       "</div>"
      ],
      "text/plain": [
       "   n_pregnant  plasma_glucose_concentration  blood_pressure  \\\n",
       "0           6                         148.0            72.0   \n",
       "1           2                         197.0            70.0   \n",
       "2           8                         125.0            96.0   \n",
       "3          10                         139.0            80.0   \n",
       "4           1                         189.0            60.0   \n",
       "\n",
       "   triceps_skinfold_thickness  2hours_serum_insulin  body_mass_index  \\\n",
       "0                        35.0                   0.0        33.599998   \n",
       "1                        45.0                 543.0        30.500000   \n",
       "2                         0.0                   0.0         0.000000   \n",
       "3                         0.0                   0.0        27.100000   \n",
       "4                        23.0                 846.0        30.100000   \n",
       "\n",
       "   diabtes_pedigree_function  age  class  \n",
       "0                      0.627   50      1  \n",
       "1                      0.158   53      1  \n",
       "2                      0.232   54      1  \n",
       "3                      1.441   57      0  \n",
       "4                      0.398   59      1  "
      ]
     },
     "execution_count": 77,
     "metadata": {},
     "output_type": "execute_result"
    }
   ],
   "source": [
    "data_.filter(data_['age'] > 35).limit(5).toPandas()"
   ]
  },
  {
   "cell_type": "code",
   "execution_count": 57,
   "metadata": {},
   "outputs": [
    {
     "name": "stdout",
     "output_type": "stream",
     "text": [
      "+---+-----+-----+-----+\n",
      "| A1|   A2|   A3|class|\n",
      "+---+-----+-----+-----+\n",
      "|  b|30.83|    0|    +|\n",
      "|  a|58.67| 4.46|    +|\n",
      "|  a|24.50|  0.5|    +|\n",
      "|  b|27.83| 1.54|    +|\n",
      "|  b|20.17|5.625|    +|\n",
      "+---+-----+-----+-----+\n",
      "\n"
     ]
    }
   ],
   "source": [
    "data_.select(['A1', 'A2', 'A3', 'class']).filter(data_['A2'] > 11).limit(5).show()"
   ]
  },
  {
   "cell_type": "markdown",
   "metadata": {},
   "source": [
    "# Preprocessamento"
   ]
  },
  {
   "cell_type": "markdown",
   "metadata": {},
   "source": [
    "#### Eliminação manual"
   ]
  },
  {
   "cell_type": "code",
   "execution_count": 106,
   "metadata": {
    "scrolled": true
   },
   "outputs": [
    {
     "name": "stdout",
     "output_type": "stream",
     "text": [
      "Tamanho do extrato: 523\n",
      "+---+-----+------+---+---+-----+\n",
      "| A1|   A2|    A3| A4| A5|class|\n",
      "+---+-----+------+---+---+-----+\n",
      "|  b|30.83|     0|  u|  g|    +|\n",
      "|  a|58.67|  4.46|  u|  g|    +|\n",
      "|  a|24.50|   0.5|  u|  g|    +|\n",
      "|  b|27.83|  1.54|  u|  g|    +|\n",
      "|  b|20.17| 5.625|  u|  g|    +|\n",
      "|  b|32.08|     4|  u|  g|    +|\n",
      "|  b|33.17|  1.04|  u|  g|    +|\n",
      "|  a|22.92|11.585|  u|  g|    +|\n",
      "|  b|22.08|  0.83|  u|  g|    +|\n",
      "|  b|29.92| 1.835|  u|  g|    +|\n",
      "|  a|38.25|     6|  u|  g|    +|\n",
      "|  b|48.08|  6.04|  u|  g|    +|\n",
      "|  a|45.83|  10.5|  u|  g|    +|\n",
      "|  b|28.25| 0.875|  u|  g|    +|\n",
      "|  a|23.25| 5.875|  u|  g|    +|\n",
      "|  b|21.83|  0.25|  u|  g|    +|\n",
      "|  a|19.17| 8.585|  u|  g|    +|\n",
      "|  b|25.00| 11.25|  u|  g|    +|\n",
      "|  b|23.25|     1|  u|  g|    +|\n",
      "|  a|47.75|     8|  u|  g|    +|\n",
      "+---+-----+------+---+---+-----+\n",
      "only showing top 20 rows\n",
      "\n"
     ]
    }
   ],
   "source": [
    "data_temp = data_.select(['A1', 'A2', 'A3', 'A4', 'A5','class'])\\\n",
    "            .filter((data_['A5']=='g') | (data_['A1']\\\n",
    "            .isNull()))\n",
    "print \"Tamanho do extrato: {}\".format(data_temp.count())\n",
    "data_temp.show()"
   ]
  },
  {
   "cell_type": "code",
   "execution_count": 110,
   "metadata": {
    "scrolled": true
   },
   "outputs": [
    {
     "name": "stdout",
     "output_type": "stream",
     "text": [
      "Quantidade de NAs no extrato: 12\n",
      "+----+-----+-----+---+---+-----+\n",
      "|  A1|   A2|   A3| A4| A5|class|\n",
      "+----+-----+-----+---+---+-----+\n",
      "|null|24.50|12.75|  u|  g|    +|\n",
      "|null|40.83|  3.5|  u|  g|    -|\n",
      "|null|32.25|  1.5|  u|  g|    -|\n",
      "|null|28.17|0.585|  u|  g|    -|\n",
      "|null|29.75|0.665|  u|  g|    -|\n",
      "|null|26.50| 2.71|  y|  p|    -|\n",
      "|null|45.33|    1|  u|  g|    -|\n",
      "|null|20.42|  7.5|  u|  g|    +|\n",
      "|null|20.08|0.125|  u|  g|    +|\n",
      "|null|42.25| 1.75|  y|  p|    -|\n",
      "|null|33.17| 2.25|  y|  p|    -|\n",
      "|null|29.50|    2|  y|  p|    -|\n",
      "+----+-----+-----+---+---+-----+\n",
      "\n"
     ]
    }
   ],
   "source": [
    "print \"Quantidade de NAs no extrato: {}\"\\\n",
    "    .format(data_temp.filter(data_temp['A1']\\\n",
    "    .isNull()).count())\n",
    "\n",
    "data_temp.filter(data_temp['A1']\\\n",
    "        .isNull()).show()"
   ]
  },
  {
   "cell_type": "code",
   "execution_count": 111,
   "metadata": {},
   "outputs": [
    {
     "data": {
      "text/plain": [
       "503"
      ]
     },
     "execution_count": 111,
     "metadata": {},
     "output_type": "execute_result"
    }
   ],
   "source": [
    "data_temp.dropna('any').count()"
   ]
  },
  {
   "cell_type": "markdown",
   "metadata": {},
   "source": [
    "#### Eliminação manual: excluindo colunas"
   ]
  },
  {
   "cell_type": "code",
   "execution_count": 113,
   "metadata": {},
   "outputs": [
    {
     "name": "stdout",
     "output_type": "stream",
     "text": [
      "+---+-----+------+---+---+-----+\n",
      "| A1|   A2|    A3| A4| A5|class|\n",
      "+---+-----+------+---+---+-----+\n",
      "|  b|30.83|     0|  u|  g|    +|\n",
      "|  a|58.67|  4.46|  u|  g|    +|\n",
      "|  a|24.50|   0.5|  u|  g|    +|\n",
      "|  b|27.83|  1.54|  u|  g|    +|\n",
      "|  b|20.17| 5.625|  u|  g|    +|\n",
      "|  b|32.08|     4|  u|  g|    +|\n",
      "|  b|33.17|  1.04|  u|  g|    +|\n",
      "|  a|22.92|11.585|  u|  g|    +|\n",
      "|  b|22.08|  0.83|  u|  g|    +|\n",
      "|  b|29.92| 1.835|  u|  g|    +|\n",
      "|  a|38.25|     6|  u|  g|    +|\n",
      "|  b|48.08|  6.04|  u|  g|    +|\n",
      "|  a|45.83|  10.5|  u|  g|    +|\n",
      "|  b|28.25| 0.875|  u|  g|    +|\n",
      "|  a|23.25| 5.875|  u|  g|    +|\n",
      "|  b|21.83|  0.25|  u|  g|    +|\n",
      "|  a|19.17| 8.585|  u|  g|    +|\n",
      "|  b|25.00| 11.25|  u|  g|    +|\n",
      "|  b|23.25|     1|  u|  g|    +|\n",
      "|  a|47.75|     8|  u|  g|    +|\n",
      "+---+-----+------+---+---+-----+\n",
      "only showing top 20 rows\n",
      "\n"
     ]
    }
   ],
   "source": [
    "data_temp.show()"
   ]
  },
  {
   "cell_type": "code",
   "execution_count": 119,
   "metadata": {},
   "outputs": [
    {
     "name": "stdout",
     "output_type": "stream",
     "text": [
      "+-----+------+-----+\n",
      "|   A2|    A3|class|\n",
      "+-----+------+-----+\n",
      "|30.83|     0|    +|\n",
      "|58.67|  4.46|    +|\n",
      "|24.50|   0.5|    +|\n",
      "|27.83|  1.54|    +|\n",
      "|20.17| 5.625|    +|\n",
      "|32.08|     4|    +|\n",
      "|33.17|  1.04|    +|\n",
      "|22.92|11.585|    +|\n",
      "|22.08|  0.83|    +|\n",
      "|29.92| 1.835|    +|\n",
      "|38.25|     6|    +|\n",
      "|48.08|  6.04|    +|\n",
      "|45.83|  10.5|    +|\n",
      "|28.25| 0.875|    +|\n",
      "|23.25| 5.875|    +|\n",
      "|21.83|  0.25|    +|\n",
      "|19.17| 8.585|    +|\n",
      "|25.00| 11.25|    +|\n",
      "|23.25|     1|    +|\n",
      "|47.75|     8|    +|\n",
      "+-----+------+-----+\n",
      "only showing top 20 rows\n",
      "\n"
     ]
    }
   ],
   "source": [
    "# Retirando as variaveis categóricas\n",
    "data_temp.drop(F.col('A1'))\\\n",
    "        .drop(F.col('A4'))\\\n",
    "        .drop(F.col('A5')).show()"
   ]
  },
  {
   "cell_type": "markdown",
   "metadata": {},
   "source": [
    "#### Sampling: Test and Training"
   ]
  },
  {
   "cell_type": "code",
   "execution_count": 132,
   "metadata": {},
   "outputs": [],
   "source": [
    "train = data_.sample(withReplacement=False, fraction=0.8, seed=27)"
   ]
  },
  {
   "cell_type": "code",
   "execution_count": 133,
   "metadata": {
    "scrolled": true
   },
   "outputs": [
    {
     "name": "stdout",
     "output_type": "stream",
     "text": [
      "567\n",
      "+---+-----+------+---+---+---+---+-----+---+---+---+---+---+-----+----+-----+\n",
      "| A1|   A2|    A3| A4| A5| A6| A7|   A8| A9|A10|A11|A12|A13|  A14| A15|class|\n",
      "+---+-----+------+---+---+---+---+-----+---+---+---+---+---+-----+----+-----+\n",
      "|  b|30.83|     0|  u|  g|  w|  v| 1.25|  t|  t| 01|  f|  g|00202|   0|    +|\n",
      "|  a|24.50|   0.5|  u|  g|  q|  h|  1.5|  t|  f|  0|  f|  g|00280| 824|    +|\n",
      "|  b|27.83|  1.54|  u|  g|  w|  v| 3.75|  t|  t| 05|  t|  g|00100|   3|    +|\n",
      "|  b|32.08|     4|  u|  g|  m|  v|  2.5|  t|  f|  0|  t|  g|00360|   0|    +|\n",
      "|  a|22.92|11.585|  u|  g| cc|  v| 0.04|  t|  f|  0|  f|  g|00080|1349|    +|\n",
      "|  b|54.42|   0.5|  y|  p|  k|  h| 3.96|  t|  f|  0|  f|  g|00180| 314|    +|\n",
      "|  b|42.50| 4.915|  y|  p|  w|  v|3.165|  t|  f|  0|  t|  g|00052|1442|    +|\n",
      "|  b|22.08|  0.83|  u|  g|  c|  h|2.165|  f|  f|  0|  t|  g|00128|   0|    +|\n",
      "|  a|38.25|     6|  u|  g|  k|  v|    1|  t|  f|  0|  t|  g|00000|   0|    +|\n",
      "|  b|48.08|  6.04|  u|  g|  k|  v| 0.04|  f|  f|  0|  f|  g|00000|2690|    +|\n",
      "+---+-----+------+---+---+---+---+-----+---+---+---+---+---+-----+----+-----+\n",
      "\n"
     ]
    }
   ],
   "source": [
    "print train.count()\n",
    "train.limit(10).show()"
   ]
  },
  {
   "cell_type": "code",
   "execution_count": 134,
   "metadata": {},
   "outputs": [],
   "source": [
    "test = data_.subtract(train)"
   ]
  },
  {
   "cell_type": "code",
   "execution_count": 135,
   "metadata": {},
   "outputs": [
    {
     "name": "stdout",
     "output_type": "stream",
     "text": [
      "123\n",
      "+---+-----+-----+---+---+---+---+-----+---+---+---+---+---+-----+----+-----+\n",
      "| A1|   A2|   A3| A4| A5| A6| A7|   A8| A9|A10|A11|A12|A13|  A14| A15|class|\n",
      "+---+-----+-----+---+---+---+---+-----+---+---+---+---+---+-----+----+-----+\n",
      "|  b|39.50|1.625|  u|  g|  c|  v|  1.5|  f|  f|  0|  f|  g|00000| 316|    -|\n",
      "|  b|28.25|5.125|  u|  g|  x|  v| 4.75|  t|  t| 02|  f|  g|00420|   7|    +|\n",
      "|  a|27.25| 0.29|  u|  g|  m|  h|0.125|  f|  t| 01|  t|  g|00272| 108|    -|\n",
      "|  b|23.08|    0|  u|  g|  k|  v|    1|  f|  t| 11|  f|  s|00000|   0|    -|\n",
      "|  b|29.92|1.835|  u|  g|  c|  h|4.335|  t|  f|  0|  f|  g|00260| 200|    +|\n",
      "|  b|34.08| 0.08|  y|  p|  m| bb| 0.04|  t|  t| 01|  t|  g|00280|2000|    +|\n",
      "|  b|34.92|    5|  u|  g|  x|  h|  7.5|  t|  t| 06|  t|  g|00000|1000|    +|\n",
      "|  b|19.17|  9.5|  u|  g|  w|  v|  1.5|  t|  f|  0|  f|  g|00120|2206|    +|\n",
      "|  a|27.67|  1.5|  u|  g|  m|  v|    2|  t|  f|  0|  f|  s|00368|   0|    -|\n",
      "|  b|33.17|3.165|  y|  p|  x|  v|3.165|  t|  t| 03|  t|  g|00380|   0|    +|\n",
      "+---+-----+-----+---+---+---+---+-----+---+---+---+---+---+-----+----+-----+\n",
      "\n"
     ]
    }
   ],
   "source": [
    "print test.count()\n",
    "test.limit(10).show()"
   ]
  },
  {
   "cell_type": "markdown",
   "metadata": {},
   "source": [
    "#### Balanceamento"
   ]
  },
  {
   "cell_type": "code",
   "execution_count": 136,
   "metadata": {},
   "outputs": [
    {
     "name": "stdout",
     "output_type": "stream",
     "text": [
      "+-----+-----+\n",
      "|class|count|\n",
      "+-----+-----+\n",
      "|    +|  307|\n",
      "|    -|  383|\n",
      "+-----+-----+\n",
      "\n"
     ]
    }
   ],
   "source": [
    "data_.groupby('class').count().show()"
   ]
  },
  {
   "cell_type": "code",
   "execution_count": 144,
   "metadata": {},
   "outputs": [],
   "source": [
    "data_positive = data_.filter(data_['class'] == '+')\\\n",
    "                .limit(300)\n",
    "\n",
    "data_negative = data_.filter(data_['class'] == '-')\\\n",
    "                .limit(300)\n",
    "\n",
    "balanced_data = data_positive.union(data_negative)"
   ]
  },
  {
   "cell_type": "code",
   "execution_count": 146,
   "metadata": {},
   "outputs": [
    {
     "name": "stdout",
     "output_type": "stream",
     "text": [
      "+-----+-----+\n",
      "|class|count|\n",
      "+-----+-----+\n",
      "|    +|  300|\n",
      "|    -|  300|\n",
      "+-----+-----+\n",
      "\n"
     ]
    }
   ],
   "source": [
    "balanced_data.groupby('class').count().show()"
   ]
  },
  {
   "cell_type": "markdown",
   "metadata": {},
   "source": [
    "#### Data Cleaning"
   ]
  },
  {
   "cell_type": "code",
   "execution_count": 148,
   "metadata": {},
   "outputs": [
    {
     "name": "stdout",
     "output_type": "stream",
     "text": [
      "690\n",
      "529\n"
     ]
    }
   ],
   "source": [
    "# Deduplicação\n",
    "print data_.count()\n",
    "\n",
    "print data_.drop_duplicates(subset=['A1', 'A2', 'A5']).count()"
   ]
  },
  {
   "cell_type": "code",
   "execution_count": 161,
   "metadata": {},
   "outputs": [
    {
     "name": "stdout",
     "output_type": "stream",
     "text": [
      "+--------+-----+------+---+---+---+---+-----+---+---+---+---+---+-----+-----+-----+\n",
      "|      A1|   A2|    A3| A4| A5| A6| A7|   A8| A9|A10|A11|A12|A13|  A14|  A15|class|\n",
      "+--------+-----+------+---+---+---+---+-----+---+---+---+---+---+-----+-----+-----+\n",
      "| class_b|30.83|     0|  u|  g|  w|  v| 1.25|  t|  t| 01|  f|  g|00202|    0|    +|\n",
      "|classe_a|58.67|  4.46|  u|  g|  q|  h| 3.04|  t|  t| 06|  f|  g|00043|  560|    +|\n",
      "|classe_a|24.50|   0.5|  u|  g|  q|  h|  1.5|  t|  f|  0|  f|  g|00280|  824|    +|\n",
      "| class_b|27.83|  1.54|  u|  g|  w|  v| 3.75|  t|  t| 05|  t|  g|00100|    3|    +|\n",
      "| class_b|20.17| 5.625|  u|  g|  w|  v| 1.71|  t|  f|  0|  f|  s|00120|    0|    +|\n",
      "| class_b|32.08|     4|  u|  g|  m|  v|  2.5|  t|  f|  0|  t|  g|00360|    0|    +|\n",
      "| class_b|33.17|  1.04|  u|  g|  r|  h|  6.5|  t|  f|  0|  t|  g|00164|31285|    +|\n",
      "|classe_a|22.92|11.585|  u|  g| cc|  v| 0.04|  t|  f|  0|  f|  g|00080| 1349|    +|\n",
      "| class_b|54.42|   0.5|  y|  p|  k|  h| 3.96|  t|  f|  0|  f|  g|00180|  314|    +|\n",
      "| class_b|42.50| 4.915|  y|  p|  w|  v|3.165|  t|  f|  0|  t|  g|00052| 1442|    +|\n",
      "| class_b|22.08|  0.83|  u|  g|  c|  h|2.165|  f|  f|  0|  t|  g|00128|    0|    +|\n",
      "| class_b|29.92| 1.835|  u|  g|  c|  h|4.335|  t|  f|  0|  f|  g|00260|  200|    +|\n",
      "|classe_a|38.25|     6|  u|  g|  k|  v|    1|  t|  f|  0|  t|  g|00000|    0|    +|\n",
      "| class_b|48.08|  6.04|  u|  g|  k|  v| 0.04|  f|  f|  0|  f|  g|00000| 2690|    +|\n",
      "|classe_a|45.83|  10.5|  u|  g|  q|  v|    5|  t|  t| 07|  t|  g|00000|    0|    +|\n",
      "| class_b|36.67| 4.415|  y|  p|  k|  v| 0.25|  t|  t| 10|  t|  g|00320|    0|    +|\n",
      "| class_b|28.25| 0.875|  u|  g|  m|  v| 0.96|  t|  t| 03|  t|  g|00396|    0|    +|\n",
      "|classe_a|23.25| 5.875|  u|  g|  q|  v| 3.17|  t|  t| 10|  f|  g|00120|  245|    +|\n",
      "| class_b|21.83|  0.25|  u|  g|  d|  h|0.665|  t|  f|  0|  t|  g|00000|    0|    +|\n",
      "|classe_a|19.17| 8.585|  u|  g| cc|  h| 0.75|  t|  t| 07|  f|  g|00096|    0|    +|\n",
      "+--------+-----+------+---+---+---+---+-----+---+---+---+---+---+-----+-----+-----+\n",
      "only showing top 20 rows\n",
      "\n"
     ]
    }
   ],
   "source": []
  },
  {
   "cell_type": "markdown",
   "metadata": {},
   "source": [
    "#### Transformação de dados"
   ]
  },
  {
   "cell_type": "code",
   "execution_count": 163,
   "metadata": {},
   "outputs": [
    {
     "name": "stdout",
     "output_type": "stream",
     "text": [
      "+---+-----+------+---+---+---+---+-----+---+---+---+---+---+-----+-----+-----+\n",
      "| A1|   A2|    A3| A4| A5| A6| A7|   A8| A9|A10|A11|A12|A13|  A14|  A15|class|\n",
      "+---+-----+------+---+---+---+---+-----+---+---+---+---+---+-----+-----+-----+\n",
      "|  b|30.83|     0|  u|  g|  w|  v| 1.25|  t|  t| 01|  f|  g|00202|    0|    +|\n",
      "|  a|58.67|  4.46|  u|  g|  q|  h| 3.04|  t|  t| 06|  f|  g|00043|  560|    +|\n",
      "|  a|24.50|   0.5|  u|  g|  q|  h|  1.5|  t|  f|  0|  f|  g|00280|  824|    +|\n",
      "|  b|27.83|  1.54|  u|  g|  w|  v| 3.75|  t|  t| 05|  t|  g|00100|    3|    +|\n",
      "|  b|20.17| 5.625|  u|  g|  w|  v| 1.71|  t|  f|  0|  f|  s|00120|    0|    +|\n",
      "|  b|32.08|     4|  u|  g|  m|  v|  2.5|  t|  f|  0|  t|  g|00360|    0|    +|\n",
      "|  b|33.17|  1.04|  u|  g|  r|  h|  6.5|  t|  f|  0|  t|  g|00164|31285|    +|\n",
      "|  a|22.92|11.585|  u|  g| cc|  v| 0.04|  t|  f|  0|  f|  g|00080| 1349|    +|\n",
      "|  b|54.42|   0.5|  y|  p|  k|  h| 3.96|  t|  f|  0|  f|  g|00180|  314|    +|\n",
      "|  b|42.50| 4.915|  y|  p|  w|  v|3.165|  t|  f|  0|  t|  g|00052| 1442|    +|\n",
      "+---+-----+------+---+---+---+---+-----+---+---+---+---+---+-----+-----+-----+\n",
      "\n"
     ]
    }
   ],
   "source": [
    "data_.limit(10).show()"
   ]
  },
  {
   "cell_type": "code",
   "execution_count": 164,
   "metadata": {},
   "outputs": [
    {
     "name": "stdout",
     "output_type": "stream",
     "text": [
      "+--------+-----+------+---+---+---+---+-----+---+---+---+---+---+-----+-----+-----+\n",
      "|      A1|   A2|    A3| A4| A5| A6| A7|   A8| A9|A10|A11|A12|A13|  A14|  A15|class|\n",
      "+--------+-----+------+---+---+---+---+-----+---+---+---+---+---+-----+-----+-----+\n",
      "| class_b|30.83|     0|  u|  g|  w|  v| 1.25|  t|  t| 01|  f|  g|00202|    0|    +|\n",
      "|classe_a|58.67|  4.46|  u|  g|  q|  h| 3.04|  t|  t| 06|  f|  g|00043|  560|    +|\n",
      "|classe_a|24.50|   0.5|  u|  g|  q|  h|  1.5|  t|  f|  0|  f|  g|00280|  824|    +|\n",
      "| class_b|27.83|  1.54|  u|  g|  w|  v| 3.75|  t|  t| 05|  t|  g|00100|    3|    +|\n",
      "| class_b|20.17| 5.625|  u|  g|  w|  v| 1.71|  t|  f|  0|  f|  s|00120|    0|    +|\n",
      "| class_b|32.08|     4|  u|  g|  m|  v|  2.5|  t|  f|  0|  t|  g|00360|    0|    +|\n",
      "| class_b|33.17|  1.04|  u|  g|  r|  h|  6.5|  t|  f|  0|  t|  g|00164|31285|    +|\n",
      "|classe_a|22.92|11.585|  u|  g| cc|  v| 0.04|  t|  f|  0|  f|  g|00080| 1349|    +|\n",
      "| class_b|54.42|   0.5|  y|  p|  k|  h| 3.96|  t|  f|  0|  f|  g|00180|  314|    +|\n",
      "| class_b|42.50| 4.915|  y|  p|  w|  v|3.165|  t|  f|  0|  t|  g|00052| 1442|    +|\n",
      "+--------+-----+------+---+---+---+---+-----+---+---+---+---+---+-----+-----+-----+\n",
      "\n"
     ]
    }
   ],
   "source": [
    "# Renomeando categorias\n",
    "data_.withColumn('A1', F.when(data_['A1'] == 'a', 'classe_a').otherwise('class_b'))\\\n",
    "      .limit(10)\\\n",
    "      .show()"
   ]
  },
  {
   "cell_type": "code",
   "execution_count": 176,
   "metadata": {},
   "outputs": [
    {
     "name": "stdout",
     "output_type": "stream",
     "text": [
      "+-------+------------------+\n",
      "|summary|                A3|\n",
      "+-------+------------------+\n",
      "|  count|               690|\n",
      "|   mean|4.7587246376811585|\n",
      "| stddev| 4.978163248528541|\n",
      "|    min|                 0|\n",
      "|    25%|               1.0|\n",
      "|    50%|              2.75|\n",
      "|    75%|              7.25|\n",
      "|    max|              9.96|\n",
      "+-------+------------------+\n",
      "\n",
      "+---+-----+-----+---+---+---+---+-----+---+---+---+---+---+-----+-----+-----+\n",
      "| A1|   A2|   A3| A4| A5| A6| A7|   A8| A9|A10|A11|A12|A13|  A14|  A15|class|\n",
      "+---+-----+-----+---+---+---+---+-----+---+---+---+---+---+-----+-----+-----+\n",
      "|  b|30.83|pobre|  u|  g|  w|  v| 1.25|  t|  t| 01|  f|  g|00202|    0|    +|\n",
      "|  a|58.67| rico|  u|  g|  q|  h| 3.04|  t|  t| 06|  f|  g|00043|  560|    +|\n",
      "|  a|24.50|pobre|  u|  g|  q|  h|  1.5|  t|  f|  0|  f|  g|00280|  824|    +|\n",
      "|  b|27.83|pobre|  u|  g|  w|  v| 3.75|  t|  t| 05|  t|  g|00100|    3|    +|\n",
      "|  b|20.17| rico|  u|  g|  w|  v| 1.71|  t|  f|  0|  f|  s|00120|    0|    +|\n",
      "|  b|32.08| rico|  u|  g|  m|  v|  2.5|  t|  f|  0|  t|  g|00360|    0|    +|\n",
      "|  b|33.17|pobre|  u|  g|  r|  h|  6.5|  t|  f|  0|  t|  g|00164|31285|    +|\n",
      "|  a|22.92| rico|  u|  g| cc|  v| 0.04|  t|  f|  0|  f|  g|00080| 1349|    +|\n",
      "|  b|54.42|pobre|  y|  p|  k|  h| 3.96|  t|  f|  0|  f|  g|00180|  314|    +|\n",
      "|  b|42.50| rico|  y|  p|  w|  v|3.165|  t|  f|  0|  t|  g|00052| 1442|    +|\n",
      "|  b|22.08|pobre|  u|  g|  c|  h|2.165|  f|  f|  0|  t|  g|00128|    0|    +|\n",
      "|  b|29.92|pobre|  u|  g|  c|  h|4.335|  t|  f|  0|  f|  g|00260|  200|    +|\n",
      "|  a|38.25| rico|  u|  g|  k|  v|    1|  t|  f|  0|  t|  g|00000|    0|    +|\n",
      "|  b|48.08| rico|  u|  g|  k|  v| 0.04|  f|  f|  0|  f|  g|00000| 2690|    +|\n",
      "|  a|45.83| rico|  u|  g|  q|  v|    5|  t|  t| 07|  t|  g|00000|    0|    +|\n",
      "|  b|36.67| rico|  y|  p|  k|  v| 0.25|  t|  t| 10|  t|  g|00320|    0|    +|\n",
      "|  b|28.25|pobre|  u|  g|  m|  v| 0.96|  t|  t| 03|  t|  g|00396|    0|    +|\n",
      "|  a|23.25| rico|  u|  g|  q|  v| 3.17|  t|  t| 10|  f|  g|00120|  245|    +|\n",
      "|  b|21.83|pobre|  u|  g|  d|  h|0.665|  t|  f|  0|  t|  g|00000|    0|    +|\n",
      "|  a|19.17| rico|  u|  g| cc|  h| 0.75|  t|  t| 07|  f|  g|00096|    0|    +|\n",
      "+---+-----+-----+---+---+---+---+-----+---+---+---+---+---+-----+-----+-----+\n",
      "only showing top 20 rows\n",
      "\n"
     ]
    }
   ],
   "source": [
    "# Vamos supor que 'A3' significa 'o numero de salarios'\n",
    "data_.select(['A3']).summary().show()\n",
    "# Categorizando variaveis\n",
    "data_.withColumn('A3', F.when(F.col('A3') <= 2.75, 'pobre').otherwise('rico')).show()"
   ]
  },
  {
   "cell_type": "markdown",
   "metadata": {},
   "source": [
    "# MLlib"
   ]
  },
  {
   "cell_type": "code",
   "execution_count": 232,
   "metadata": {},
   "outputs": [],
   "source": [
    "data_ = data_.withColumn('class', F.when(F.col('class') == '+', 1).otherwise(0))"
   ]
  },
  {
   "cell_type": "code",
   "execution_count": 233,
   "metadata": {},
   "outputs": [
    {
     "name": "stdout",
     "output_type": "stream",
     "text": [
      "+---+-----+------+---+---+---+---+-----+---+---+---+---+---+-----+-----+-----+\n",
      "| A1|   A2|    A3| A4| A5| A6| A7|   A8| A9|A10|A11|A12|A13|  A14|  A15|class|\n",
      "+---+-----+------+---+---+---+---+-----+---+---+---+---+---+-----+-----+-----+\n",
      "|  b|30.83|     0|  u|  g|  w|  v| 1.25|  t|  t| 01|  f|  g|00202|    0|    1|\n",
      "|  a|58.67|  4.46|  u|  g|  q|  h| 3.04|  t|  t| 06|  f|  g|00043|  560|    1|\n",
      "|  a|24.50|   0.5|  u|  g|  q|  h|  1.5|  t|  f|  0|  f|  g|00280|  824|    1|\n",
      "|  b|27.83|  1.54|  u|  g|  w|  v| 3.75|  t|  t| 05|  t|  g|00100|    3|    1|\n",
      "|  b|20.17| 5.625|  u|  g|  w|  v| 1.71|  t|  f|  0|  f|  s|00120|    0|    1|\n",
      "|  b|32.08|     4|  u|  g|  m|  v|  2.5|  t|  f|  0|  t|  g|00360|    0|    1|\n",
      "|  b|33.17|  1.04|  u|  g|  r|  h|  6.5|  t|  f|  0|  t|  g|00164|31285|    1|\n",
      "|  a|22.92|11.585|  u|  g| cc|  v| 0.04|  t|  f|  0|  f|  g|00080| 1349|    1|\n",
      "|  b|54.42|   0.5|  y|  p|  k|  h| 3.96|  t|  f|  0|  f|  g|00180|  314|    1|\n",
      "|  b|42.50| 4.915|  y|  p|  w|  v|3.165|  t|  f|  0|  t|  g|00052| 1442|    1|\n",
      "|  b|22.08|  0.83|  u|  g|  c|  h|2.165|  f|  f|  0|  t|  g|00128|    0|    1|\n",
      "|  b|29.92| 1.835|  u|  g|  c|  h|4.335|  t|  f|  0|  f|  g|00260|  200|    1|\n",
      "|  a|38.25|     6|  u|  g|  k|  v|    1|  t|  f|  0|  t|  g|00000|    0|    1|\n",
      "|  b|48.08|  6.04|  u|  g|  k|  v| 0.04|  f|  f|  0|  f|  g|00000| 2690|    1|\n",
      "|  a|45.83|  10.5|  u|  g|  q|  v|    5|  t|  t| 07|  t|  g|00000|    0|    1|\n",
      "|  b|36.67| 4.415|  y|  p|  k|  v| 0.25|  t|  t| 10|  t|  g|00320|    0|    1|\n",
      "|  b|28.25| 0.875|  u|  g|  m|  v| 0.96|  t|  t| 03|  t|  g|00396|    0|    1|\n",
      "|  a|23.25| 5.875|  u|  g|  q|  v| 3.17|  t|  t| 10|  f|  g|00120|  245|    1|\n",
      "|  b|21.83|  0.25|  u|  g|  d|  h|0.665|  t|  f|  0|  t|  g|00000|    0|    1|\n",
      "|  a|19.17| 8.585|  u|  g| cc|  h| 0.75|  t|  t| 07|  f|  g|00096|    0|    1|\n",
      "+---+-----+------+---+---+---+---+-----+---+---+---+---+---+-----+-----+-----+\n",
      "only showing top 20 rows\n",
      "\n"
     ]
    }
   ],
   "source": [
    "data_.show()"
   ]
  },
  {
   "cell_type": "code",
   "execution_count": 236,
   "metadata": {},
   "outputs": [
    {
     "name": "stdout",
     "output_type": "stream",
     "text": [
      "root\n",
      " |-- A1: string (nullable = true)\n",
      " |-- A2: string (nullable = true)\n",
      " |-- A3: string (nullable = true)\n",
      " |-- A4: string (nullable = true)\n",
      " |-- A5: string (nullable = true)\n",
      " |-- A6: string (nullable = true)\n",
      " |-- A7: string (nullable = true)\n",
      " |-- A8: string (nullable = true)\n",
      " |-- A9: string (nullable = true)\n",
      " |-- A10: string (nullable = true)\n",
      " |-- A11: string (nullable = true)\n",
      " |-- A12: string (nullable = true)\n",
      " |-- A13: string (nullable = true)\n",
      " |-- A14: string (nullable = true)\n",
      " |-- A15: string (nullable = true)\n",
      " |-- class: integer (nullable = false)\n",
      "\n"
     ]
    }
   ],
   "source": [
    "data_.printSchema()"
   ]
  },
  {
   "cell_type": "code",
   "execution_count": 237,
   "metadata": {},
   "outputs": [],
   "source": [
    "num_cols = ['A2', 'A3', 'A8', 'A11', 'A14', 'A15', 'class']\n",
    "data_ = data_.select(num_cols)\n",
    "data_ = data_.dropna('any')\n",
    "for col in num_cols:\n",
    "    data_ = data_.withColumn(col, data_[col].cast('float'))"
   ]
  },
  {
   "cell_type": "code",
   "execution_count": 238,
   "metadata": {},
   "outputs": [
    {
     "name": "stdout",
     "output_type": "stream",
     "text": [
      "root\n",
      " |-- A2: float (nullable = true)\n",
      " |-- A3: float (nullable = true)\n",
      " |-- A8: float (nullable = true)\n",
      " |-- A11: float (nullable = true)\n",
      " |-- A14: float (nullable = true)\n",
      " |-- A15: float (nullable = true)\n",
      " |-- class: float (nullable = false)\n",
      "\n"
     ]
    }
   ],
   "source": [
    "data_.printSchema()"
   ]
  },
  {
   "cell_type": "code",
   "execution_count": 239,
   "metadata": {},
   "outputs": [],
   "source": [
    "stages = []\n",
    "\n",
    "label_stringIdx = StringIndexer(inputCol = 'class', outputCol = 'label')\n",
    "stages += [label_stringIdx]\n",
    "assemblerInputs = ['A2', 'A3', 'A8', 'A11', 'A14', 'A15']\n",
    "\n",
    "assembler = VectorAssembler(inputCols=assemblerInputs, outputCol=\"features\")\n",
    "stages += [assembler]"
   ]
  },
  {
   "cell_type": "code",
   "execution_count": 240,
   "metadata": {},
   "outputs": [
    {
     "name": "stdout",
     "output_type": "stream",
     "text": [
      "root\n",
      " |-- label: double (nullable = false)\n",
      " |-- features: vector (nullable = true)\n",
      " |-- A2: float (nullable = true)\n",
      " |-- A3: float (nullable = true)\n",
      " |-- A8: float (nullable = true)\n",
      " |-- A11: float (nullable = true)\n",
      " |-- A14: float (nullable = true)\n",
      " |-- A15: float (nullable = true)\n",
      " |-- class: float (nullable = false)\n",
      "\n"
     ]
    }
   ],
   "source": [
    "cols = data_.columns\n",
    "\n",
    "pipeline = Pipeline(stages = stages)\n",
    "pipelineModel = pipeline.fit(data_)\n",
    "data_ = pipelineModel.transform(data_)\n",
    "selectedCols = ['label', 'features'] + cols\n",
    "data_ = data_.select(selectedCols)\n",
    "data_.printSchema()"
   ]
  },
  {
   "cell_type": "code",
   "execution_count": 241,
   "metadata": {},
   "outputs": [
    {
     "name": "stdout",
     "output_type": "stream",
     "text": [
      "Training Dataset Count: 456\n",
      "Test Dataset Count: 210\n"
     ]
    }
   ],
   "source": [
    "# Preparando pros modelos\n",
    "train, test = data_.randomSplit([0.7, 0.3], seed = 2019)\n",
    "print(\"Training Dataset Count: \" + str(train.count()))\n",
    "print(\"Test Dataset Count: \" + str(test.count()))"
   ]
  },
  {
   "cell_type": "markdown",
   "metadata": {},
   "source": [
    "## Logistic Regression Model"
   ]
  },
  {
   "cell_type": "code",
   "execution_count": 243,
   "metadata": {},
   "outputs": [],
   "source": [
    "from pyspark.ml.classification import LogisticRegression\n",
    "lr = LogisticRegression(featuresCol = 'features', labelCol = 'label', maxIter=10)\n",
    "lrModel = lr.fit(train)"
   ]
  },
  {
   "cell_type": "code",
   "execution_count": 246,
   "metadata": {},
   "outputs": [
    {
     "data": {
      "image/png": "[encoded data removed]",
      "text/plain": [
       "<Figure size 432x288 with 1 Axes>"
      ]
     },
     "metadata": {},
     "output_type": "display_data"
    },
    {
     "name": "stdout",
     "output_type": "stream",
     "text": [
      "Training set areaUnderROC: 0.846390392488\n"
     ]
    }
   ],
   "source": [
    "trainingSummary = lrModel.summary\n",
    "roc = trainingSummary.roc.toPandas()\n",
    "plt.plot(roc['FPR'],roc['TPR'])\n",
    "plt.ylabel('False Positive Rate')\n",
    "plt.xlabel('True Positive Rate')\n",
    "plt.title('ROC Curve')\n",
    "plt.show()\n",
    "print('Training set areaUnderROC: ' + str(trainingSummary.areaUnderROC))"
   ]
  },
  {
   "cell_type": "code",
   "execution_count": 247,
   "metadata": {},
   "outputs": [
    {
     "data": {
      "image/png": "[encoded data removed]",
      "text/plain": [
       "<Figure size 432x288 with 1 Axes>"
      ]
     },
     "metadata": {},
     "output_type": "display_data"
    }
   ],
   "source": [
    "pr = trainingSummary.pr.toPandas()\n",
    "plt.plot(pr['recall'],pr['precision'])\n",
    "plt.ylabel('Precision')\n",
    "plt.xlabel('Recall')\n",
    "plt.show()"
   ]
  },
  {
   "cell_type": "code",
   "execution_count": 256,
   "metadata": {},
   "outputs": [
    {
     "name": "stdout",
     "output_type": "stream",
     "text": [
      "+-----+------+-----+----+-----+-----+-----+--------------------+----------+--------------------+\n",
      "|   A2|    A3|   A8| A11|  A14|  A15|label|       rawPrediction|prediction|         probability|\n",
      "+-----+------+-----+----+-----+-----+-----+--------------------+----------+--------------------+\n",
      "|21.08|   5.0|  0.0| 0.0|  0.0|  0.0|  0.0|[1.33635588037100...|       0.0|[0.79189002853626...|\n",
      "|48.75|26.335|  0.0| 0.0|  0.0|  0.0|  0.0|[0.97248293469536...|       0.0|[0.72561412261378...|\n",
      "| 16.0| 0.165|  1.0| 2.0|320.0|  1.0|  0.0|[0.72851526956972...|       0.0|[0.67447937418588...|\n",
      "| 16.0| 3.125|0.085| 1.0|  0.0|  6.0|  0.0|[0.96231534983313...|       0.0|[0.72358513716823...|\n",
      "|16.25|   0.0| 0.25| 0.0| 60.0|  0.0|  0.0|[1.41996379692949...|       0.0|[0.80533274084638...|\n",
      "|16.33|  2.75|0.665| 1.0| 80.0| 21.0|  0.0|[0.88506509685611...|       0.0|[0.70787073296978...|\n",
      "|16.92| 0.335| 0.29| 0.0|200.0|  0.0|  0.0|[1.53929959911382...|       0.0|[0.82336288447538...|\n",
      "|17.08|  3.29|0.335| 0.0|140.0|  2.0|  0.0|[1.40087733897673...|       0.0|[0.80232307209522...|\n",
      "|17.33|   9.5| 1.75|10.0|  0.0| 10.0|  0.0|[-2.9343015021267...|       1.0|[0.05048373273998...|\n",
      "|17.42|   6.5|0.125| 0.0| 60.0|100.0|  0.0|[1.25035742758333...|       0.0|[0.77736172746785...|\n",
      "+-----+------+-----+----+-----+-----+-----+--------------------+----------+--------------------+\n",
      "only showing top 10 rows\n",
      "\n"
     ]
    }
   ],
   "source": [
    "# Fazendo predições usando nossa base de teste.\n",
    "# ['A2', 'A3', 'A8', 'A11', 'A14', 'A15', 'class']\n",
    "predictions = lrModel.transform(test)\n",
    "predictions.select('A2', 'A3', 'A8', 'A11', 'A14', 'A15', 'label', 'rawPrediction', 'prediction', 'probability').show(10)"
   ]
  },
  {
   "cell_type": "code",
   "execution_count": 251,
   "metadata": {},
   "outputs": [
    {
     "name": "stdout",
     "output_type": "stream",
     "text": [
      "('Test Area Under ROC', 0.8141120117907157)\n"
     ]
    }
   ],
   "source": [
    "# Avaliando modelos\n",
    "from pyspark.ml.evaluation import BinaryClassificationEvaluator\n",
    "evaluator = BinaryClassificationEvaluator()\n",
    "print('Test Area Under ROC', evaluator.evaluate(predictions))"
   ]
  },
  {
   "cell_type": "markdown",
   "metadata": {},
   "source": [
    "## Decision Tree Classifier"
   ]
  },
  {
   "cell_type": "code",
   "execution_count": 255,
   "metadata": {},
   "outputs": [
    {
     "name": "stdout",
     "output_type": "stream",
     "text": [
      "+-----+------+-----+----+-----+-----+-----+-------------+----------+--------------------+\n",
      "|   A2|    A3|   A8| A11|  A14|  A15|label|rawPrediction|prediction|         probability|\n",
      "+-----+------+-----+----+-----+-----+-----+-------------+----------+--------------------+\n",
      "|21.08|   5.0|  0.0| 0.0|  0.0|  0.0|  0.0| [161.0,34.0]|       0.0|[0.82564102564102...|\n",
      "|48.75|26.335|  0.0| 0.0|  0.0|  0.0|  0.0| [161.0,34.0]|       0.0|[0.82564102564102...|\n",
      "| 16.0| 0.165|  1.0| 2.0|320.0|  1.0|  0.0| [161.0,34.0]|       0.0|[0.82564102564102...|\n",
      "| 16.0| 3.125|0.085| 1.0|  0.0|  6.0|  0.0| [161.0,34.0]|       0.0|[0.82564102564102...|\n",
      "|16.25|   0.0| 0.25| 0.0| 60.0|  0.0|  0.0| [161.0,34.0]|       0.0|[0.82564102564102...|\n",
      "|16.33|  2.75|0.665| 1.0| 80.0| 21.0|  0.0| [161.0,34.0]|       0.0|[0.82564102564102...|\n",
      "|16.92| 0.335| 0.29| 0.0|200.0|  0.0|  0.0| [161.0,34.0]|       0.0|[0.82564102564102...|\n",
      "|17.08|  3.29|0.335| 0.0|140.0|  2.0|  0.0| [161.0,34.0]|       0.0|[0.82564102564102...|\n",
      "|17.33|   9.5| 1.75|10.0|  0.0| 10.0|  0.0|   [3.0,84.0]|       1.0|[0.03448275862068...|\n",
      "|17.42|   6.5|0.125| 0.0| 60.0|100.0|  0.0| [161.0,34.0]|       0.0|[0.82564102564102...|\n",
      "+-----+------+-----+----+-----+-----+-----+-------------+----------+--------------------+\n",
      "only showing top 10 rows\n",
      "\n"
     ]
    }
   ],
   "source": [
    "from pyspark.ml.classification import DecisionTreeClassifier\n",
    "# ['A2', 'A3', 'A8', 'A11', 'A14', 'A15', 'class']\n",
    "dt = DecisionTreeClassifier(featuresCol = 'features', labelCol = 'label', maxDepth = 3)\n",
    "dtModel = dt.fit(train)\n",
    "predictions = dtModel.transform(test)\n",
    "predictions.select('A2', 'A3', 'A8', 'A11', 'A14', 'A15', 'label', 'rawPrediction', 'prediction', 'probability').show(10)"
   ]
  },
  {
   "cell_type": "code",
   "execution_count": 253,
   "metadata": {},
   "outputs": [
    {
     "name": "stdout",
     "output_type": "stream",
     "text": [
      "Test Area Under ROC: 0.659036477524\n"
     ]
    }
   ],
   "source": [
    "# Avaliando modelo\n",
    "evaluator = BinaryClassificationEvaluator()\n",
    "print(\"Test Area Under ROC: \" + str(evaluator.evaluate(predictions, {evaluator.metricName: \"areaUnderROC\"})))"
   ]
  },
  {
   "cell_type": "markdown",
   "metadata": {},
   "source": [
    "## Random Forest Classifier"
   ]
  },
  {
   "cell_type": "code",
   "execution_count": 254,
   "metadata": {},
   "outputs": [
    {
     "name": "stdout",
     "output_type": "stream",
     "text": [
      "+-----+------+-----+----+-----+-----+-----+--------------------+----------+--------------------+\n",
      "|   A2|    A3|   A8| A11|  A14|  A15|label|       rawPrediction|prediction|         probability|\n",
      "+-----+------+-----+----+-----+-----+-----+--------------------+----------+--------------------+\n",
      "|21.08|   5.0|  0.0| 0.0|  0.0|  0.0|  0.0|[16.6320873982832...|       0.0|[0.83160436991416...|\n",
      "|48.75|26.335|  0.0| 0.0|  0.0|  0.0|  0.0|[16.5117698713092...|       0.0|[0.82558849356546...|\n",
      "| 16.0| 0.165|  1.0| 2.0|320.0|  1.0|  0.0|[13.9225089050802...|       0.0|[0.69612544525401...|\n",
      "| 16.0| 3.125|0.085| 1.0|  0.0|  6.0|  0.0|[17.6099009410417...|       0.0|[0.88049504705208...|\n",
      "|16.25|   0.0| 0.25| 0.0| 60.0|  0.0|  0.0|[17.8272672681758...|       0.0|[0.89136336340879...|\n",
      "|16.33|  2.75|0.665| 1.0| 80.0| 21.0|  0.0|[15.2777458163194...|       0.0|[0.76388729081597...|\n",
      "|16.92| 0.335| 0.29| 0.0|200.0|  0.0|  0.0|[17.9574953166553...|       0.0|[0.89787476583276...|\n",
      "|17.08|  3.29|0.335| 0.0|140.0|  2.0|  0.0|[17.8346329427704...|       0.0|[0.89173164713852...|\n",
      "|17.33|   9.5| 1.75|10.0|  0.0| 10.0|  0.0|[8.23277648408761...|       1.0|[0.41163882420438...|\n",
      "|17.42|   6.5|0.125| 0.0| 60.0|100.0|  0.0|[16.6780401719160...|       0.0|[0.83390200859580...|\n",
      "+-----+------+-----+----+-----+-----+-----+--------------------+----------+--------------------+\n",
      "only showing top 10 rows\n",
      "\n"
     ]
    }
   ],
   "source": [
    "from pyspark.ml.classification import RandomForestClassifier\n",
    "# ['A2', 'A3', 'A8', 'A11', 'A14', 'A15', 'class']\n",
    "rf = RandomForestClassifier(featuresCol = 'features', labelCol = 'label')\n",
    "rfModel = rf.fit(train)\n",
    "predictions = rfModel.transform(test)\n",
    "predictions.select('A2', 'A3', 'A8', 'A11', 'A14', 'A15', 'label', 'rawPrediction', 'prediction', 'probability').show(10)"
   ]
  },
  {
   "cell_type": "code",
   "execution_count": 257,
   "metadata": {},
   "outputs": [
    {
     "name": "stdout",
     "output_type": "stream",
     "text": [
      "Test Area Under ROC: 0.814112011791\n"
     ]
    }
   ],
   "source": [
    "# Avaliando modelo\n",
    "evaluator = BinaryClassificationEvaluator()\n",
    "print(\"Test Area Under ROC: \" + str(evaluator.evaluate(predictions, {evaluator.metricName: \"areaUnderROC\"})))"
   ]
  },
  {
   "cell_type": "markdown",
   "metadata": {},
   "source": [
    "## Gradient-Boosted Tree Classifier"
   ]
  },
  {
   "cell_type": "code",
   "execution_count": 259,
   "metadata": {},
   "outputs": [
    {
     "name": "stdout",
     "output_type": "stream",
     "text": [
      "+-----+------+-----+----+-----+-----+-----+--------------------+----------+--------------------+\n",
      "|   A2|    A3|   A8| A11|  A14|  A15|label|       rawPrediction|prediction|         probability|\n",
      "+-----+------+-----+----+-----+-----+-----+--------------------+----------+--------------------+\n",
      "|21.08|   5.0|  0.0| 0.0|  0.0|  0.0|  0.0|[1.04442315481501...|       0.0|[0.88981436319902...|\n",
      "|48.75|26.335|  0.0| 0.0|  0.0|  0.0|  0.0|[1.22649248019565...|       0.0|[0.92077946135336...|\n",
      "| 16.0| 0.165|  1.0| 2.0|320.0|  1.0|  0.0|[0.97080019918231...|       0.0|[0.87452785869475...|\n",
      "| 16.0| 3.125|0.085| 1.0|  0.0|  6.0|  0.0|[0.89575366664370...|       0.0|[0.85711198057398...|\n",
      "|16.25|   0.0| 0.25| 0.0| 60.0|  0.0|  0.0|[0.91251024153792...|       0.0|[0.86116745538780...|\n",
      "|16.33|  2.75|0.665| 1.0| 80.0| 21.0|  0.0|[0.27945542937092...|       0.0|[0.63620049657739...|\n",
      "|16.92| 0.335| 0.29| 0.0|200.0|  0.0|  0.0|[1.03724522630746...|       0.0|[0.88839895009919...|\n",
      "|17.08|  3.29|0.335| 0.0|140.0|  2.0|  0.0|[1.05240702543024...|       0.0|[0.89137019930258...|\n",
      "|17.33|   9.5| 1.75|10.0|  0.0| 10.0|  0.0|[-1.1434791290024...|       1.0|[0.09220884750435...|\n",
      "|17.42|   6.5|0.125| 0.0| 60.0|100.0|  0.0|[0.91601431974954...|       0.0|[0.86200321820322...|\n",
      "+-----+------+-----+----+-----+-----+-----+--------------------+----------+--------------------+\n",
      "only showing top 10 rows\n",
      "\n"
     ]
    }
   ],
   "source": [
    "from pyspark.ml.classification import GBTClassifier\n",
    "gbt = GBTClassifier(maxIter=10)\n",
    "gbtModel = gbt.fit(train)\n",
    "predictions = gbtModel.transform(test)\n",
    "predictions.select('A2', 'A3', 'A8', 'A11', 'A14', 'A15', 'label', 'rawPrediction', 'prediction', 'probability').show(10)"
   ]
  },
  {
   "cell_type": "code",
   "execution_count": 260,
   "metadata": {},
   "outputs": [
    {
     "name": "stdout",
     "output_type": "stream",
     "text": [
      "Test Area Under ROC: 0.799511790715\n"
     ]
    }
   ],
   "source": [
    "# Avaliando modelo\n",
    "evaluator = BinaryClassificationEvaluator()\n",
    "print(\"Test Area Under ROC: \" + str(evaluator.evaluate(predictions, {evaluator.metricName: \"areaUnderROC\"})))"
   ]
  },
  {
   "cell_type": "code",
   "execution_count": 261,
   "metadata": {},
   "outputs": [
    {
     "name": "stdout",
     "output_type": "stream",
     "text": [
      "cacheNodeIds: If false, the algorithm will pass trees to executors to match instances with nodes. If true, the algorithm will cache node IDs for each instance. Caching can speed up training of deeper trees. Users can set how often should the cache be checkpointed or disable it by setting checkpointInterval. (default: False)\n",
      "checkpointInterval: set checkpoint interval (>= 1) or disable checkpoint (-1). E.g. 10 means that the cache will get checkpointed every 10 iterations. Note: this setting will be ignored if the checkpoint directory is not set in the SparkContext. (default: 10)\n",
      "featureSubsetStrategy: The number of features to consider for splits at each tree node. Supported options: 'auto' (choose automatically for task: If numTrees == 1, set to 'all'. If numTrees > 1 (forest), set to 'sqrt' for classification and to 'onethird' for regression), 'all' (use all features), 'onethird' (use 1/3 of the features), 'sqrt' (use sqrt(number of features)), 'log2' (use log2(number of features)), 'n' (when n is in the range (0, 1.0], use n * number of features. When n is in the range (1, number of features), use n features). default = 'auto' (default: all)\n",
      "featuresCol: features column name. (default: features)\n",
      "labelCol: label column name. (default: label)\n",
      "lossType: Loss function which GBT tries to minimize (case-insensitive). Supported options: logistic (default: logistic)\n",
      "maxBins: Max number of bins for discretizing continuous features.  Must be >=2 and >= number of categories for any categorical feature. (default: 32)\n",
      "maxDepth: Maximum depth of the tree. (>= 0) E.g., depth 0 means 1 leaf node; depth 1 means 1 internal node + 2 leaf nodes. (default: 5)\n",
      "maxIter: max number of iterations (>= 0). (default: 20, current: 10)\n",
      "maxMemoryInMB: Maximum memory in MB allocated to histogram aggregation. If too small, then 1 node will be split per iteration, and its aggregates may exceed this size. (default: 256)\n",
      "minInfoGain: Minimum information gain for a split to be considered at a tree node. (default: 0.0)\n",
      "minInstancesPerNode: Minimum number of instances each child must have after split. If a split causes the left or right child to have fewer than minInstancesPerNode, the split will be discarded as invalid. Should be >= 1. (default: 1)\n",
      "predictionCol: prediction column name. (default: prediction)\n",
      "seed: random seed. (default: 2857134701650851239)\n",
      "stepSize: Step size (a.k.a. learning rate) in interval (0, 1] for shrinking the contribution of each estimator. (default: 0.1)\n",
      "subsamplingRate: Fraction of the training data used for learning each decision tree, in range (0, 1]. (default: 1.0)\n"
     ]
    }
   ],
   "source": [
    "print(gbt.explainParams())"
   ]
  },
  {
   "cell_type": "code",
   "execution_count": 262,
   "metadata": {},
   "outputs": [
    {
     "data": {
      "text/plain": [
       "0.8319362564480468"
      ]
     },
     "execution_count": 262,
     "metadata": {},
     "output_type": "execute_result"
    }
   ],
   "source": [
    "from pyspark.ml.tuning import ParamGridBuilder, CrossValidator\n",
    "paramGrid = (ParamGridBuilder()\n",
    "             .addGrid(gbt.maxDepth, [2, 4, 6])\n",
    "             .addGrid(gbt.maxBins, [20, 60])\n",
    "             .addGrid(gbt.maxIter, [10, 20])\n",
    "             .build())\n",
    "cv = CrossValidator(estimator=gbt, estimatorParamMaps=paramGrid, evaluator=evaluator, numFolds=5)\n",
    "# Run cross validations.  This can take about 6 minutes since it is training over 20 trees!\n",
    "cvModel = cv.fit(train)\n",
    "predictions = cvModel.transform(test)\n",
    "evaluator.evaluate(predictions)"
   ]
  },
  {
   "cell_type": "code",
   "execution_count": null,
   "metadata": {},
   "outputs": [],
   "source": []
  }
 ],
 "metadata": {
  "kernelspec": {
   "display_name": "Python 3",
   "language": "python",
   "name": "python3"
  },
  "language_info": {
   "codemirror_mode": {
    "name": "ipython",
    "version": 3
   },
   "file_extension": ".py",
   "mimetype": "text/x-python",
   "name": "python",
   "nbconvert_exporter": "python",
   "pygments_lexer": "ipython3",
   "version": "3.8.5"
  }
 },
 "nbformat": 4,
 "nbformat_minor": 4
}
