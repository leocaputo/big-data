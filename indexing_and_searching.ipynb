{
 "cells": [
  {
   "cell_type": "code",
   "execution_count": 1,
   "metadata": {},
   "outputs": [
    {
     "name": "stdout",
     "output_type": "stream",
     "text": [
      "Collecting elasticsearch\n",
      "  Downloading elasticsearch-7.10.1-py2.py3-none-any.whl (322 kB)\n",
      "\u001b[K     |████████████████████████████████| 322 kB 2.0 MB/s eta 0:00:01\n",
      "\u001b[?25hRequirement already satisfied: urllib3<2,>=1.21.1 in /home/aluno/anaconda3/lib/python3.8/site-packages (from elasticsearch) (1.25.11)\n",
      "Requirement already satisfied: certifi in /home/aluno/anaconda3/lib/python3.8/site-packages (from elasticsearch) (2020.6.20)\n",
      "Installing collected packages: elasticsearch\n",
      "Successfully installed elasticsearch-7.10.1\n",
      "Collecting csv2es\n",
      "  Downloading csv2es-1.0.1.tar.gz (11 kB)\n",
      "Collecting click==4.0\n",
      "  Downloading click-4.0-py2.py3-none-any.whl (62 kB)\n",
      "\u001b[K     |████████████████████████████████| 62 kB 261 kB/s eta 0:00:01\n",
      "\u001b[?25hCollecting elasticsearch==1.4.0\n",
      "  Downloading elasticsearch-1.4.0-py2.py3-none-any.whl (56 kB)\n",
      "\u001b[K     |████████████████████████████████| 56 kB 2.0 MB/s  eta 0:00:01\n",
      "\u001b[?25hCollecting joblib==0.8.4\n",
      "  Downloading joblib-0.8.4-py2.py3-none-any.whl (78 kB)\n",
      "\u001b[K     |████████████████████████████████| 78 kB 701 kB/s  eta 0:00:01\n",
      "\u001b[?25hCollecting pyelasticsearch==1.2.3\n",
      "  Downloading pyelasticsearch-1.2.3.tar.gz (52 kB)\n",
      "\u001b[K     |████████████████████████████████| 52 kB 655 kB/s  eta 0:00:01\n",
      "\u001b[?25hCollecting retrying==1.3.3\n",
      "  Downloading retrying-1.3.3.tar.gz (10 kB)\n",
      "Collecting simplejson==3.6.5\n",
      "  Downloading simplejson-3.6.5.tar.gz (73 kB)\n",
      "\u001b[K     |████████████████████████████████| 73 kB 691 kB/s  eta 0:00:01\n",
      "\u001b[?25hCollecting six==1.9.0\n",
      "  Downloading six-1.9.0-py2.py3-none-any.whl (10 kB)\n",
      "Collecting urllib3==1.10.2\n",
      "  Downloading urllib3-1.10.2.tar.gz (132 kB)\n",
      "\u001b[K     |████████████████████████████████| 132 kB 7.1 MB/s eta 0:00:01\n",
      "\u001b[?25hBuilding wheels for collected packages: csv2es, pyelasticsearch, retrying, simplejson, urllib3\n",
      "  Building wheel for csv2es (setup.py) ... \u001b[?25ldone\n",
      "\u001b[?25h  Created wheel for csv2es: filename=csv2es-1.0.1-py3-none-any.whl size=11759 sha256=8d6b18de7a7f2955a1384d71c172c8a6f9d035fb22e6ce28a36f0476b3f1684c\n",
      "  Stored in directory: /home/aluno/.cache/pip/wheels/f0/ba/36/52ee8986e4a509ea1b0b79cb9a595c0c0cc8f124686f89702e\n",
      "  Building wheel for pyelasticsearch (setup.py) ... \u001b[?25ldone\n",
      "\u001b[?25h  Created wheel for pyelasticsearch: filename=pyelasticsearch-1.2.3-py3-none-any.whl size=32829 sha256=23e3ae234e28e74e34b1efce0a2c57164e8af7606446ebc5c599270ad047ee40\n",
      "  Stored in directory: /home/aluno/.cache/pip/wheels/71/9c/0b/d9fdc72ec40e678b455966eeffacff9c9a1a15ce2a0955776c\n",
      "  Building wheel for retrying (setup.py) ... \u001b[?25ldone\n",
      "\u001b[?25h  Created wheel for retrying: filename=retrying-1.3.3-py3-none-any.whl size=11429 sha256=a87c7ae3351366793dc81b33de33a12be942317cba62b35346a50bdfa3da241f\n",
      "  Stored in directory: /home/aluno/.cache/pip/wheels/c4/a7/48/0a434133f6d56e878ca511c0e6c38326907c0792f67b476e56\n",
      "  Building wheel for simplejson (setup.py) ... \u001b[?25ldone\n",
      "\u001b[?25h  Created wheel for simplejson: filename=simplejson-3.6.5-py3-none-any.whl size=50080 sha256=f52bb298b5e2c08570b30a6a8546581923b233ad461fa678cb25a09af715bbcb\n",
      "  Stored in directory: /home/aluno/.cache/pip/wheels/d7/d4/12/16bff884089e01e4ac1b5bbed636d15e536178901f3bdab848\n",
      "  Building wheel for urllib3 (setup.py) ... \u001b[?25ldone\n",
      "\u001b[?25h  Created wheel for urllib3: filename=urllib3-1.10.2-py3-none-any.whl size=69363 sha256=e87a6fbee2984519f5074632eb17bb150ca22267787dda30fb8fbb887e50ec93\n",
      "  Stored in directory: /home/aluno/.cache/pip/wheels/83/b4/e7/a4bb7ef2f9ed2d868f85f3362cfcb1c5d01f4e2e91c1e40972\n",
      "Successfully built csv2es pyelasticsearch retrying simplejson urllib3\n",
      "Installing collected packages: click, urllib3, elasticsearch, joblib, simplejson, six, pyelasticsearch, retrying, csv2es\n",
      "  Attempting uninstall: click\n",
      "    Found existing installation: click 7.1.2\n",
      "    Uninstalling click-7.1.2:\n",
      "      Successfully uninstalled click-7.1.2\n",
      "  Attempting uninstall: urllib3\n",
      "    Found existing installation: urllib3 1.25.11\n",
      "    Uninstalling urllib3-1.25.11:\n",
      "      Successfully uninstalled urllib3-1.25.11\n",
      "  Attempting uninstall: elasticsearch\n",
      "    Found existing installation: elasticsearch 7.10.1\n",
      "    Uninstalling elasticsearch-7.10.1:\n",
      "      Successfully uninstalled elasticsearch-7.10.1\n",
      "  Attempting uninstall: joblib\n",
      "    Found existing installation: joblib 0.17.0\n",
      "    Uninstalling joblib-0.17.0:\n",
      "      Successfully uninstalled joblib-0.17.0\n",
      "  Attempting uninstall: six\n",
      "    Found existing installation: six 1.15.0\n",
      "    Uninstalling six-1.15.0:\n",
      "      Successfully uninstalled six-1.15.0\n",
      "\u001b[31mERROR: After October 2020 you may experience errors when installing or updating packages. This is because pip will change the way that it resolves dependency conflicts.\n",
      "\n",
      "We recommend you use --use-feature=2020-resolver to test your packages with the new resolver before it becomes the default.\n",
      "\n",
      "scikit-learn 0.23.2 requires joblib>=0.11, but you'll have joblib 0.8.4 which is incompatible.\n",
      "requests 2.24.0 requires urllib3!=1.25.0,!=1.25.1,<1.26,>=1.21.1, but you'll have urllib3 1.10.2 which is incompatible.\n",
      "jsonschema 3.2.0 requires six>=1.11.0, but you'll have six 1.9.0 which is incompatible.\n",
      "flask 1.1.2 requires click>=5.1, but you'll have click 4.0 which is incompatible.\n",
      "distributed 2.30.1 requires click>=6.6, but you'll have click 4.0 which is incompatible.\n",
      "conda-verify 3.4.2 requires click>=6.7, but you'll have click 4.0 which is incompatible.\n",
      "astroid 2.4.2 requires six~=1.12, but you'll have six 1.9.0 which is incompatible.\u001b[0m\n",
      "Successfully installed click-4.0 csv2es-1.0.1 elasticsearch-1.4.0 joblib-0.8.4 pyelasticsearch-1.2.3 retrying-1.3.3 simplejson-3.6.5 six-1.9.0 urllib3-1.10.2\n",
      "Requirement already satisfied: requests in /home/aluno/anaconda3/lib/python3.8/site-packages (2.24.0)\n",
      "Collecting urllib3!=1.25.0,!=1.25.1,<1.26,>=1.21.1\n",
      "  Downloading urllib3-1.25.11-py2.py3-none-any.whl (127 kB)\n",
      "\u001b[K     |████████████████████████████████| 127 kB 2.5 MB/s eta 0:00:01\n",
      "\u001b[?25hRequirement already satisfied: idna<3,>=2.5 in /home/aluno/anaconda3/lib/python3.8/site-packages (from requests) (2.10)\n",
      "Requirement already satisfied: chardet<4,>=3.0.2 in /home/aluno/anaconda3/lib/python3.8/site-packages (from requests) (3.0.4)\n",
      "Requirement already satisfied: certifi>=2017.4.17 in /home/aluno/anaconda3/lib/python3.8/site-packages (from requests) (2020.6.20)\n",
      "Installing collected packages: urllib3\n",
      "  Attempting uninstall: urllib3\n",
      "    Found existing installation: urllib3 1.10.2\n",
      "    Uninstalling urllib3-1.10.2:\n",
      "      Successfully uninstalled urllib3-1.10.2\n",
      "\u001b[31mERROR: After October 2020 you may experience errors when installing or updating packages. This is because pip will change the way that it resolves dependency conflicts.\n",
      "\n",
      "We recommend you use --use-feature=2020-resolver to test your packages with the new resolver before it becomes the default.\n",
      "\n",
      "csv2es 1.0.1 requires urllib3==1.10.2, but you'll have urllib3 1.25.11 which is incompatible.\u001b[0m\n",
      "Successfully installed urllib3-1.25.11\n"
     ]
    }
   ],
   "source": [
    "!pip install elasticsearch\n",
    "!pip install csv2es\n",
    "!pip install requests"
   ]
  },
  {
   "cell_type": "code",
   "execution_count": 1,
   "metadata": {},
   "outputs": [],
   "source": [
    "from elasticsearch import helpers, Elasticsearch\n",
    "import csv\n",
    "import csv2es"
   ]
  },
  {
   "cell_type": "code",
   "execution_count": 2,
   "metadata": {},
   "outputs": [],
   "source": [
    "es = Elasticsearch()"
   ]
  },
  {
   "cell_type": "code",
   "execution_count": 3,
   "metadata": {},
   "outputs": [],
   "source": [
    "df = spark.read.csv('DNPBA2017.csv', header=True)"
   ]
  },
  {
   "cell_type": "code",
   "execution_count": 4,
   "metadata": {},
   "outputs": [],
   "source": [
    "df = df.select(['NUMERODN', 'CODESTAB', 'IDADEMAE', 'ESCMAEAGR1']).limit(20).toPandas()"
   ]
  },
  {
   "cell_type": "code",
   "execution_count": 5,
   "metadata": {},
   "outputs": [],
   "source": [
    "df.to_csv('DNPBA2017_es.csv', index=False)"
   ]
  },
  {
   "cell_type": "markdown",
   "metadata": {},
   "source": [
    "### indexng"
   ]
  },
  {
   "cell_type": "code",
   "execution_count": 6,
   "metadata": {},
   "outputs": [
    {
     "name": "stderr",
     "output_type": "stream",
     "text": [
      "POST /my-index/my-type/_bulk [status:406 request:4.100s]\n"
     ]
    },
    {
     "ename": "TransportError",
     "evalue": "TransportError(406, 'Content-Type header [] is not supported')",
     "output_type": "error",
     "traceback": [
      "\u001b[0;31m---------------------------------------------------------------------------\u001b[0m",
      "\u001b[0;31mTransportError\u001b[0m                            Traceback (most recent call last)",
      "\u001b[0;32m<ipython-input-6-fc520efa3794>\u001b[0m in \u001b[0;36m<module>\u001b[0;34m\u001b[0m\n\u001b[1;32m      1\u001b[0m \u001b[0;32mwith\u001b[0m \u001b[0mopen\u001b[0m\u001b[0;34m(\u001b[0m\u001b[0;34m'DNPBA2017_es.csv'\u001b[0m\u001b[0;34m)\u001b[0m \u001b[0;32mas\u001b[0m \u001b[0mf\u001b[0m\u001b[0;34m:\u001b[0m\u001b[0;34m\u001b[0m\u001b[0;34m\u001b[0m\u001b[0m\n\u001b[1;32m      2\u001b[0m     \u001b[0mreader\u001b[0m \u001b[0;34m=\u001b[0m \u001b[0mcsv\u001b[0m\u001b[0;34m.\u001b[0m\u001b[0mDictReader\u001b[0m\u001b[0;34m(\u001b[0m\u001b[0mf\u001b[0m\u001b[0;34m)\u001b[0m\u001b[0;34m\u001b[0m\u001b[0;34m\u001b[0m\u001b[0m\n\u001b[0;32m----> 3\u001b[0;31m     \u001b[0mhelpers\u001b[0m\u001b[0;34m.\u001b[0m\u001b[0mbulk\u001b[0m\u001b[0;34m(\u001b[0m\u001b[0mes\u001b[0m\u001b[0;34m,\u001b[0m \u001b[0mreader\u001b[0m\u001b[0;34m,\u001b[0m \u001b[0mindex\u001b[0m\u001b[0;34m=\u001b[0m\u001b[0;34m'my-index'\u001b[0m\u001b[0;34m,\u001b[0m \u001b[0mdoc_type\u001b[0m\u001b[0;34m=\u001b[0m\u001b[0;34m'my-type'\u001b[0m\u001b[0;34m)\u001b[0m\u001b[0;34m\u001b[0m\u001b[0;34m\u001b[0m\u001b[0m\n\u001b[0m\u001b[1;32m      4\u001b[0m \u001b[0;34m\u001b[0m\u001b[0m\n\u001b[1;32m      5\u001b[0m \u001b[0;31m# ler indices no linux com: curl 'localhost:9200/_cat/indices?v'\u001b[0m\u001b[0;34m\u001b[0m\u001b[0;34m\u001b[0m\u001b[0;34m\u001b[0m\u001b[0m\n",
      "\u001b[0;32m~/anaconda3/lib/python3.8/site-packages/elasticsearch/helpers/__init__.py\u001b[0m in \u001b[0;36mbulk\u001b[0;34m(client, actions, stats_only, **kwargs)\u001b[0m\n\u001b[1;32m    174\u001b[0m     \u001b[0merrors\u001b[0m \u001b[0;34m=\u001b[0m \u001b[0;34m[\u001b[0m\u001b[0;34m]\u001b[0m\u001b[0;34m\u001b[0m\u001b[0;34m\u001b[0m\u001b[0m\n\u001b[1;32m    175\u001b[0m \u001b[0;34m\u001b[0m\u001b[0m\n\u001b[0;32m--> 176\u001b[0;31m     \u001b[0;32mfor\u001b[0m \u001b[0mok\u001b[0m\u001b[0;34m,\u001b[0m \u001b[0mitem\u001b[0m \u001b[0;32min\u001b[0m \u001b[0mstreaming_bulk\u001b[0m\u001b[0;34m(\u001b[0m\u001b[0mclient\u001b[0m\u001b[0;34m,\u001b[0m \u001b[0mactions\u001b[0m\u001b[0;34m,\u001b[0m \u001b[0;34m**\u001b[0m\u001b[0mkwargs\u001b[0m\u001b[0;34m)\u001b[0m\u001b[0;34m:\u001b[0m\u001b[0;34m\u001b[0m\u001b[0;34m\u001b[0m\u001b[0m\n\u001b[0m\u001b[1;32m    177\u001b[0m         \u001b[0;31m# go through request-reponse pairs and detect failures\u001b[0m\u001b[0;34m\u001b[0m\u001b[0;34m\u001b[0m\u001b[0;34m\u001b[0m\u001b[0m\n\u001b[1;32m    178\u001b[0m         \u001b[0;32mif\u001b[0m \u001b[0;32mnot\u001b[0m \u001b[0mok\u001b[0m\u001b[0;34m:\u001b[0m\u001b[0;34m\u001b[0m\u001b[0;34m\u001b[0m\u001b[0m\n",
      "\u001b[0;32m~/anaconda3/lib/python3.8/site-packages/elasticsearch/helpers/__init__.py\u001b[0m in \u001b[0;36mstreaming_bulk\u001b[0;34m(client, actions, chunk_size, raise_on_error, expand_action_callback, raise_on_exception, **kwargs)\u001b[0m\n\u001b[1;32m    116\u001b[0m             \u001b[0;31m# default behavior - just propagate exception\u001b[0m\u001b[0;34m\u001b[0m\u001b[0;34m\u001b[0m\u001b[0;34m\u001b[0m\u001b[0m\n\u001b[1;32m    117\u001b[0m             \u001b[0;32mif\u001b[0m \u001b[0mraise_on_exception\u001b[0m\u001b[0;34m:\u001b[0m\u001b[0;34m\u001b[0m\u001b[0;34m\u001b[0m\u001b[0m\n\u001b[0;32m--> 118\u001b[0;31m                 \u001b[0;32mraise\u001b[0m \u001b[0me\u001b[0m\u001b[0;34m\u001b[0m\u001b[0;34m\u001b[0m\u001b[0m\n\u001b[0m\u001b[1;32m    119\u001b[0m \u001b[0;34m\u001b[0m\u001b[0m\n\u001b[1;32m    120\u001b[0m             \u001b[0;31m# if we are not propagating, mark all actions in current chunk as failed\u001b[0m\u001b[0;34m\u001b[0m\u001b[0;34m\u001b[0m\u001b[0;34m\u001b[0m\u001b[0m\n",
      "\u001b[0;32m~/anaconda3/lib/python3.8/site-packages/elasticsearch/helpers/__init__.py\u001b[0m in \u001b[0;36mstreaming_bulk\u001b[0;34m(client, actions, chunk_size, raise_on_error, expand_action_callback, raise_on_exception, **kwargs)\u001b[0m\n\u001b[1;32m    112\u001b[0m         \u001b[0;32mtry\u001b[0m\u001b[0;34m:\u001b[0m\u001b[0;34m\u001b[0m\u001b[0;34m\u001b[0m\u001b[0m\n\u001b[1;32m    113\u001b[0m             \u001b[0;31m# send the actual request\u001b[0m\u001b[0;34m\u001b[0m\u001b[0;34m\u001b[0m\u001b[0;34m\u001b[0m\u001b[0m\n\u001b[0;32m--> 114\u001b[0;31m             \u001b[0mresp\u001b[0m \u001b[0;34m=\u001b[0m \u001b[0mclient\u001b[0m\u001b[0;34m.\u001b[0m\u001b[0mbulk\u001b[0m\u001b[0;34m(\u001b[0m\u001b[0mbulk_actions\u001b[0m\u001b[0;34m,\u001b[0m \u001b[0;34m**\u001b[0m\u001b[0mkwargs\u001b[0m\u001b[0;34m)\u001b[0m\u001b[0;34m\u001b[0m\u001b[0;34m\u001b[0m\u001b[0m\n\u001b[0m\u001b[1;32m    115\u001b[0m         \u001b[0;32mexcept\u001b[0m \u001b[0mTransportError\u001b[0m \u001b[0;32mas\u001b[0m \u001b[0me\u001b[0m\u001b[0;34m:\u001b[0m\u001b[0;34m\u001b[0m\u001b[0;34m\u001b[0m\u001b[0m\n\u001b[1;32m    116\u001b[0m             \u001b[0;31m# default behavior - just propagate exception\u001b[0m\u001b[0;34m\u001b[0m\u001b[0;34m\u001b[0m\u001b[0;34m\u001b[0m\u001b[0m\n",
      "\u001b[0;32m~/anaconda3/lib/python3.8/site-packages/elasticsearch/client/utils.py\u001b[0m in \u001b[0;36m_wrapped\u001b[0;34m(*args, **kwargs)\u001b[0m\n\u001b[1;32m     66\u001b[0m                 \u001b[0;32mif\u001b[0m \u001b[0mp\u001b[0m \u001b[0;32min\u001b[0m \u001b[0mkwargs\u001b[0m\u001b[0;34m:\u001b[0m\u001b[0;34m\u001b[0m\u001b[0;34m\u001b[0m\u001b[0m\n\u001b[1;32m     67\u001b[0m                     \u001b[0mparams\u001b[0m\u001b[0;34m[\u001b[0m\u001b[0mp\u001b[0m\u001b[0;34m]\u001b[0m \u001b[0;34m=\u001b[0m \u001b[0mkwargs\u001b[0m\u001b[0;34m.\u001b[0m\u001b[0mpop\u001b[0m\u001b[0;34m(\u001b[0m\u001b[0mp\u001b[0m\u001b[0;34m)\u001b[0m\u001b[0;34m\u001b[0m\u001b[0;34m\u001b[0m\u001b[0m\n\u001b[0;32m---> 68\u001b[0;31m             \u001b[0;32mreturn\u001b[0m \u001b[0mfunc\u001b[0m\u001b[0;34m(\u001b[0m\u001b[0;34m*\u001b[0m\u001b[0margs\u001b[0m\u001b[0;34m,\u001b[0m \u001b[0mparams\u001b[0m\u001b[0;34m=\u001b[0m\u001b[0mparams\u001b[0m\u001b[0;34m,\u001b[0m \u001b[0;34m**\u001b[0m\u001b[0mkwargs\u001b[0m\u001b[0;34m)\u001b[0m\u001b[0;34m\u001b[0m\u001b[0;34m\u001b[0m\u001b[0m\n\u001b[0m\u001b[1;32m     69\u001b[0m         \u001b[0;32mreturn\u001b[0m \u001b[0m_wrapped\u001b[0m\u001b[0;34m\u001b[0m\u001b[0;34m\u001b[0m\u001b[0m\n\u001b[1;32m     70\u001b[0m     \u001b[0;32mreturn\u001b[0m \u001b[0m_wrapper\u001b[0m\u001b[0;34m\u001b[0m\u001b[0;34m\u001b[0m\u001b[0m\n",
      "\u001b[0;32m~/anaconda3/lib/python3.8/site-packages/elasticsearch/client/__init__.py\u001b[0m in \u001b[0;36mbulk\u001b[0;34m(self, body, index, doc_type, params)\u001b[0m\n\u001b[1;32m    708\u001b[0m         \u001b[0;32mif\u001b[0m \u001b[0mbody\u001b[0m \u001b[0;32min\u001b[0m \u001b[0mSKIP_IN_PATH\u001b[0m\u001b[0;34m:\u001b[0m\u001b[0;34m\u001b[0m\u001b[0;34m\u001b[0m\u001b[0m\n\u001b[1;32m    709\u001b[0m             \u001b[0;32mraise\u001b[0m \u001b[0mValueError\u001b[0m\u001b[0;34m(\u001b[0m\u001b[0;34m\"Empty value passed for a required argument 'body'.\"\u001b[0m\u001b[0;34m)\u001b[0m\u001b[0;34m\u001b[0m\u001b[0;34m\u001b[0m\u001b[0m\n\u001b[0;32m--> 710\u001b[0;31m         _, data = self.transport.perform_request('POST', _make_path(index, doc_type, '_bulk'),\n\u001b[0m\u001b[1;32m    711\u001b[0m             params=params, body=self._bulk_body(body))\n\u001b[1;32m    712\u001b[0m         \u001b[0;32mreturn\u001b[0m \u001b[0mdata\u001b[0m\u001b[0;34m\u001b[0m\u001b[0;34m\u001b[0m\u001b[0m\n",
      "\u001b[0;32m~/anaconda3/lib/python3.8/site-packages/elasticsearch/transport.py\u001b[0m in \u001b[0;36mperform_request\u001b[0;34m(self, method, url, params, body)\u001b[0m\n\u001b[1;32m    305\u001b[0m \u001b[0;34m\u001b[0m\u001b[0m\n\u001b[1;32m    306\u001b[0m             \u001b[0;32mtry\u001b[0m\u001b[0;34m:\u001b[0m\u001b[0;34m\u001b[0m\u001b[0;34m\u001b[0m\u001b[0m\n\u001b[0;32m--> 307\u001b[0;31m                 \u001b[0mstatus\u001b[0m\u001b[0;34m,\u001b[0m \u001b[0mheaders\u001b[0m\u001b[0;34m,\u001b[0m \u001b[0mdata\u001b[0m \u001b[0;34m=\u001b[0m \u001b[0mconnection\u001b[0m\u001b[0;34m.\u001b[0m\u001b[0mperform_request\u001b[0m\u001b[0;34m(\u001b[0m\u001b[0mmethod\u001b[0m\u001b[0;34m,\u001b[0m \u001b[0murl\u001b[0m\u001b[0;34m,\u001b[0m \u001b[0mparams\u001b[0m\u001b[0;34m,\u001b[0m \u001b[0mbody\u001b[0m\u001b[0;34m,\u001b[0m \u001b[0mignore\u001b[0m\u001b[0;34m=\u001b[0m\u001b[0mignore\u001b[0m\u001b[0;34m,\u001b[0m \u001b[0mtimeout\u001b[0m\u001b[0;34m=\u001b[0m\u001b[0mtimeout\u001b[0m\u001b[0;34m)\u001b[0m\u001b[0;34m\u001b[0m\u001b[0;34m\u001b[0m\u001b[0m\n\u001b[0m\u001b[1;32m    308\u001b[0m \u001b[0;34m\u001b[0m\u001b[0m\n\u001b[1;32m    309\u001b[0m             \u001b[0;32mexcept\u001b[0m \u001b[0mTransportError\u001b[0m \u001b[0;32mas\u001b[0m \u001b[0me\u001b[0m\u001b[0;34m:\u001b[0m\u001b[0;34m\u001b[0m\u001b[0;34m\u001b[0m\u001b[0m\n",
      "\u001b[0;32m~/anaconda3/lib/python3.8/site-packages/elasticsearch/connection/http_urllib3.py\u001b[0m in \u001b[0;36mperform_request\u001b[0;34m(self, method, url, params, body, timeout, ignore)\u001b[0m\n\u001b[1;32m     84\u001b[0m         \u001b[0;32mif\u001b[0m \u001b[0;32mnot\u001b[0m \u001b[0;34m(\u001b[0m\u001b[0;36m200\u001b[0m \u001b[0;34m<=\u001b[0m \u001b[0mresponse\u001b[0m\u001b[0;34m.\u001b[0m\u001b[0mstatus\u001b[0m \u001b[0;34m<\u001b[0m \u001b[0;36m300\u001b[0m\u001b[0;34m)\u001b[0m \u001b[0;32mand\u001b[0m \u001b[0mresponse\u001b[0m\u001b[0;34m.\u001b[0m\u001b[0mstatus\u001b[0m \u001b[0;32mnot\u001b[0m \u001b[0;32min\u001b[0m \u001b[0mignore\u001b[0m\u001b[0;34m:\u001b[0m\u001b[0;34m\u001b[0m\u001b[0;34m\u001b[0m\u001b[0m\n\u001b[1;32m     85\u001b[0m             \u001b[0mself\u001b[0m\u001b[0;34m.\u001b[0m\u001b[0mlog_request_fail\u001b[0m\u001b[0;34m(\u001b[0m\u001b[0mmethod\u001b[0m\u001b[0;34m,\u001b[0m \u001b[0murl\u001b[0m\u001b[0;34m,\u001b[0m \u001b[0mbody\u001b[0m\u001b[0;34m,\u001b[0m \u001b[0mduration\u001b[0m\u001b[0;34m,\u001b[0m \u001b[0mresponse\u001b[0m\u001b[0;34m.\u001b[0m\u001b[0mstatus\u001b[0m\u001b[0;34m)\u001b[0m\u001b[0;34m\u001b[0m\u001b[0;34m\u001b[0m\u001b[0m\n\u001b[0;32m---> 86\u001b[0;31m             \u001b[0mself\u001b[0m\u001b[0;34m.\u001b[0m\u001b[0m_raise_error\u001b[0m\u001b[0;34m(\u001b[0m\u001b[0mresponse\u001b[0m\u001b[0;34m.\u001b[0m\u001b[0mstatus\u001b[0m\u001b[0;34m,\u001b[0m \u001b[0mraw_data\u001b[0m\u001b[0;34m)\u001b[0m\u001b[0;34m\u001b[0m\u001b[0;34m\u001b[0m\u001b[0m\n\u001b[0m\u001b[1;32m     87\u001b[0m \u001b[0;34m\u001b[0m\u001b[0m\n\u001b[1;32m     88\u001b[0m         self.log_request_success(method, full_url, url, body, response.status,\n",
      "\u001b[0;32m~/anaconda3/lib/python3.8/site-packages/elasticsearch/connection/base.py\u001b[0m in \u001b[0;36m_raise_error\u001b[0;34m(self, status_code, raw_data)\u001b[0m\n\u001b[1;32m    100\u001b[0m             \u001b[0;32mpass\u001b[0m\u001b[0;34m\u001b[0m\u001b[0;34m\u001b[0m\u001b[0m\n\u001b[1;32m    101\u001b[0m \u001b[0;34m\u001b[0m\u001b[0m\n\u001b[0;32m--> 102\u001b[0;31m         \u001b[0;32mraise\u001b[0m \u001b[0mHTTP_EXCEPTIONS\u001b[0m\u001b[0;34m.\u001b[0m\u001b[0mget\u001b[0m\u001b[0;34m(\u001b[0m\u001b[0mstatus_code\u001b[0m\u001b[0;34m,\u001b[0m \u001b[0mTransportError\u001b[0m\u001b[0;34m)\u001b[0m\u001b[0;34m(\u001b[0m\u001b[0mstatus_code\u001b[0m\u001b[0;34m,\u001b[0m \u001b[0merror_message\u001b[0m\u001b[0;34m,\u001b[0m \u001b[0madditional_info\u001b[0m\u001b[0;34m)\u001b[0m\u001b[0;34m\u001b[0m\u001b[0;34m\u001b[0m\u001b[0m\n\u001b[0m\u001b[1;32m    103\u001b[0m \u001b[0;34m\u001b[0m\u001b[0m\n\u001b[1;32m    104\u001b[0m \u001b[0;34m\u001b[0m\u001b[0m\n",
      "\u001b[0;31mTransportError\u001b[0m: TransportError(406, 'Content-Type header [] is not supported')"
     ]
    }
   ],
   "source": [
    "with open('DNPBA2017_es.csv') as f:\n",
    "    reader = csv.DictReader(f)\n",
    "    helpers.bulk(es, reader, index='my-index', doc_type='my-type')\n",
    "    \n",
    "# ler indices no linux com: curl 'localhost:9200/_cat/indices?v'"
   ]
  },
  {
   "cell_type": "markdown",
   "metadata": {},
   "source": [
    "### buscando termo"
   ]
  },
  {
   "cell_type": "code",
   "execution_count": 66,
   "metadata": {},
   "outputs": [],
   "source": [
    "content = {\n",
    "    \"query\": {\n",
    "        \"term\": {\n",
    "            \"CODESTAB\": \"2786095\"\n",
    "         }\n",
    "     },\n",
    "}"
   ]
  },
  {
   "cell_type": "code",
   "execution_count": 67,
   "metadata": {},
   "outputs": [],
   "source": [
    "res = es.search(index=\"my-index\", body=content)"
   ]
  },
  {
   "cell_type": "code",
   "execution_count": 68,
   "metadata": {},
   "outputs": [
    {
     "data": {
      "text/plain": [
       "{u'_shards': {u'failed': 0, u'skipped': 0, u'successful': 1, u'total': 1},\n",
       " u'hits': {u'hits': [{u'_id': u'H8atyW8BbundlQk4fUZA',\n",
       "    u'_index': u'my-index',\n",
       "    u'_score': 2.6390574,\n",
       "    u'_source': {u'CODESTAB': u'2786095',\n",
       "     u'ESCMAEAGR1': u'01',\n",
       "     u'IDADEMAE': u'25',\n",
       "     u'NUMERODN': u'72390242'},\n",
       "    u'_type': u'my-type'}],\n",
       "  u'max_score': 2.6390574,\n",
       "  u'total': {u'relation': u'eq', u'value': 1}},\n",
       " u'timed_out': False,\n",
       " u'took': 1}"
      ]
     },
     "execution_count": 68,
     "metadata": {},
     "output_type": "execute_result"
    }
   ],
   "source": [
    "res"
   ]
  },
  {
   "cell_type": "markdown",
   "metadata": {},
   "source": [
    "### buscando um intervalo"
   ]
  },
  {
   "cell_type": "code",
   "execution_count": 71,
   "metadata": {},
   "outputs": [],
   "source": [
    "content = {\n",
    "    \"query\": {\n",
    "        \"range\": {\n",
    "            \"IDADEMAE\": {\n",
    "                \"gte\": 20,\n",
    "                \"lt\": 30\n",
    "            }\n",
    "        }\n",
    "    }\n",
    "}"
   ]
  },
  {
   "cell_type": "code",
   "execution_count": 72,
   "metadata": {},
   "outputs": [],
   "source": [
    "res = es.search(index=\"my-index\", body=content)"
   ]
  },
  {
   "cell_type": "code",
   "execution_count": 73,
   "metadata": {},
   "outputs": [
    {
     "data": {
      "text/plain": [
       "{u'_shards': {u'failed': 0, u'skipped': 0, u'successful': 1, u'total': 1},\n",
       " u'hits': {u'hits': [{u'_id': u'H8atyW8BbundlQk4fUZA',\n",
       "    u'_index': u'my-index',\n",
       "    u'_score': 1.0,\n",
       "    u'_source': {u'CODESTAB': u'2786095',\n",
       "     u'ESCMAEAGR1': u'01',\n",
       "     u'IDADEMAE': u'25',\n",
       "     u'NUMERODN': u'72390242'},\n",
       "    u'_type': u'my-type'},\n",
       "   {u'_id': u'IMatyW8BbundlQk4fUZB',\n",
       "    u'_index': u'my-index',\n",
       "    u'_score': 1.0,\n",
       "    u'_source': {u'CODESTAB': u'NA',\n",
       "     u'ESCMAEAGR1': u'02',\n",
       "     u'IDADEMAE': u'20',\n",
       "     u'NUMERODN': u'72396320'},\n",
       "    u'_type': u'my-type'},\n",
       "   {u'_id': u'IcatyW8BbundlQk4fUZB',\n",
       "    u'_index': u'my-index',\n",
       "    u'_score': 1.0,\n",
       "    u'_source': {u'CODESTAB': u'NA',\n",
       "     u'ESCMAEAGR1': u'04',\n",
       "     u'IDADEMAE': u'20',\n",
       "     u'NUMERODN': u'72374657'},\n",
       "    u'_type': u'my-type'},\n",
       "   {u'_id': u'IsatyW8BbundlQk4fUZB',\n",
       "    u'_index': u'my-index',\n",
       "    u'_score': 1.0,\n",
       "    u'_source': {u'CODESTAB': u'2755157',\n",
       "     u'ESCMAEAGR1': u'06',\n",
       "     u'IDADEMAE': u'28',\n",
       "     u'NUMERODN': u'72376065'},\n",
       "    u'_type': u'my-type'},\n",
       "   {u'_id': u'JMatyW8BbundlQk4fUZB',\n",
       "    u'_index': u'my-index',\n",
       "    u'_score': 1.0,\n",
       "    u'_source': {u'CODESTAB': u'2755157',\n",
       "     u'ESCMAEAGR1': u'12',\n",
       "     u'IDADEMAE': u'23',\n",
       "     u'NUMERODN': u'72391035'},\n",
       "    u'_type': u'my-type'},\n",
       "   {u'_id': u'KsatyW8BbundlQk4fUZB',\n",
       "    u'_index': u'my-index',\n",
       "    u'_score': 1.0,\n",
       "    u'_source': {u'CODESTAB': u'2777770',\n",
       "     u'ESCMAEAGR1': u'06',\n",
       "     u'IDADEMAE': u'28',\n",
       "     u'NUMERODN': u'69726554'},\n",
       "    u'_type': u'my-type'},\n",
       "   {u'_id': u'LMatyW8BbundlQk4fUZB',\n",
       "    u'_index': u'my-index',\n",
       "    u'_score': 1.0,\n",
       "    u'_source': {u'CODESTAB': u'2777770',\n",
       "     u'ESCMAEAGR1': u'06',\n",
       "     u'IDADEMAE': u'21',\n",
       "     u'NUMERODN': u'69726563'},\n",
       "    u'_type': u'my-type'},\n",
       "   {u'_id': u'MMatyW8BbundlQk4fUZB',\n",
       "    u'_index': u'my-index',\n",
       "    u'_score': 1.0,\n",
       "    u'_source': {u'CODESTAB': u'2365146',\n",
       "     u'ESCMAEAGR1': u'05',\n",
       "     u'IDADEMAE': u'24',\n",
       "     u'NUMERODN': u'71680495'},\n",
       "    u'_type': u'my-type'}],\n",
       "  u'max_score': 1.0,\n",
       "  u'total': {u'relation': u'eq', u'value': 8}},\n",
       " u'timed_out': False,\n",
       " u'took': 31}"
      ]
     },
     "execution_count": 73,
     "metadata": {},
     "output_type": "execute_result"
    }
   ],
   "source": [
    "res"
   ]
  },
  {
   "cell_type": "markdown",
   "metadata": {},
   "source": [
    "### busca lógica"
   ]
  },
  {
   "cell_type": "code",
   "execution_count": 75,
   "metadata": {},
   "outputs": [],
   "source": [
    "content = {\n",
    "    \"query\": {\n",
    "        \"bool\": {\n",
    "            \"must\": [\n",
    "                {\n",
    "                    \"term\": {\n",
    "                        \"IDADEMAE\": 21\n",
    "                    }\n",
    "                },\n",
    "                {\n",
    "                    \"term\": {\n",
    "                        \"ESCMAEAGR1\": \"06\"\n",
    "                    }\n",
    "                }\n",
    "            ]\n",
    "        }\n",
    "    }\n",
    "}"
   ]
  },
  {
   "cell_type": "code",
   "execution_count": 76,
   "metadata": {},
   "outputs": [],
   "source": [
    "res = es.search(index=\"my-index\", body=content)"
   ]
  },
  {
   "cell_type": "code",
   "execution_count": 77,
   "metadata": {},
   "outputs": [
    {
     "data": {
      "text/plain": [
       "{u'_shards': {u'failed': 0, u'skipped': 0, u'successful': 1, u'total': 1},\n",
       " u'hits': {u'hits': [{u'_id': u'LMatyW8BbundlQk4fUZB',\n",
       "    u'_index': u'my-index',\n",
       "    u'_score': 3.6686769,\n",
       "    u'_source': {u'CODESTAB': u'2777770',\n",
       "     u'ESCMAEAGR1': u'06',\n",
       "     u'IDADEMAE': u'21',\n",
       "     u'NUMERODN': u'69726563'},\n",
       "    u'_type': u'my-type'}],\n",
       "  u'max_score': 3.6686769,\n",
       "  u'total': {u'relation': u'eq', u'value': 1}},\n",
       " u'timed_out': False,\n",
       " u'took': 5}"
      ]
     },
     "execution_count": 77,
     "metadata": {},
     "output_type": "execute_result"
    }
   ],
   "source": [
    "res"
   ]
  },
  {
   "cell_type": "markdown",
   "metadata": {},
   "source": [
    "### searching methods"
   ]
  },
  {
   "cell_type": "code",
   "execution_count": 46,
   "metadata": {},
   "outputs": [],
   "source": [
    "def buscaExata(numerodn, codestab, idademae, escmaeagr1, startId=0): \n",
    "    \n",
    "    global es\n",
    "    \n",
    "    content = {\n",
    "        'size': 30,\n",
    "        'query': {\n",
    "            'bool': {\n",
    "                'must': [\n",
    "                    {'match_phrase': {'NUMERODN': '\"' + numerodn + '\"'}},\n",
    "                    {'match_phrase': {'CODESTAB': '\"' + codestab + '\"'}}, \n",
    "                    {'match': {'IDADEMAE': idademae}},\n",
    "                    {'match': {'ESCMAEAGR1': escmaeagr1}}\n",
    "                ]\n",
    "            }\n",
    "        }\n",
    "    }\n",
    "    force = True\n",
    "    while force:\n",
    "        try:\n",
    "            res = es.search(index=\"my-index\", body=content)\n",
    "            force = False\n",
    "        except:\n",
    "            pass\n",
    "    return res['hits']['hits']"
   ]
  },
  {
   "cell_type": "code",
   "execution_count": 52,
   "metadata": {},
   "outputs": [],
   "source": [
    "def buscaAproximada(numerodn, codestab, idademae, escmaeagr1, startId=0):\n",
    "    \n",
    "    global es\n",
    "    \n",
    "    content = {\n",
    "        'size': 100,\n",
    "        'query': {\n",
    "            'bool': {\n",
    "                'should': [\n",
    "                    {'match': {'NUMERODN': {'query': numerodn, 'fuzziness':'AUTO', 'operator':'or', 'boost':'2'}}},\n",
    "                    {'match': {'CODESTAB': {'query': codestab, 'fuzziness':'AUTO', 'operator':'or', 'boost':'2'}}},\n",
    "                    {'match': {'IDADEMAE': {'query': idademae, 'fuzziness':'AUTO', 'operator':'or', 'boost':'0.5'}}},\n",
    "                    {'match': {'ESCMAEAGR1': {'query': escmaeagr1, 'fuzziness':'AUTO', 'operator':'or'}}}\n",
    "                ]\n",
    "            }\n",
    "        }\n",
    "    }\n",
    "    force = True\n",
    "    while force:\n",
    "        try:\n",
    "            res = es.search(index=\"my-index\", body=content)\n",
    "            force = False\n",
    "        except:\n",
    "            pass\n",
    "    return res['hits']['hits']"
   ]
  },
  {
   "cell_type": "code",
   "execution_count": 53,
   "metadata": {},
   "outputs": [
    {
     "data": {
      "text/plain": [
       "[{u'_id': u'H8atyW8BbundlQk4fUZA',\n",
       "  u'_index': u'my-index',\n",
       "  u'_score': 10.55623,\n",
       "  u'_source': {u'CODESTAB': u'2786095',\n",
       "   u'ESCMAEAGR1': u'01',\n",
       "   u'IDADEMAE': u'25',\n",
       "   u'NUMERODN': u'72390242'},\n",
       "  u'_type': u'my-type'}]"
      ]
     },
     "execution_count": 53,
     "metadata": {},
     "output_type": "execute_result"
    }
   ],
   "source": [
    "buscaExata(\"72390242\", \"2786095\", \"25\", \"01\")"
   ]
  },
  {
   "cell_type": "code",
   "execution_count": 63,
   "metadata": {},
   "outputs": [
    {
     "data": {
      "text/plain": [
       "[]"
      ]
     },
     "execution_count": 63,
     "metadata": {},
     "output_type": "execute_result"
    }
   ],
   "source": [
    "# um campo modificado (note que o retorno é vazio)\n",
    "buscaExata(\"72390242\", \"2786095\", \"33\", \"01\")"
   ]
  },
  {
   "cell_type": "code",
   "execution_count": 57,
   "metadata": {},
   "outputs": [
    {
     "data": {
      "text/plain": [
       "[{u'_id': u'H8atyW8BbundlQk4fUZA',\n",
       "  u'_index': u'my-index',\n",
       "  u'_score': 9.236701,\n",
       "  u'_source': {u'CODESTAB': u'2786095',\n",
       "   u'ESCMAEAGR1': u'01',\n",
       "   u'IDADEMAE': u'25',\n",
       "   u'NUMERODN': u'72390242'},\n",
       "  u'_type': u'my-type'},\n",
       " {u'_id': u'I8atyW8BbundlQk4fUZB',\n",
       "  u'_index': u'my-index',\n",
       "  u'_score': 5.278115,\n",
       "  u'_source': {u'CODESTAB': u'7373120',\n",
       "   u'ESCMAEAGR1': u'12',\n",
       "   u'IDADEMAE': u'34',\n",
       "   u'NUMERODN': u'72392109'},\n",
       "  u'_type': u'my-type'}]"
      ]
     },
     "execution_count": 57,
     "metadata": {},
     "output_type": "execute_result"
    }
   ],
   "source": [
    "buscaAproximada(\"72390242\", \"2786095\", \"25\", \"01\")"
   ]
  },
  {
   "cell_type": "code",
   "execution_count": 65,
   "metadata": {},
   "outputs": [
    {
     "data": {
      "text/plain": [
       "[{u'_id': u'H8atyW8BbundlQk4fUZA',\n",
       "  u'_index': u'my-index',\n",
       "  u'_score': 13.195287,\n",
       "  u'_source': {u'CODESTAB': u'2786095',\n",
       "   u'ESCMAEAGR1': u'01',\n",
       "   u'IDADEMAE': u'25',\n",
       "   u'NUMERODN': u'72390242'},\n",
       "  u'_type': u'my-type'},\n",
       " {u'_id': u'KMatyW8BbundlQk4fUZB',\n",
       "  u'_index': u'my-index',\n",
       "  u'_score': 1.0641159,\n",
       "  u'_source': {u'CODESTAB': u'2777770',\n",
       "   u'ESCMAEAGR1': u'08',\n",
       "   u'IDADEMAE': u'33',\n",
       "   u'NUMERODN': u'69726416'},\n",
       "  u'_type': u'my-type'},\n",
       " {u'_id': u'KcatyW8BbundlQk4fUZB',\n",
       "  u'_index': u'my-index',\n",
       "  u'_score': 1.0641159,\n",
       "  u'_source': {u'CODESTAB': u'2777770',\n",
       "   u'ESCMAEAGR1': u'06',\n",
       "   u'IDADEMAE': u'33',\n",
       "   u'NUMERODN': u'69726448'},\n",
       "  u'_type': u'my-type'}]"
      ]
     },
     "execution_count": 65,
     "metadata": {},
     "output_type": "execute_result"
    }
   ],
   "source": [
    "# # um campo modificado (mais de um candidato é retornado)\n",
    "buscaAproximada(\"72390242\", \"2786095\", \"33\", \"01\")"
   ]
  },
  {
   "cell_type": "code",
   "execution_count": 62,
   "metadata": {},
   "outputs": [
    {
     "name": "stdout",
     "output_type": "stream",
     "text": [
      "3\n"
     ]
    }
   ],
   "source": [
    "print len(buscaAproximada(\"72390242\", \"2786095\", \"33\", \"01\"))"
   ]
  }
 ],
 "metadata": {
  "kernelspec": {
   "display_name": "Python 3",
   "language": "python",
   "name": "python3"
  },
  "language_info": {
   "codemirror_mode": {
    "name": "ipython",
    "version": 3
   },
   "file_extension": ".py",
   "mimetype": "text/x-python",
   "name": "python",
   "nbconvert_exporter": "python",
   "pygments_lexer": "ipython3",
   "version": "3.8.5"
  }
 },
 "nbformat": 4,
 "nbformat_minor": 2
}
