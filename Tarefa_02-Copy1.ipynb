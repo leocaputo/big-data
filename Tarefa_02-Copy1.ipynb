{
 "cells": [
  {
   "cell_type": "code",
   "execution_count": 96,
   "metadata": {},
   "outputs": [],
   "source": [
    "#Fundamentos em Big Data\n",
    "#Tarefa 02\n",
    "#Aluno: Leandro Ariel Caputo\n",
    "#31/01/2021"
   ]
  },
  {
   "cell_type": "code",
   "execution_count": 97,
   "metadata": {},
   "outputs": [],
   "source": [
    "from pyspark.sql import SparkSession\n",
    "import pyspark.sql.functions as F\n",
    "from pyspark.sql.types import StringType\n",
    "from pyspark.sql.types import IntegerType"
   ]
  },
  {
   "cell_type": "code",
   "execution_count": 98,
   "metadata": {},
   "outputs": [],
   "source": [
    "spark = SparkSession.builder \\\n",
    "                    .appName(\"Tarefa_02\") \\\n",
    "                    .config(\"spark.some.config.option\", \"some-value\") \\\n",
    "                    .getOrCreate()"
   ]
  },
  {
   "cell_type": "code",
   "execution_count": 99,
   "metadata": {},
   "outputs": [],
   "source": [
    "#Tabelas Nascidos Vivos e Municipios IBGE\n",
    "df = spark.read.csv('DNPBA2017.csv', header=True)\n",
    "df2 = spark.read.csv('RELATORIO_DTB_BRASIL_MUNICIPIO.csv', header=True, encoding='ISO-8859-1')"
   ]
  },
  {
   "cell_type": "code",
   "execution_count": 100,
   "metadata": {},
   "outputs": [
    {
     "name": "stdout",
     "output_type": "stream",
     "text": [
      "root\n",
      " |-- _c0: string (nullable = true)\n",
      " |-- NUMERODN: string (nullable = true)\n",
      " |-- CODINST: string (nullable = true)\n",
      " |-- ORIGEM: string (nullable = true)\n",
      " |-- NUMERODV: string (nullable = true)\n",
      " |-- PREFIXODN: string (nullable = true)\n",
      " |-- CODESTAB: string (nullable = true)\n",
      " |-- CODMUNNASC: string (nullable = true)\n",
      " |-- LOCNASC: string (nullable = true)\n",
      " |-- IDADEMAE: string (nullable = true)\n",
      " |-- ESTCIVMAE: string (nullable = true)\n",
      " |-- ESCMAE: string (nullable = true)\n",
      " |-- CODOCUPMAE: string (nullable = true)\n",
      " |-- QTDFILVIVO: string (nullable = true)\n",
      " |-- QTDFILMORT: string (nullable = true)\n",
      " |-- CODMUNRES: string (nullable = true)\n",
      " |-- GESTACAO: string (nullable = true)\n",
      " |-- GRAVIDEZ: string (nullable = true)\n",
      " |-- PARTO: string (nullable = true)\n",
      " |-- CONSULTAS: string (nullable = true)\n",
      " |-- DTNASC: string (nullable = true)\n",
      " |-- HORANASC: string (nullable = true)\n",
      " |-- SEXO: string (nullable = true)\n",
      " |-- APGAR1: string (nullable = true)\n",
      " |-- APGAR5: string (nullable = true)\n",
      " |-- RACACOR: string (nullable = true)\n",
      " |-- PESO: string (nullable = true)\n",
      " |-- IDANOMAL: string (nullable = true)\n",
      " |-- DTCADASTRO: string (nullable = true)\n",
      " |-- CODANOMAL: string (nullable = true)\n",
      " |-- NUMEROLOTE: string (nullable = true)\n",
      " |-- VERSAOSIST: string (nullable = true)\n",
      " |-- DTRECEBIM: string (nullable = true)\n",
      " |-- DIFDATA: string (nullable = true)\n",
      " |-- DTRECORIGA: string (nullable = true)\n",
      " |-- NATURALMAE: string (nullable = true)\n",
      " |-- CODMUNNATU: string (nullable = true)\n",
      " |-- CODUFNATU: string (nullable = true)\n",
      " |-- ESCMAE2010: string (nullable = true)\n",
      " |-- SERIESCMAE: string (nullable = true)\n",
      " |-- DTNASCMAE: string (nullable = true)\n",
      " |-- RACACORMAE: string (nullable = true)\n",
      " |-- QTDGESTANT: string (nullable = true)\n",
      " |-- QTDPARTNOR: string (nullable = true)\n",
      " |-- QTDPARTCES: string (nullable = true)\n",
      " |-- IDADEPAI: string (nullable = true)\n",
      " |-- DTULTMENST: string (nullable = true)\n",
      " |-- SEMAGESTAC: string (nullable = true)\n",
      " |-- TPMETESTIM: string (nullable = true)\n",
      " |-- CONSPRENAT: string (nullable = true)\n",
      " |-- MESPRENAT: string (nullable = true)\n",
      " |-- TPAPRESENT: string (nullable = true)\n",
      " |-- STTRABPART: string (nullable = true)\n",
      " |-- STCESPARTO: string (nullable = true)\n",
      " |-- TPNASCASSI: string (nullable = true)\n",
      " |-- TPFUNCRESP: string (nullable = true)\n",
      " |-- TPDOCRESP: string (nullable = true)\n",
      " |-- DTDECLARAC: string (nullable = true)\n",
      " |-- ESCMAEAGR1: string (nullable = true)\n",
      " |-- STDNEPIDEM: string (nullable = true)\n",
      " |-- STDNNOVA: string (nullable = true)\n",
      " |-- CODPAISRES: string (nullable = true)\n",
      " |-- TPROBSON: string (nullable = true)\n",
      " |-- PARIDADE: string (nullable = true)\n",
      " |-- KOTELCHUCK: string (nullable = true)\n",
      "\n"
     ]
    }
   ],
   "source": [
    "df.printSchema()"
   ]
  },
  {
   "cell_type": "code",
   "execution_count": 101,
   "metadata": {},
   "outputs": [
    {
     "name": "stdout",
     "output_type": "stream",
     "text": [
      "root\n",
      " |-- UF: string (nullable = true)\n",
      " |-- Nome_UF: string (nullable = true)\n",
      " |-- Mesorregião Geográfica: string (nullable = true)\n",
      " |-- Nome_Mesorregião: string (nullable = true)\n",
      " |-- Microrregião Geográfica: string (nullable = true)\n",
      " |-- Nome_Microrregião: string (nullable = true)\n",
      " |-- Município: string (nullable = true)\n",
      " |-- Código Município Completo: string (nullable = true)\n",
      " |-- Nome_Município: string (nullable = true)\n",
      "\n"
     ]
    }
   ],
   "source": [
    "df2.printSchema()"
   ]
  },
  {
   "cell_type": "code",
   "execution_count": 102,
   "metadata": {},
   "outputs": [],
   "source": [
    "#Criando coluna com código de municipio de 6 digitos\n",
    "df2 = df2.withColumn('COD_MUN', F.substring(F.col('Código Município Completo'), 1,6))"
   ]
  },
  {
   "cell_type": "code",
   "execution_count": 103,
   "metadata": {},
   "outputs": [
    {
     "name": "stdout",
     "output_type": "stream",
     "text": [
      "+-------+--------------------+\n",
      "|COD_MUN|            NOME_MUN|\n",
      "+-------+--------------------+\n",
      "| 110001|Alta Floresta D'O...|\n",
      "| 110037|Alto Alegre dos P...|\n",
      "| 110040|        Alto Paraíso|\n",
      "| 110034|    Alvorada D'Oeste|\n",
      "| 110002|           Ariquemes|\n",
      "+-------+--------------------+\n",
      "only showing top 5 rows\n",
      "\n"
     ]
    }
   ],
   "source": [
    "#Tabela Final Apenas com Códigos e Nomes dos Municipios\n",
    "df2 = df2.withColumnRenamed('Nome_Município','NOME_MUN')\n",
    "df2 = df2.select('COD_MUN','NOME_MUN')\n",
    "df2.show(5)"
   ]
  },
  {
   "cell_type": "code",
   "execution_count": 104,
   "metadata": {},
   "outputs": [],
   "source": [
    "#Inner Join das Tabelas com base no código do municipio de nascimento\n",
    "df = df.join(df2,df.CODMUNNASC==df2.COD_MUN)"
   ]
  },
  {
   "cell_type": "code",
   "execution_count": 105,
   "metadata": {},
   "outputs": [],
   "source": [
    "df = df.withColumnRenamed('NOME_MUN','NOME_MUN_NASC')\n",
    "df = df.drop('COD_MUN')"
   ]
  },
  {
   "cell_type": "code",
   "execution_count": 106,
   "metadata": {},
   "outputs": [
    {
     "name": "stdout",
     "output_type": "stream",
     "text": [
      "+----------+--------------------+\n",
      "|CODMUNNASC|       NOME_MUN_NASC|\n",
      "+----------+--------------------+\n",
      "|    170700|          Dianópolis|\n",
      "|    291110|Formosa do Rio Preto|\n",
      "|    171890|Santa Rosa do Toc...|\n",
      "|    172100|              Palmas|\n",
      "|    172100|              Palmas|\n",
      "+----------+--------------------+\n",
      "only showing top 5 rows\n",
      "\n"
     ]
    }
   ],
   "source": [
    "df.select('CODMUNNASC','NOME_MUN_NASC').show(5)"
   ]
  },
  {
   "cell_type": "code",
   "execution_count": 107,
   "metadata": {},
   "outputs": [
    {
     "data": {
      "text/plain": [
       "Row(_c0='1', NUMERODN='72390242', CODINST='ETO1721000001', ORIGEM='1', NUMERODV='0', PREFIXODN='30', CODESTAB='2786095', CODMUNNASC='170700', LOCNASC='1', IDADEMAE='25', ESTCIVMAE='5', ESCMAE='2', CODOCUPMAE='NA', QTDFILVIVO='04', QTDFILMORT='00', CODMUNRES='291110', GESTACAO='5', GRAVIDEZ='1', PARTO='1', CONSULTAS='2', DTNASC='24012017', HORANASC='0245', SEXO='1', APGAR1='08', APGAR5='09', RACACOR='4', PESO='3150', IDANOMAL='2', DTCADASTRO='14022017', CODANOMAL='NA', NUMEROLOTE='20170021', VERSAOSIST='3.2.00', DTRECEBIM='10042017', DIFDATA='076', DTRECORIGA='NA', NATURALMAE='829', CODMUNNATU='291110', CODUFNATU='29', ESCMAE2010='1', SERIESCMAE='3', DTNASCMAE='10061991', RACACORMAE='4', QTDGESTANT='04', QTDPARTNOR='04', QTDPARTCES='00', IDADEPAI='33', DTULTMENST='05052016', SEMAGESTAC='37', TPMETESTIM='8', CONSPRENAT='03', MESPRENAT='02', TPAPRESENT='1', STTRABPART='2', STCESPARTO='3', TPNASCASSI='2', TPFUNCRESP='2', TPDOCRESP='3', DTDECLARAC='24012017', ESCMAEAGR1='01', STDNEPIDEM='0', STDNNOVA='1', CODPAISRES='NA', TPROBSON='03', PARIDADE='1', KOTELCHUCK='3', NOME_MUN_NASC='Dianópolis')"
      ]
     },
     "execution_count": 107,
     "metadata": {},
     "output_type": "execute_result"
    }
   ],
   "source": [
    "df.first()"
   ]
  },
  {
   "cell_type": "code",
   "execution_count": null,
   "metadata": {},
   "outputs": [],
   "source": []
  }
 ],
 "metadata": {
  "kernelspec": {
   "display_name": "Python 3",
   "language": "python",
   "name": "python3"
  },
  "language_info": {
   "codemirror_mode": {
    "name": "ipython",
    "version": 3
   },
   "file_extension": ".py",
   "mimetype": "text/x-python",
   "name": "python",
   "nbconvert_exporter": "python",
   "pygments_lexer": "ipython3",
   "version": "3.8.5"
  }
 },
 "nbformat": 4,
 "nbformat_minor": 4
}
