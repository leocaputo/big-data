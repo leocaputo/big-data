{
 "cells": [
  {
   "cell_type": "code",
   "execution_count": 1,
   "metadata": {},
   "outputs": [],
   "source": [
    "#Fundamentos em Big Data\n",
    "#Tarefa 05\n",
    "#Aluno: Grupo 03\n",
    "#05/02/2021"
   ]
  },
  {
   "cell_type": "code",
   "execution_count": 2,
   "metadata": {},
   "outputs": [],
   "source": [
    "from pyspark.sql import SparkSession\n",
    "import pyspark.sql.functions as F\n",
    "from pyspark.sql.types import StringType\n",
    "from pyspark.sql.types import IntegerType"
   ]
  },
  {
   "cell_type": "code",
   "execution_count": 3,
   "metadata": {},
   "outputs": [],
   "source": [
    "spark = SparkSession.builder \\\n",
    "                    .appName(\"Tarefa_05\") \\\n",
    "                    .config(\"spark.some.config.option\", \"some-value\") \\\n",
    "                    .getOrCreate()"
   ]
  },
  {
   "cell_type": "code",
   "execution_count": 13,
   "metadata": {},
   "outputs": [],
   "source": [
    "#Criando dataframes a partir das tabelas CSVs\n",
    "df15 = spark.read.csv('DNBA2015.csv', header=True, encoding='ISO-8859-1')\n",
    "df16 = spark.read.csv('DNBA2016.csv', header=True, encoding='ISO-8859-1')\n",
    "df17 = spark.read.csv('DNBA2017.csv', header=True, encoding='ISO-8859-1')\n",
    "df18 = spark.read.csv('DNBA2018.csv', header=True, encoding='ISO-8859-1')\n",
    "df19 = spark.read.csv('DNBA2019.csv', header=True, encoding='ISO-8859-1')"
   ]
  },
  {
   "cell_type": "code",
   "execution_count": 81,
   "metadata": {},
   "outputs": [],
   "source": [
    "#Criando dataframe único\n",
    "df = df15.unionByName(df16)\n",
    "df = df.unionByName(df17)\n",
    "df = df.unionByName(df18)\n",
    "df = df.unionByName(df19)"
   ]
  },
  {
   "cell_type": "code",
   "execution_count": 82,
   "metadata": {},
   "outputs": [],
   "source": [
    "#Selecionando apenas as colunas de interese\n",
    "df = df.select('CODMUNNASC', 'IDADEMAE', 'SEXO', 'DTNASC').orderBy('DTNASC')"
   ]
  },
  {
   "cell_type": "code",
   "execution_count": 83,
   "metadata": {},
   "outputs": [],
   "source": [
    "#Criando coluna com o ano de nascimento\n",
    "df = df.withColumn('ANO', F.substring(F.col('DTNASC'), 5,4))"
   ]
  },
  {
   "cell_type": "code",
   "execution_count": 84,
   "metadata": {},
   "outputs": [],
   "source": [
    "#Código de Salvador=2905701\n",
    "df=df.filter(F.col('CODMUNNASC') == '290570')"
   ]
  },
  {
   "cell_type": "code",
   "execution_count": 72,
   "metadata": {},
   "outputs": [
    {
     "name": "stdout",
     "output_type": "stream",
     "text": [
      "+----------+--------+----+--------+----+\n",
      "|CODMUNNASC|IDADEMAE|SEXO|  DTNASC| ANO|\n",
      "+----------+--------+----+--------+----+\n",
      "|    290570|      19|   2|01012015|2015|\n",
      "|    290570|      25|   2|01012015|2015|\n",
      "|    290570|      31|   2|01012015|2015|\n",
      "+----------+--------+----+--------+----+\n",
      "only showing top 3 rows\n",
      "\n"
     ]
    }
   ],
   "source": [
    "df.show(3)"
   ]
  },
  {
   "cell_type": "code",
   "execution_count": 88,
   "metadata": {},
   "outputs": [],
   "source": [
    "df2=df.groupBy('ANO').count().orderBy('ANO')"
   ]
  },
  {
   "cell_type": "code",
   "execution_count": 89,
   "metadata": {},
   "outputs": [],
   "source": [
    "df2 = df2.withColumnRenamed('count', 'NASCIDOS')"
   ]
  },
  {
   "cell_type": "code",
   "execution_count": 90,
   "metadata": {
    "scrolled": true
   },
   "outputs": [
    {
     "name": "stdout",
     "output_type": "stream",
     "text": [
      "+----+--------+\n",
      "| ANO|NASCIDOS|\n",
      "+----+--------+\n",
      "|2015|    3247|\n",
      "|2016|    3026|\n",
      "|2017|    3219|\n",
      "|2018|    3247|\n",
      "|2019|    2691|\n",
      "+----+--------+\n",
      "\n"
     ]
    }
   ],
   "source": [
    "df2.show()"
   ]
  },
  {
   "cell_type": "code",
   "execution_count": 14,
   "metadata": {},
   "outputs": [],
   "source": [
    "#TABELA FINAL EXPORTADA PARA CSV\n",
    "df.repartition(1).write.csv('DNPBA2017_COM_NOMES.csv',header='True')"
   ]
  }
 ],
 "metadata": {
  "kernelspec": {
   "display_name": "Python 3",
   "language": "python",
   "name": "python3"
  },
  "language_info": {
   "codemirror_mode": {
    "name": "ipython",
    "version": 3
   },
   "file_extension": ".py",
   "mimetype": "text/x-python",
   "name": "python",
   "nbconvert_exporter": "python",
   "pygments_lexer": "ipython3",
   "version": "3.8.5"
  }
 },
 "nbformat": 4,
 "nbformat_minor": 4
}
